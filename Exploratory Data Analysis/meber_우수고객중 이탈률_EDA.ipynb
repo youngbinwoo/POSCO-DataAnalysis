{
 "cells": [
  {
   "cell_type": "code",
   "execution_count": 1,
   "metadata": {},
   "outputs": [],
   "source": [
    "import pandas as pd\n",
    "import matplotlib.pyplot as plt\n",
    "import matplotlib\n",
    "from sklearn.tree import export_graphviz\n",
    "import graphviz\n",
    "from sklearn.model_selection import train_test_split\n",
    "from sklearn.tree import DecisionTreeRegressor\n",
    "from sklearn.ensemble import RandomForestRegressor\n",
    "from sklearn.ensemble import GradientBoostingRegressor\n",
    "from sklearn.model_selection import GridSearchCV\n",
    "from sklearn.preprocessing import StandardScaler\n",
    "import seaborn as sns\n",
    "from matplotlib import font_manager, rc\n",
    "from matplotlib import style\n",
    "\n",
    "import numpy as np\n",
    "from scipy import stats\n",
    "import scipy.stats\n",
    "import statsmodels.api as sm\n",
    "import matplotlib.pyplot as plt\n",
    "from statsmodels.stats.proportion import proportions_ztest\n",
    "from scipy.stats import shapiro \n",
    "import statsmodels.formula.api as smf\n",
    "\n",
    "from sklearn.linear_model import LinearRegression\n",
    "from sklearn.metrics import mean_squared_error\n",
    "from sklearn.metrics import mean_absolute_error\n",
    "matplotlib.rc('font',family=\"NanumGothic\")\n",
    "\n",
    "from sklearn.preprocessing import StandardScaler\n",
    "from sklearn.decomposition import PCA\n",
    "import os\n",
    "\n",
    "from sklearn.tree import export_graphviz\n",
    "import graphviz\n",
    "from sklearn.model_selection import train_test_split\n",
    "from sklearn.tree import DecisionTreeClassifier\n",
    "from sklearn.model_selection import GridSearchCV\n",
    "from sklearn.metrics import confusion_matrix\n",
    "\n",
    "from catboost import CatBoostClassifier, Pool, cv\n",
    "from sklearn.metrics import accuracy_score\n",
    "\n",
    "from sklearn.tree import export_graphviz\n",
    "\n",
    "os.environ[\"PATH\"]+=os.pathsep+\"~\"\n",
    "matplotlib.rc('font',family=\"NanumGothic\")\n",
    "\n",
    "\n",
    "from matplotlib import font_manager, rc\n",
    "from matplotlib import style"
   ]
  },
  {
   "cell_type": "markdown",
   "metadata": {},
   "source": [
    "## 우수고객"
   ]
  },
  {
   "cell_type": "code",
   "execution_count": 45,
   "metadata": {},
   "outputs": [
    {
     "data": {
      "text/html": [
       "<div>\n",
       "<style scoped>\n",
       "    .dataframe tbody tr th:only-of-type {\n",
       "        vertical-align: middle;\n",
       "    }\n",
       "\n",
       "    .dataframe tbody tr th {\n",
       "        vertical-align: top;\n",
       "    }\n",
       "\n",
       "    .dataframe thead th {\n",
       "        text-align: right;\n",
       "    }\n",
       "</style>\n",
       "<table border=\"1\" class=\"dataframe\">\n",
       "  <thead>\n",
       "    <tr style=\"text-align: right;\">\n",
       "      <th></th>\n",
       "      <th>Unnamed: 0</th>\n",
       "      <th>주문자ID</th>\n",
       "      <th>우수고객</th>\n",
       "    </tr>\n",
       "  </thead>\n",
       "  <tbody>\n",
       "    <tr>\n",
       "      <th>0</th>\n",
       "      <td>NaN</td>\n",
       "      <td>pp209</td>\n",
       "      <td>True</td>\n",
       "    </tr>\n",
       "    <tr>\n",
       "      <th>1</th>\n",
       "      <td>NaN</td>\n",
       "      <td>arookee</td>\n",
       "      <td>True</td>\n",
       "    </tr>\n",
       "  </tbody>\n",
       "</table>\n",
       "</div>"
      ],
      "text/plain": [
       "   Unnamed: 0    주문자ID  우수고객\n",
       "0         NaN    pp209  True\n",
       "1         NaN  arookee  True"
      ]
     },
     "execution_count": 45,
     "metadata": {},
     "output_type": "execute_result"
    }
   ],
   "source": [
    "우수고객=pd.read_csv(\"우수고객정보.csv\")\n",
    "우수고객.head(2)"
   ]
  },
  {
   "cell_type": "markdown",
   "metadata": {},
   "source": [
    "# 다용도 컵"
   ]
  },
  {
   "cell_type": "code",
   "execution_count": 3,
   "metadata": {},
   "outputs": [
    {
     "data": {
      "text/html": [
       "<div>\n",
       "<style scoped>\n",
       "    .dataframe tbody tr th:only-of-type {\n",
       "        vertical-align: middle;\n",
       "    }\n",
       "\n",
       "    .dataframe tbody tr th {\n",
       "        vertical-align: top;\n",
       "    }\n",
       "\n",
       "    .dataframe thead th {\n",
       "        text-align: right;\n",
       "    }\n",
       "</style>\n",
       "<table border=\"1\" class=\"dataframe\">\n",
       "  <thead>\n",
       "    <tr style=\"text-align: right;\">\n",
       "      <th></th>\n",
       "      <th>Unnamed: 0</th>\n",
       "      <th>Unnamed: 1</th>\n",
       "      <th>Unnamed: 2</th>\n",
       "      <th>Unnamed: 3</th>\n",
       "      <th>인상전1</th>\n",
       "      <th>인상전2</th>\n",
       "      <th>Unnamed: 6</th>\n",
       "      <th>Unnamed: 7</th>\n",
       "      <th>Unnamed: 8</th>\n",
       "      <th>Unnamed: 9</th>\n",
       "      <th>인상후</th>\n",
       "      <th>주문자ID</th>\n",
       "    </tr>\n",
       "  </thead>\n",
       "  <tbody>\n",
       "    <tr>\n",
       "      <th>0</th>\n",
       "      <td>NaN</td>\n",
       "      <td>NaN</td>\n",
       "      <td>NaN</td>\n",
       "      <td>NaN</td>\n",
       "      <td>14694906@n</td>\n",
       "      <td>39397803@n</td>\n",
       "      <td>NaN</td>\n",
       "      <td>NaN</td>\n",
       "      <td>NaN</td>\n",
       "      <td>NaN</td>\n",
       "      <td>10055065@n</td>\n",
       "      <td>pp209</td>\n",
       "    </tr>\n",
       "    <tr>\n",
       "      <th>1</th>\n",
       "      <td>NaN</td>\n",
       "      <td>NaN</td>\n",
       "      <td>NaN</td>\n",
       "      <td>NaN</td>\n",
       "      <td>20754614@n</td>\n",
       "      <td>45589961@n</td>\n",
       "      <td>NaN</td>\n",
       "      <td>NaN</td>\n",
       "      <td>NaN</td>\n",
       "      <td>NaN</td>\n",
       "      <td>1005958854@k</td>\n",
       "      <td>arookee</td>\n",
       "    </tr>\n",
       "  </tbody>\n",
       "</table>\n",
       "</div>"
      ],
      "text/plain": [
       "   Unnamed: 0  Unnamed: 1  Unnamed: 2  Unnamed: 3        인상전1        인상전2  \\\n",
       "0         NaN         NaN         NaN         NaN  14694906@n  39397803@n   \n",
       "1         NaN         NaN         NaN         NaN  20754614@n  45589961@n   \n",
       "\n",
       "   Unnamed: 6  Unnamed: 7  Unnamed: 8  Unnamed: 9           인상후    주문자ID  \n",
       "0         NaN         NaN         NaN         NaN    10055065@n    pp209  \n",
       "1         NaN         NaN         NaN         NaN  1005958854@k  arookee  "
      ]
     },
     "execution_count": 3,
     "metadata": {},
     "output_type": "execute_result"
    }
   ],
   "source": [
    "컵_용기=pd.read_excel(\"다용도 컵 재구매.xlsx\")\n",
    "컵_용기.head(2)"
   ]
  },
  {
   "cell_type": "code",
   "execution_count": 4,
   "metadata": {},
   "outputs": [],
   "source": [
    "컵_용기=컵_용기.drop([\"Unnamed: 0\",\"Unnamed: 3\",\"Unnamed: 1\",\"Unnamed: 2\",\"Unnamed: 6\",\"Unnamed: 7\",\"Unnamed: 8\",\"Unnamed: 9\"],axis=1)"
   ]
  },
  {
   "cell_type": "code",
   "execution_count": 5,
   "metadata": {},
   "outputs": [
    {
     "data": {
      "text/html": [
       "<div>\n",
       "<style scoped>\n",
       "    .dataframe tbody tr th:only-of-type {\n",
       "        vertical-align: middle;\n",
       "    }\n",
       "\n",
       "    .dataframe tbody tr th {\n",
       "        vertical-align: top;\n",
       "    }\n",
       "\n",
       "    .dataframe thead th {\n",
       "        text-align: right;\n",
       "    }\n",
       "</style>\n",
       "<table border=\"1\" class=\"dataframe\">\n",
       "  <thead>\n",
       "    <tr style=\"text-align: right;\">\n",
       "      <th></th>\n",
       "      <th>인상전1</th>\n",
       "      <th>인상전2</th>\n",
       "      <th>인상후</th>\n",
       "      <th>주문자ID</th>\n",
       "    </tr>\n",
       "  </thead>\n",
       "  <tbody>\n",
       "    <tr>\n",
       "      <th>0</th>\n",
       "      <td>14694906@n</td>\n",
       "      <td>39397803@n</td>\n",
       "      <td>10055065@n</td>\n",
       "      <td>pp209</td>\n",
       "    </tr>\n",
       "    <tr>\n",
       "      <th>1</th>\n",
       "      <td>20754614@n</td>\n",
       "      <td>45589961@n</td>\n",
       "      <td>1005958854@k</td>\n",
       "      <td>arookee</td>\n",
       "    </tr>\n",
       "    <tr>\n",
       "      <th>2</th>\n",
       "      <td>31446963@n</td>\n",
       "      <td>62497813@n</td>\n",
       "      <td>11321210@n</td>\n",
       "      <td>pp448</td>\n",
       "    </tr>\n",
       "  </tbody>\n",
       "</table>\n",
       "</div>"
      ],
      "text/plain": [
       "         인상전1        인상전2           인상후    주문자ID\n",
       "0  14694906@n  39397803@n    10055065@n    pp209\n",
       "1  20754614@n  45589961@n  1005958854@k  arookee\n",
       "2  31446963@n  62497813@n    11321210@n    pp448"
      ]
     },
     "execution_count": 5,
     "metadata": {},
     "output_type": "execute_result"
    }
   ],
   "source": [
    "컵_용기.head(3)"
   ]
  },
  {
   "cell_type": "code",
   "execution_count": 6,
   "metadata": {},
   "outputs": [
    {
     "name": "stdout",
     "output_type": "stream",
     "text": [
      "sonicey\n",
      "13180696@n\n",
      "pp200\n",
      "ksj8040\n",
      "14694906@n\n",
      "home2622\n",
      "qw53888340\n",
      "pp176\n",
      "helloxg\n",
      "wodnr8855\n",
      "pp340\n"
     ]
    }
   ],
   "source": [
    "count = 0\n",
    "for a in range(len(컵_용기[\"인상전1\"])):\n",
    "    for i in 컵_용기[\"인상전1\"]:\n",
    "        if i==컵_용기[\"주문자ID\"][a]:\n",
    "            print(컵_용기[\"주문자ID\"][a])"
   ]
  },
  {
   "cell_type": "code",
   "execution_count": 7,
   "metadata": {},
   "outputs": [
    {
     "name": "stdout",
     "output_type": "stream",
     "text": [
      "pp547\n",
      "dojs32\n",
      "ksj8040\n",
      "pp662\n",
      "14694906@n\n",
      "home2622\n",
      "ywca897\n",
      "wodnr8855\n",
      "25345637@n\n"
     ]
    }
   ],
   "source": [
    "count = 0\n",
    "for a in range(len(컵_용기[\"인상전2\"])):\n",
    "    for i in 컵_용기[\"인상전2\"]:\n",
    "        if i==컵_용기[\"주문자ID\"][a]:\n",
    "            print(컵_용기[\"주문자ID\"][a])"
   ]
  },
  {
   "cell_type": "markdown",
   "metadata": {},
   "source": [
    "pp340  \n",
    "qw53888340  \n",
    "pp176  \n",
    "helloxg  \n",
    "pp200  \n",
    "13180696@n  \n",
    "pp547  \n",
    "dojs32  \n",
    "ksj8040  \n",
    "pp662  \n",
    "14694906@n  \n",
    "home2622  \n",
    "ywca897  \n",
    "wodnr8855  \n",
    "25345637@n  "
   ]
  },
  {
   "cell_type": "code",
   "execution_count": 8,
   "metadata": {},
   "outputs": [],
   "source": [
    "a=[\"pp340\",\n",
    "\"qw53888340\",\n",
    "\"pp176\",\n",
    "\"helloxg\",\n",
    "\"pp200\",\n",
    "\"13180696@n\",\n",
    "\"pp547\",\n",
    "\"dojs32\",\n",
    "\"ksj8040\",\n",
    "\"pp662\",\n",
    "\"14694906@n\",\n",
    "\"home2622\",\n",
    "\"ywca897\",\n",
    "\"wodnr8855\",\n",
    "\"25345637@n\"]"
   ]
  },
  {
   "cell_type": "markdown",
   "metadata": {},
   "source": [
    "인상전"
   ]
  },
  {
   "cell_type": "code",
   "execution_count": 9,
   "metadata": {},
   "outputs": [
    {
     "data": {
      "text/plain": [
       "15"
      ]
     },
     "execution_count": 9,
     "metadata": {},
     "output_type": "execute_result"
    }
   ],
   "source": [
    "l=list(set(a))\n",
    "len(a)"
   ]
  },
  {
   "cell_type": "markdown",
   "metadata": {},
   "source": [
    "인상후"
   ]
  },
  {
   "cell_type": "code",
   "execution_count": 10,
   "metadata": {},
   "outputs": [
    {
     "name": "stdout",
     "output_type": "stream",
     "text": [
      "pp547\n",
      "dojs32\n",
      "ksj8040\n",
      "pp662\n",
      "14694906@n\n",
      "home2622\n",
      "ywca897\n",
      "wodnr8855\n"
     ]
    }
   ],
   "source": [
    "count = 0\n",
    "for k in range(len(l)):\n",
    "    for i in 컵_용기[\"인상후\"]:\n",
    "        if i==a[k]:\n",
    "            print(a[k])"
   ]
  },
  {
   "cell_type": "markdown",
   "metadata": {},
   "source": [
    "# 3명"
   ]
  },
  {
   "cell_type": "markdown",
   "metadata": {},
   "source": [
    "# 도시락 용기"
   ]
  },
  {
   "cell_type": "code",
   "execution_count": 21,
   "metadata": {},
   "outputs": [
    {
     "data": {
      "text/html": [
       "<div>\n",
       "<style scoped>\n",
       "    .dataframe tbody tr th:only-of-type {\n",
       "        vertical-align: middle;\n",
       "    }\n",
       "\n",
       "    .dataframe tbody tr th {\n",
       "        vertical-align: top;\n",
       "    }\n",
       "\n",
       "    .dataframe thead th {\n",
       "        text-align: right;\n",
       "    }\n",
       "</style>\n",
       "<table border=\"1\" class=\"dataframe\">\n",
       "  <thead>\n",
       "    <tr style=\"text-align: right;\">\n",
       "      <th></th>\n",
       "      <th>인상전1</th>\n",
       "      <th>인상후2</th>\n",
       "      <th>인상전2</th>\n",
       "    </tr>\n",
       "  </thead>\n",
       "  <tbody>\n",
       "    <tr>\n",
       "      <th>0</th>\n",
       "      <td>20754614@n</td>\n",
       "      <td>102764664@n</td>\n",
       "      <td>16398578@n</td>\n",
       "    </tr>\n",
       "    <tr>\n",
       "      <th>1</th>\n",
       "      <td>33709872@n</td>\n",
       "      <td>111681891@n</td>\n",
       "      <td>33709872@n</td>\n",
       "    </tr>\n",
       "  </tbody>\n",
       "</table>\n",
       "</div>"
      ],
      "text/plain": [
       "         인상전1         인상후2        인상전2\n",
       "0  20754614@n  102764664@n  16398578@n\n",
       "1  33709872@n  111681891@n  33709872@n"
      ]
     },
     "execution_count": 21,
     "metadata": {},
     "output_type": "execute_result"
    }
   ],
   "source": [
    "도시락=pd.read_excel(\"도시락 용기 재구매율 ID.xlsx\")\n",
    "도시락.head(2)"
   ]
  },
  {
   "cell_type": "code",
   "execution_count": 22,
   "metadata": {},
   "outputs": [
    {
     "name": "stdout",
     "output_type": "stream",
     "text": [
      "sonhoya200\n",
      "sejun87\n",
      "ksj8040\n"
     ]
    }
   ],
   "source": [
    "count = 0\n",
    "for a in range(len(도시락[\"인상전1\"])):\n",
    "    for i in 도시락[\"인상전1\"]:\n",
    " 우수고객=pd.read_csv(\"우수고객정보.csv\")\n",
    "우수고객.head(2)       if i==우수고객[\"주문자ID\"][a]:\n",
    "            print(우수고객[\"주문자ID\"][a])"
   ]
  },
  {
   "cell_type": "code",
   "execution_count": 23,
   "metadata": {},
   "outputs": [
    {
     "name": "stdout",
     "output_type": "stream",
     "text": [
      "pp200\n",
      "sonhoya200\n",
      "sejun87\n",
      "75243761@n\n",
      "ksj8040\n"
     ]
    }
   ],
   "source": [
    "count = 0\n",
    "for a in range(len(도시락[\"인상전2\"])):\n",
    "    for i in 도시락[\"인상전2\"]:\n",
    "        if i==우수고객[\"주문자ID\"][a]:\n",
    "            print(우수고객[\"주문자ID\"][a])"
   ]
  },
  {
   "cell_type": "code",
   "execution_count": 29,
   "metadata": {},
   "outputs": [],
   "source": [
    "Z=[\"sonhoya200\",\n",
    "\"sejun87\",\n",
    "\"ksj8040\",\n",
    "\"pp200\",\n",
    "\"75243761@n\"]"
   ]
  },
  {
   "cell_type": "code",
   "execution_count": 31,
   "metadata": {},
   "outputs": [
    {
     "name": "stdout",
     "output_type": "stream",
     "text": [
      "ksj8040\n"
     ]
    }
   ],
   "source": [
    "count = 0\n",
    "for a in range(len(Z)):\n",
    "    for i in 도시락[\"인상후2\"]:\n",
    "        if i==Z[a]:\n",
    "            print(Z[a])"
   ]
  },
  {
   "cell_type": "markdown",
   "metadata": {},
   "source": [
    "# 2명"
   ]
  },
  {
   "cell_type": "markdown",
   "metadata": {},
   "source": [
    "# 중화용기 "
   ]
  },
  {
   "cell_type": "code",
   "execution_count": 32,
   "metadata": {},
   "outputs": [
    {
     "data": {
      "text/html": [
       "<div>\n",
       "<style scoped>\n",
       "    .dataframe tbody tr th:only-of-type {\n",
       "        vertical-align: middle;\n",
       "    }\n",
       "\n",
       "    .dataframe tbody tr th {\n",
       "        vertical-align: top;\n",
       "    }\n",
       "\n",
       "    .dataframe thead th {\n",
       "        text-align: right;\n",
       "    }\n",
       "</style>\n",
       "<table border=\"1\" class=\"dataframe\">\n",
       "  <thead>\n",
       "    <tr style=\"text-align: right;\">\n",
       "      <th></th>\n",
       "      <th>인상전 1</th>\n",
       "      <th>Unnamed: 1</th>\n",
       "      <th>인상전 2</th>\n",
       "      <th>Unnamed: 3</th>\n",
       "      <th>Unnamed: 4</th>\n",
       "      <th>인상후</th>\n",
       "      <th>주문자ID</th>\n",
       "    </tr>\n",
       "  </thead>\n",
       "  <tbody>\n",
       "    <tr>\n",
       "      <th>0</th>\n",
       "      <td>행 레이블</td>\n",
       "      <td>NaN</td>\n",
       "      <td>행 레이블</td>\n",
       "      <td>NaN</td>\n",
       "      <td>NaN</td>\n",
       "      <td>행 레이블</td>\n",
       "      <td>pp209</td>\n",
       "    </tr>\n",
       "    <tr>\n",
       "      <th>1</th>\n",
       "      <td>19118163@n</td>\n",
       "      <td>NaN</td>\n",
       "      <td>132351155@n</td>\n",
       "      <td>NaN</td>\n",
       "      <td>NaN</td>\n",
       "      <td>132351155@n</td>\n",
       "      <td>arookee</td>\n",
       "    </tr>\n",
       "  </tbody>\n",
       "</table>\n",
       "</div>"
      ],
      "text/plain": [
       "        인상전 1  Unnamed: 1        인상전 2  Unnamed: 3  Unnamed: 4          인상후  \\\n",
       "0       행 레이블         NaN        행 레이블         NaN         NaN        행 레이블   \n",
       "1  19118163@n         NaN  132351155@n         NaN         NaN  132351155@n   \n",
       "\n",
       "     주문자ID  \n",
       "0    pp209  \n",
       "1  arookee  "
      ]
     },
     "execution_count": 32,
     "metadata": {},
     "output_type": "execute_result"
    }
   ],
   "source": [
    "중화용기=pd.read_excel(\"중화면 재구매ID.xlsx\")\n",
    "중화용기.head(2)"
   ]
  },
  {
   "cell_type": "code",
   "execution_count": 33,
   "metadata": {},
   "outputs": [
    {
     "name": "stdout",
     "output_type": "stream",
     "text": [
      "pp212\n",
      "mk2450\n",
      "cozy0812\n",
      "pp159\n",
      "sd3633\n",
      "sbm0111\n",
      "dudgus1203\n",
      "dyddkstk\n",
      "pp181\n"
     ]
    }
   ],
   "source": [
    "count = 0\n",
    "for a in range(len(중화용기[\"인상전 1\"])):\n",
    "    for i in 중화용기[\"인상전 1\"]:\n",
    "        if i==중화용기[\"주문자ID\"][a]:\n",
    "            print(중화용기[\"주문자ID\"][a])"
   ]
  },
  {
   "cell_type": "code",
   "execution_count": 34,
   "metadata": {
    "scrolled": true
   },
   "outputs": [
    {
     "name": "stdout",
     "output_type": "stream",
     "text": [
      "packus3\n",
      "rngksl12\n",
      "mk245024\n",
      "pp682\n",
      "r34663691\n",
      "cozy0812\n",
      "pp662\n",
      "pp498\n",
      "14694906@n\n",
      "pp159\n",
      "opoplkl67\n",
      "pp250\n",
      "jaed72\n",
      "helloxg\n",
      "pp181\n",
      "776646558@k\n"
     ]
    }
   ],
   "source": [
    "count = 0\n",
    "for a in range(len(중화용기[\"인상전 2\"])):\n",
    "    for i in 중화용기[\"인상전 2\"]:\n",
    "        if i==중화용기[\"주문자ID\"][a]:\n",
    "            print(중화용기[\"주문자ID\"][a])"
   ]
  },
  {
   "cell_type": "markdown",
   "metadata": {},
   "source": [
    "인상전"
   ]
  },
  {
   "cell_type": "markdown",
   "metadata": {},
   "source": [
    "pp212  \n",
    "mk2450  \n",
    "cozy0812  \n",
    "pp159  \n",
    "sd3633  \n",
    "sbm0111  \n",
    "dudgus1203  \n",
    "dyddkstk  \n",
    "pp181  \n",
    "776646558@k  \n",
    "opoplkl67  \n",
    "pp250  \n",
    "jaed72  \n",
    "helloxg   \n",
    "pp662  \n",
    "pp498  \n",
    "14694906@n   \n",
    "packus3  \n",
    "rngksl12  \n",
    "mk245024  \n",
    "pp682  \n",
    "r34663691  \n"
   ]
  },
  {
   "cell_type": "code",
   "execution_count": 35,
   "metadata": {},
   "outputs": [],
   "source": [
    "l=[\"pp212\",\"mk2450\",\"cozy0812\",\"pp159\",\"sd3633\",\"sbm0111\",\"dudgus1203\",\"dyddkstk\",\"pp181\",\"776646558@k\",\"opoplkl67\",\n",
    "\"pp250\",\n",
    "\"jaed72\",\n",
    "\"helloxg\",\n",
    "\"pp662\",\n",
    "\"pp498\",\n",
    "\"14694906@n\",\n",
    "\"packus3\",\n",
    "\"rngksl12\",\n",
    "\"mk245024\",\n",
    "\"pp682\",\n",
    "\"r34663691\"]"
   ]
  },
  {
   "cell_type": "code",
   "execution_count": 36,
   "metadata": {},
   "outputs": [
    {
     "data": {
      "text/plain": [
       "22"
      ]
     },
     "execution_count": 36,
     "metadata": {},
     "output_type": "execute_result"
    }
   ],
   "source": [
    "l=list(set(l))\n",
    "len(l)"
   ]
  },
  {
   "cell_type": "markdown",
   "metadata": {},
   "source": [
    "인상후"
   ]
  },
  {
   "cell_type": "code",
   "execution_count": 37,
   "metadata": {},
   "outputs": [
    {
     "name": "stdout",
     "output_type": "stream",
     "text": [
      "pp662\n",
      "jaed72\n",
      "pp181\n",
      "pp250\n",
      "cozy0812\n",
      "r34663691\n",
      "pp159\n",
      "pp498\n",
      "14694906@n\n",
      "pp682\n",
      "776646558@k\n",
      "rngksl12\n"
     ]
    }
   ],
   "source": [
    "count = 0\n",
    "for a in range(len(l)):\n",
    "    for i in 중화용기[\"인상후\"]:\n",
    "        if i==l[a]:\n",
    "            print(l[a])"
   ]
  },
  {
   "cell_type": "markdown",
   "metadata": {},
   "source": [
    "# Top 3제품"
   ]
  },
  {
   "cell_type": "code",
   "execution_count": 42,
   "metadata": {},
   "outputs": [
    {
     "data": {
      "text/html": [
       "<div>\n",
       "<style scoped>\n",
       "    .dataframe tbody tr th:only-of-type {\n",
       "        vertical-align: middle;\n",
       "    }\n",
       "\n",
       "    .dataframe tbody tr th {\n",
       "        vertical-align: top;\n",
       "    }\n",
       "\n",
       "    .dataframe thead th {\n",
       "        text-align: right;\n",
       "    }\n",
       "</style>\n",
       "<table border=\"1\" class=\"dataframe\">\n",
       "  <thead>\n",
       "    <tr style=\"text-align: right;\">\n",
       "      <th></th>\n",
       "      <th>인상전</th>\n",
       "      <th>인상후</th>\n",
       "      <th>주문자ID</th>\n",
       "    </tr>\n",
       "  </thead>\n",
       "  <tbody>\n",
       "    <tr>\n",
       "      <th>0</th>\n",
       "      <td>14694906@n</td>\n",
       "      <td>10055065@n</td>\n",
       "      <td>pp209</td>\n",
       "    </tr>\n",
       "    <tr>\n",
       "      <th>1</th>\n",
       "      <td>kinamio</td>\n",
       "      <td>10055065@n</td>\n",
       "      <td>arookee</td>\n",
       "    </tr>\n",
       "  </tbody>\n",
       "</table>\n",
       "</div>"
      ],
      "text/plain": [
       "          인상전         인상후    주문자ID\n",
       "0  14694906@n  10055065@n    pp209\n",
       "1     kinamio  10055065@n  arookee"
      ]
     },
     "execution_count": 42,
     "metadata": {},
     "output_type": "execute_result"
    }
   ],
   "source": [
    "Top3=pd.read_excel(\"top3 재구매 리스트.xlsx\")\n",
    "Top3.head(2)"
   ]
  },
  {
   "cell_type": "code",
   "execution_count": 58,
   "metadata": {},
   "outputs": [
    {
     "name": "stdout",
     "output_type": "stream",
     "text": [
      "packus3\n",
      "rngksl12\n",
      "mk245024\n",
      "sonhoya200\n",
      "sejun87\n",
      "pp682\n",
      "r34663691\n",
      "cozy0812\n",
      "ksj8040\n",
      "ksj8040\n",
      "pp662\n",
      "pp498\n",
      "14694906@n\n",
      "14694906@n\n",
      "home2622\n",
      "33709872@n\n",
      "pp159\n",
      "opoplkl67\n",
      "pp250\n",
      "jaed72\n",
      "helloxg\n",
      "pp181\n",
      "776646558@k\n",
      "wodnr8855\n",
      "jiwoo97\n",
      "pp107\n"
     ]
    }
   ],
   "source": [
    "count = []\n",
    "for a in range(len(Top3[\"인상전\"])):\n",
    "    for i in Top3[\"인상전\"]:\n",
    "        if i==우수고객[\"주문자ID\"][a]:\n",
    "            print(우수고객[\"주문자ID\"][a])"
   ]
  },
  {
   "cell_type": "code",
   "execution_count": 65,
   "metadata": {},
   "outputs": [],
   "source": [
    "k=[\"packus3\",\n",
    "\"rngksl12\",\n",
    "\"mk245024\",\n",
    "\"sonhoya200\",\n",
    "\"sejun87\",\n",
    "\"pp682\",\n",
    "\"r34663691\",\n",
    "\"cozy0812\",\n",
    "\"ksj8040\",\n",
    "\"pp662\",\n",
    "\"pp498\",\n",
    "\"14694906@n\",\n",
    "\"home2622\",\n",
    "\"33709872@n\",\n",
    "\"pp159\",\n",
    "\"opoplkl67\",\n",
    "\"pp250\",\n",
    "\"jaed72\",\n",
    "\"helloxg\",\n",
    "\"pp181\",\n",
    "\"776646558@k\",\n",
    "\"wodnr8855\",\n",
    "\"jiwoo97\",\n",
    "\"pp107\"]"
   ]
  },
  {
   "cell_type": "code",
   "execution_count": 66,
   "metadata": {},
   "outputs": [
    {
     "data": {
      "text/plain": [
       "24"
      ]
     },
     "execution_count": 66,
     "metadata": {},
     "output_type": "execute_result"
    }
   ],
   "source": [
    "k=list(set(k))\n",
    "len(k)"
   ]
  },
  {
   "cell_type": "code",
   "execution_count": 67,
   "metadata": {},
   "outputs": [
    {
     "name": "stdout",
     "output_type": "stream",
     "text": [
      "ksj8040\n",
      "pp662\n",
      "jaed72\n",
      "pp181\n",
      "pp250\n",
      "cozy0812\n",
      "r34663691\n",
      "pp159\n",
      "pp498\n",
      "14694906@n\n",
      "14694906@n\n",
      "33709872@n\n",
      "pp682\n",
      "776646558@k\n",
      "rngksl12\n"
     ]
    }
   ],
   "source": [
    "count = 0\n",
    "for a in range(len(k)):\n",
    "    for i in Top3[\"인상후\"]:\n",
    "        if i==k[a]:\n",
    "            print(k[a])"
   ]
  },
  {
   "cell_type": "code",
   "execution_count": 69,
   "metadata": {},
   "outputs": [],
   "source": [
    "l=[\"ksj8040\",\n",
    "\"pp662\",\n",
    "\"jaed72\",\n",
    "\"pp181\",\n",
    "\"pp250\",\n",
    "\"cozy0812\",\n",
    "\"r34663691\",\n",
    "\"pp159\",\n",
    "\"pp498\",\n",
    "\"14694906@n\",\n",
    "\"14694906@n\",\n",
    "\"33709872@n\",\n",
    "\"pp682\",\n",
    "\"776646558@k\",\n",
    "\"rngksl12\"]"
   ]
  },
  {
   "cell_type": "code",
   "execution_count": 71,
   "metadata": {},
   "outputs": [
    {
     "data": {
      "text/plain": [
       "14"
      ]
     },
     "execution_count": 71,
     "metadata": {},
     "output_type": "execute_result"
    }
   ],
   "source": [
    "l=list(set(l))\n",
    "len(l)"
   ]
  },
  {
   "cell_type": "markdown",
   "metadata": {},
   "source": [
    "# 재구매 리스트 일반"
   ]
  },
  {
   "cell_type": "code",
   "execution_count": 73,
   "metadata": {},
   "outputs": [],
   "source": [
    "Top3=pd.read_excel(\"top3 재구매 리스트_일반.xlsx\")"
   ]
  },
  {
   "cell_type": "code",
   "execution_count": 74,
   "metadata": {},
   "outputs": [
    {
     "data": {
      "text/html": [
       "<div>\n",
       "<style scoped>\n",
       "    .dataframe tbody tr th:only-of-type {\n",
       "        vertical-align: middle;\n",
       "    }\n",
       "\n",
       "    .dataframe tbody tr th {\n",
       "        vertical-align: top;\n",
       "    }\n",
       "\n",
       "    .dataframe thead th {\n",
       "        text-align: right;\n",
       "    }\n",
       "</style>\n",
       "<table border=\"1\" class=\"dataframe\">\n",
       "  <thead>\n",
       "    <tr style=\"text-align: right;\">\n",
       "      <th></th>\n",
       "      <th>인상전2</th>\n",
       "      <th>인상후</th>\n",
       "      <th>인상후.1</th>\n",
       "      <th>인상전</th>\n",
       "      <th>일반고객</th>\n",
       "      <th>인상전1</th>\n",
       "    </tr>\n",
       "  </thead>\n",
       "  <tbody>\n",
       "    <tr>\n",
       "      <th>0</th>\n",
       "      <td>132351155@n</td>\n",
       "      <td>132351155@n</td>\n",
       "      <td>1.0</td>\n",
       "      <td>1.0</td>\n",
       "      <td>pp1220</td>\n",
       "      <td>14694906@n</td>\n",
       "    </tr>\n",
       "    <tr>\n",
       "      <th>1</th>\n",
       "      <td>14694906@n</td>\n",
       "      <td>14694906@n</td>\n",
       "      <td>1.0</td>\n",
       "      <td>1.0</td>\n",
       "      <td>himan1128</td>\n",
       "      <td>20754614@n</td>\n",
       "    </tr>\n",
       "  </tbody>\n",
       "</table>\n",
       "</div>"
      ],
      "text/plain": [
       "          인상전2          인상후  인상후.1  인상전       일반고객        인상전1\n",
       "0  132351155@n  132351155@n    1.0  1.0     pp1220  14694906@n\n",
       "1   14694906@n   14694906@n    1.0  1.0  himan1128  20754614@n"
      ]
     },
     "execution_count": 74,
     "metadata": {},
     "output_type": "execute_result"
    }
   ],
   "source": [
    "Top3.head(2)"
   ]
  },
  {
   "cell_type": "code",
   "execution_count": 77,
   "metadata": {},
   "outputs": [
    {
     "name": "stdout",
     "output_type": "stream",
     "text": [
      "jiwoo97\n",
      "pp107\n",
      "leemansome\n",
      "pp316\n",
      "pp150\n",
      "pp257\n",
      "mama5491\n",
      "pp248\n",
      "psy9195\n",
      "chad0287\n",
      "zlxm777\n",
      "pmj4512\n",
      "21640514@n\n",
      "toto\n",
      "pp100\n",
      "kanghoexr\n",
      "sparkskw\n",
      "noble602\n",
      "20754614@n\n",
      "49797192@n\n",
      "pp131\n",
      "rlagmltn3441\n",
      "pp191\n",
      "june675\n",
      "dhjekd\n",
      "pp240\n",
      "pp247\n",
      "pp374\n",
      "soung9309\n",
      "jjangbeom\n",
      "park7478\n",
      "marche77\n",
      "pp038\n",
      "pp196\n",
      "pp201\n",
      "ggam0503\n",
      "pp228\n",
      "pp170\n",
      "ckh1240\n",
      "jeongyujoo\n",
      "lovebox7055\n",
      "pp194\n",
      "jinneyo\n",
      "38296887@n\n",
      "pp407\n",
      "winr800\n",
      "sinnara21k\n",
      "ohm09\n",
      "sia1977\n",
      "251423325601003@f\n",
      "pp193\n",
      "119347465@n\n",
      "pp048\n",
      "lmju1011\n",
      "pp220\n",
      "jsckorea12\n",
      "19118163@n\n",
      "pp183\n",
      "pp186\n",
      "pp147\n",
      "pp144\n",
      "88341326@n\n",
      "pp349\n",
      "pp206\n",
      "pp136\n",
      "kmd1146\n",
      "nadeka01\n",
      "pp495\n",
      "chuheesuk\n",
      "pp178\n",
      "pp174\n",
      "pp391\n",
      "pp203\n",
      "792404936@k\n",
      "ksk9937\n",
      "pp202\n",
      "46089170@n\n",
      "pp241\n",
      "donkorea\n",
      "jae7485\n",
      "csy2011\n",
      "freeze199912\n",
      "kara3508\n",
      "vjvj4644\n"
     ]
    },
    {
     "ename": "KeyboardInterrupt",
     "evalue": "",
     "output_type": "error",
     "traceback": [
      "\u001b[0;31m---------------------------------------------------------------------------\u001b[0m",
      "\u001b[0;31mKeyboardInterrupt\u001b[0m                         Traceback (most recent call last)",
      "\u001b[0;32m<ipython-input-77-00eeb9cbb904>\u001b[0m in \u001b[0;36m<module>\u001b[0;34m\u001b[0m\n\u001b[1;32m      2\u001b[0m \u001b[0;32mfor\u001b[0m \u001b[0ma\u001b[0m \u001b[0;32min\u001b[0m \u001b[0mrange\u001b[0m\u001b[0;34m(\u001b[0m\u001b[0mlen\u001b[0m\u001b[0;34m(\u001b[0m\u001b[0mTop3\u001b[0m\u001b[0;34m[\u001b[0m\u001b[0;34m\"일반고객\"\u001b[0m\u001b[0;34m]\u001b[0m\u001b[0;34m)\u001b[0m\u001b[0;34m)\u001b[0m\u001b[0;34m:\u001b[0m\u001b[0;34m\u001b[0m\u001b[0;34m\u001b[0m\u001b[0m\n\u001b[1;32m      3\u001b[0m     \u001b[0;32mfor\u001b[0m \u001b[0mi\u001b[0m \u001b[0;32min\u001b[0m \u001b[0mTop3\u001b[0m\u001b[0;34m[\u001b[0m\u001b[0;34m\"인상전1\"\u001b[0m\u001b[0;34m]\u001b[0m\u001b[0;34m:\u001b[0m\u001b[0;34m\u001b[0m\u001b[0;34m\u001b[0m\u001b[0m\n\u001b[0;32m----> 4\u001b[0;31m         \u001b[0;32mif\u001b[0m \u001b[0mi\u001b[0m\u001b[0;34m==\u001b[0m\u001b[0mTop3\u001b[0m\u001b[0;34m[\u001b[0m\u001b[0;34m\"일반고객\"\u001b[0m\u001b[0;34m]\u001b[0m\u001b[0;34m[\u001b[0m\u001b[0ma\u001b[0m\u001b[0;34m]\u001b[0m\u001b[0;34m:\u001b[0m\u001b[0;34m\u001b[0m\u001b[0;34m\u001b[0m\u001b[0m\n\u001b[0m\u001b[1;32m      5\u001b[0m             \u001b[0mprint\u001b[0m\u001b[0;34m(\u001b[0m\u001b[0mTop3\u001b[0m\u001b[0;34m[\u001b[0m\u001b[0;34m\"일반고객\"\u001b[0m\u001b[0;34m]\u001b[0m\u001b[0;34m[\u001b[0m\u001b[0ma\u001b[0m\u001b[0;34m]\u001b[0m\u001b[0;34m)\u001b[0m\u001b[0;34m\u001b[0m\u001b[0;34m\u001b[0m\u001b[0m\n",
      "\u001b[0;32m~/anaconda3/lib/python3.7/site-packages/pandas/core/series.py\u001b[0m in \u001b[0;36m__getitem__\u001b[0;34m(self, key)\u001b[0m\n\u001b[1;32m    869\u001b[0m         \u001b[0mkey\u001b[0m \u001b[0;34m=\u001b[0m \u001b[0mcom\u001b[0m\u001b[0;34m.\u001b[0m\u001b[0mapply_if_callable\u001b[0m\u001b[0;34m(\u001b[0m\u001b[0mkey\u001b[0m\u001b[0;34m,\u001b[0m \u001b[0mself\u001b[0m\u001b[0;34m)\u001b[0m\u001b[0;34m\u001b[0m\u001b[0;34m\u001b[0m\u001b[0m\n\u001b[1;32m    870\u001b[0m         \u001b[0;32mtry\u001b[0m\u001b[0;34m:\u001b[0m\u001b[0;34m\u001b[0m\u001b[0;34m\u001b[0m\u001b[0m\n\u001b[0;32m--> 871\u001b[0;31m             \u001b[0mresult\u001b[0m \u001b[0;34m=\u001b[0m \u001b[0mself\u001b[0m\u001b[0;34m.\u001b[0m\u001b[0mindex\u001b[0m\u001b[0;34m.\u001b[0m\u001b[0mget_value\u001b[0m\u001b[0;34m(\u001b[0m\u001b[0mself\u001b[0m\u001b[0;34m,\u001b[0m \u001b[0mkey\u001b[0m\u001b[0;34m)\u001b[0m\u001b[0;34m\u001b[0m\u001b[0;34m\u001b[0m\u001b[0m\n\u001b[0m\u001b[1;32m    872\u001b[0m \u001b[0;34m\u001b[0m\u001b[0m\n\u001b[1;32m    873\u001b[0m             \u001b[0;32mif\u001b[0m \u001b[0;32mnot\u001b[0m \u001b[0mis_scalar\u001b[0m\u001b[0;34m(\u001b[0m\u001b[0mresult\u001b[0m\u001b[0;34m)\u001b[0m\u001b[0;34m:\u001b[0m\u001b[0;34m\u001b[0m\u001b[0;34m\u001b[0m\u001b[0m\n",
      "\u001b[0;32m~/anaconda3/lib/python3.7/site-packages/pandas/core/indexes/base.py\u001b[0m in \u001b[0;36mget_value\u001b[0;34m(self, series, key)\u001b[0m\n\u001b[1;32m   4377\u001b[0m         \u001b[0;31m# use this, e.g. DatetimeIndex\u001b[0m\u001b[0;34m\u001b[0m\u001b[0;34m\u001b[0m\u001b[0;34m\u001b[0m\u001b[0m\n\u001b[1;32m   4378\u001b[0m         \u001b[0;31m# Things like `Series._get_value` (via .at) pass the EA directly here.\u001b[0m\u001b[0;34m\u001b[0m\u001b[0;34m\u001b[0m\u001b[0;34m\u001b[0m\u001b[0m\n\u001b[0;32m-> 4379\u001b[0;31m         \u001b[0ms\u001b[0m \u001b[0;34m=\u001b[0m \u001b[0mextract_array\u001b[0m\u001b[0;34m(\u001b[0m\u001b[0mseries\u001b[0m\u001b[0;34m,\u001b[0m \u001b[0mextract_numpy\u001b[0m\u001b[0;34m=\u001b[0m\u001b[0;32mTrue\u001b[0m\u001b[0;34m)\u001b[0m\u001b[0;34m\u001b[0m\u001b[0;34m\u001b[0m\u001b[0m\n\u001b[0m\u001b[1;32m   4380\u001b[0m         \u001b[0;32mif\u001b[0m \u001b[0misinstance\u001b[0m\u001b[0;34m(\u001b[0m\u001b[0ms\u001b[0m\u001b[0;34m,\u001b[0m \u001b[0mExtensionArray\u001b[0m\u001b[0;34m)\u001b[0m\u001b[0;34m:\u001b[0m\u001b[0;34m\u001b[0m\u001b[0;34m\u001b[0m\u001b[0m\n\u001b[1;32m   4381\u001b[0m             \u001b[0;32mif\u001b[0m \u001b[0mis_scalar\u001b[0m\u001b[0;34m(\u001b[0m\u001b[0mkey\u001b[0m\u001b[0;34m)\u001b[0m\u001b[0;34m:\u001b[0m\u001b[0;34m\u001b[0m\u001b[0;34m\u001b[0m\u001b[0m\n",
      "\u001b[0;32m~/anaconda3/lib/python3.7/site-packages/pandas/core/construction.py\u001b[0m in \u001b[0;36mextract_array\u001b[0;34m(obj, extract_numpy)\u001b[0m\n\u001b[1;32m    378\u001b[0m     \"\"\"\n\u001b[1;32m    379\u001b[0m     \u001b[0;32mif\u001b[0m \u001b[0misinstance\u001b[0m\u001b[0;34m(\u001b[0m\u001b[0mobj\u001b[0m\u001b[0;34m,\u001b[0m \u001b[0;34m(\u001b[0m\u001b[0mABCIndexClass\u001b[0m\u001b[0;34m,\u001b[0m \u001b[0mABCSeries\u001b[0m\u001b[0;34m)\u001b[0m\u001b[0;34m)\u001b[0m\u001b[0;34m:\u001b[0m\u001b[0;34m\u001b[0m\u001b[0;34m\u001b[0m\u001b[0m\n\u001b[0;32m--> 380\u001b[0;31m         \u001b[0mobj\u001b[0m \u001b[0;34m=\u001b[0m \u001b[0mobj\u001b[0m\u001b[0;34m.\u001b[0m\u001b[0marray\u001b[0m\u001b[0;34m\u001b[0m\u001b[0;34m\u001b[0m\u001b[0m\n\u001b[0m\u001b[1;32m    381\u001b[0m \u001b[0;34m\u001b[0m\u001b[0m\n\u001b[1;32m    382\u001b[0m     \u001b[0;32mif\u001b[0m \u001b[0mextract_numpy\u001b[0m \u001b[0;32mand\u001b[0m \u001b[0misinstance\u001b[0m\u001b[0;34m(\u001b[0m\u001b[0mobj\u001b[0m\u001b[0;34m,\u001b[0m \u001b[0mABCPandasArray\u001b[0m\u001b[0;34m)\u001b[0m\u001b[0;34m:\u001b[0m\u001b[0;34m\u001b[0m\u001b[0;34m\u001b[0m\u001b[0m\n",
      "\u001b[0;32m~/anaconda3/lib/python3.7/site-packages/pandas/core/series.py\u001b[0m in \u001b[0;36marray\u001b[0;34m(self)\u001b[0m\n\u001b[1;32m    516\u001b[0m     \u001b[0;34m@\u001b[0m\u001b[0mproperty\u001b[0m\u001b[0;34m\u001b[0m\u001b[0;34m\u001b[0m\u001b[0m\n\u001b[1;32m    517\u001b[0m     \u001b[0;32mdef\u001b[0m \u001b[0marray\u001b[0m\u001b[0;34m(\u001b[0m\u001b[0mself\u001b[0m\u001b[0;34m)\u001b[0m \u001b[0;34m->\u001b[0m \u001b[0mExtensionArray\u001b[0m\u001b[0;34m:\u001b[0m\u001b[0;34m\u001b[0m\u001b[0;34m\u001b[0m\u001b[0m\n\u001b[0;32m--> 518\u001b[0;31m         \u001b[0;32mreturn\u001b[0m \u001b[0mself\u001b[0m\u001b[0;34m.\u001b[0m\u001b[0m_data\u001b[0m\u001b[0;34m.\u001b[0m\u001b[0m_block\u001b[0m\u001b[0;34m.\u001b[0m\u001b[0marray_values\u001b[0m\u001b[0;34m(\u001b[0m\u001b[0;34m)\u001b[0m\u001b[0;34m\u001b[0m\u001b[0;34m\u001b[0m\u001b[0m\n\u001b[0m\u001b[1;32m    519\u001b[0m \u001b[0;34m\u001b[0m\u001b[0m\n\u001b[1;32m    520\u001b[0m     \u001b[0;32mdef\u001b[0m \u001b[0m_internal_get_values\u001b[0m\u001b[0;34m(\u001b[0m\u001b[0mself\u001b[0m\u001b[0;34m)\u001b[0m\u001b[0;34m:\u001b[0m\u001b[0;34m\u001b[0m\u001b[0;34m\u001b[0m\u001b[0m\n",
      "\u001b[0;32m~/anaconda3/lib/python3.7/site-packages/pandas/core/internals/blocks.py\u001b[0m in \u001b[0;36marray_values\u001b[0;34m(self)\u001b[0m\n\u001b[1;32m    221\u001b[0m         \u001b[0mThe\u001b[0m \u001b[0marray\u001b[0m \u001b[0mthat\u001b[0m \u001b[0mSeries\u001b[0m\u001b[0;34m.\u001b[0m\u001b[0marray\u001b[0m \u001b[0mreturns\u001b[0m\u001b[0;34m.\u001b[0m \u001b[0mAlways\u001b[0m \u001b[0man\u001b[0m \u001b[0mExtensionArray\u001b[0m\u001b[0;34m.\u001b[0m\u001b[0;34m\u001b[0m\u001b[0;34m\u001b[0m\u001b[0m\n\u001b[1;32m    222\u001b[0m         \"\"\"\n\u001b[0;32m--> 223\u001b[0;31m         \u001b[0;32mreturn\u001b[0m \u001b[0mPandasArray\u001b[0m\u001b[0;34m(\u001b[0m\u001b[0mself\u001b[0m\u001b[0;34m.\u001b[0m\u001b[0mvalues\u001b[0m\u001b[0;34m)\u001b[0m\u001b[0;34m\u001b[0m\u001b[0;34m\u001b[0m\u001b[0m\n\u001b[0m\u001b[1;32m    224\u001b[0m \u001b[0;34m\u001b[0m\u001b[0m\n\u001b[1;32m    225\u001b[0m     \u001b[0;32mdef\u001b[0m \u001b[0mget_values\u001b[0m\u001b[0;34m(\u001b[0m\u001b[0mself\u001b[0m\u001b[0;34m,\u001b[0m \u001b[0mdtype\u001b[0m\u001b[0;34m=\u001b[0m\u001b[0;32mNone\u001b[0m\u001b[0;34m)\u001b[0m\u001b[0;34m:\u001b[0m\u001b[0;34m\u001b[0m\u001b[0;34m\u001b[0m\u001b[0m\n",
      "\u001b[0;32m~/anaconda3/lib/python3.7/site-packages/pandas/core/arrays/numpy_.py\u001b[0m in \u001b[0;36m__init__\u001b[0;34m(self, values, copy)\u001b[0m\n\u001b[1;32m    151\u001b[0m \u001b[0;34m\u001b[0m\u001b[0m\n\u001b[1;32m    152\u001b[0m         \u001b[0mself\u001b[0m\u001b[0;34m.\u001b[0m\u001b[0m_ndarray\u001b[0m \u001b[0;34m=\u001b[0m \u001b[0mvalues\u001b[0m\u001b[0;34m\u001b[0m\u001b[0;34m\u001b[0m\u001b[0m\n\u001b[0;32m--> 153\u001b[0;31m         \u001b[0mself\u001b[0m\u001b[0;34m.\u001b[0m\u001b[0m_dtype\u001b[0m \u001b[0;34m=\u001b[0m \u001b[0mPandasDtype\u001b[0m\u001b[0;34m(\u001b[0m\u001b[0mvalues\u001b[0m\u001b[0;34m.\u001b[0m\u001b[0mdtype\u001b[0m\u001b[0;34m)\u001b[0m\u001b[0;34m\u001b[0m\u001b[0;34m\u001b[0m\u001b[0m\n\u001b[0m\u001b[1;32m    154\u001b[0m \u001b[0;34m\u001b[0m\u001b[0m\n\u001b[1;32m    155\u001b[0m     \u001b[0;34m@\u001b[0m\u001b[0mclassmethod\u001b[0m\u001b[0;34m\u001b[0m\u001b[0;34m\u001b[0m\u001b[0m\n",
      "\u001b[0;32m~/anaconda3/lib/python3.7/site-packages/pandas/core/arrays/numpy_.py\u001b[0m in \u001b[0;36m__init__\u001b[0;34m(self, dtype)\u001b[0m\n\u001b[1;32m     41\u001b[0m \u001b[0;34m\u001b[0m\u001b[0m\n\u001b[1;32m     42\u001b[0m     \u001b[0;32mdef\u001b[0m \u001b[0m__init__\u001b[0m\u001b[0;34m(\u001b[0m\u001b[0mself\u001b[0m\u001b[0;34m,\u001b[0m \u001b[0mdtype\u001b[0m\u001b[0;34m)\u001b[0m\u001b[0;34m:\u001b[0m\u001b[0;34m\u001b[0m\u001b[0;34m\u001b[0m\u001b[0m\n\u001b[0;32m---> 43\u001b[0;31m         \u001b[0mdtype\u001b[0m \u001b[0;34m=\u001b[0m \u001b[0mnp\u001b[0m\u001b[0;34m.\u001b[0m\u001b[0mdtype\u001b[0m\u001b[0;34m(\u001b[0m\u001b[0mdtype\u001b[0m\u001b[0;34m)\u001b[0m\u001b[0;34m\u001b[0m\u001b[0;34m\u001b[0m\u001b[0m\n\u001b[0m\u001b[1;32m     44\u001b[0m         \u001b[0mself\u001b[0m\u001b[0;34m.\u001b[0m\u001b[0m_dtype\u001b[0m \u001b[0;34m=\u001b[0m \u001b[0mdtype\u001b[0m\u001b[0;34m\u001b[0m\u001b[0;34m\u001b[0m\u001b[0m\n\u001b[1;32m     45\u001b[0m         \u001b[0mself\u001b[0m\u001b[0;34m.\u001b[0m\u001b[0m_type\u001b[0m \u001b[0;34m=\u001b[0m \u001b[0mdtype\u001b[0m\u001b[0;34m.\u001b[0m\u001b[0mtype\u001b[0m\u001b[0;34m\u001b[0m\u001b[0;34m\u001b[0m\u001b[0m\n",
      "\u001b[0;31mKeyboardInterrupt\u001b[0m: "
     ]
    }
   ],
   "source": [
    "count = 0\n",
    "for a in range(len(Top3[\"일반고객\"])):\n",
    "    for i in Top3[\"인상전1\"]:\n",
    "        if i==Top3[\"일반고객\"][a]:\n",
    "            print(Top3[\"일반고객\"][a])"
   ]
  },
  {
   "cell_type": "code",
   "execution_count": null,
   "metadata": {},
   "outputs": [],
   "source": [
    "count = 0\n",
    "for a in range(len(Top3[\"일반고객\"])):\n",
    "    for i in Top3[\"인상전2\"]:\n",
    "        if i==Top3[\"일반고객\"][a]:\n",
    "            print(Top3[\"일반고객\"][a])"
   ]
  },
  {
   "cell_type": "code",
   "execution_count": null,
   "metadata": {},
   "outputs": [],
   "source": [
    "count = 0\n",
    "for a in range(len(Top3[\"일반고객\"])):\n",
    "    for i in Top3[\"인상후\"]:\n",
    "        if i==Top3[\"일반고객\"][a]:\n",
    "            print(Top3[\"일반고객\"][a])"
   ]
  }
 ],
 "metadata": {
  "kernelspec": {
   "display_name": "Python 3",
   "language": "python",
   "name": "python3"
  },
  "language_info": {
   "codemirror_mode": {
    "name": "ipython",
    "version": 3
   },
   "file_extension": ".py",
   "mimetype": "text/x-python",
   "name": "python",
   "nbconvert_exporter": "python",
   "pygments_lexer": "ipython3",
   "version": "3.7.6"
  }
 },
 "nbformat": 4,
 "nbformat_minor": 4
}
