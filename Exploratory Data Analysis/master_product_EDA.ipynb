{
 "cells": [
  {
   "cell_type": "code",
   "execution_count": 1,
   "metadata": {},
   "outputs": [],
   "source": [
    "import pandas as pd\n",
    "#df_raw_x.boxplot(column=[\"PT_SURFACE_AREA\"])"
   ]
  },
  {
   "cell_type": "code",
   "execution_count": 2,
   "metadata": {},
   "outputs": [],
   "source": [
    "df_product = pd.read_csv(\"master_product_sheet_000.csv\")"
   ]
  },
  {
   "cell_type": "code",
   "execution_count": 4,
   "metadata": {},
   "outputs": [],
   "source": [
    "import matplotlib\n",
    "import matplotlib.pyplot as plt\n",
    "matplotlib.rc('font', family = \"NanumGothic\")"
   ]
  },
  {
   "cell_type": "code",
   "execution_count": 9,
   "metadata": {},
   "outputs": [
    {
     "data": {
      "text/plain": [
       "<matplotlib.axes._subplots.AxesSubplot at 0x7f3d61283350>"
      ]
     },
     "execution_count": 9,
     "metadata": {},
     "output_type": "execute_result"
    },
    {
     "data": {
      "image/png": "[encoded data removed]",
      "text/plain": [
       "<Figure size 432x288 with 1 Axes>"
      ]
     },
     "metadata": {
      "needs_background": "light"
     },
     "output_type": "display_data"
    }
   ],
   "source": [
    "df_product[\"제조사\"].hist()"
   ]
  },
  {
   "cell_type": "code",
   "execution_count": 8,
   "metadata": {},
   "outputs": [
    {
     "data": {
      "text/plain": [
       "array(['자체제작', '(주)니드코', nan, '은진물산', 'Y-MD-00739', 'Y-MD-00739★',\n",
       "       'Y-MD-00748'], dtype=object)"
      ]
     },
     "execution_count": 8,
     "metadata": {},
     "output_type": "execute_result"
    }
   ],
   "source": [
    "df_product[\"제조사\"].unique()"
   ]
  },
  {
   "cell_type": "code",
   "execution_count": 11,
   "metadata": {
    "scrolled": true
   },
   "outputs": [
    {
     "data": {
      "text/plain": [
       "<matplotlib.axes._subplots.AxesSubplot at 0x7f3d611c6f10>"
      ]
     },
     "execution_count": 11,
     "metadata": {},
     "output_type": "execute_result"
    },
    {
     "data": {
      "image/png": "[encoded data removed]",
      "text/plain": [
       "<Figure size 432x288 with 1 Axes>"
      ]
     },
     "metadata": {
      "needs_background": "light"
     },
     "output_type": "display_data"
    }
   ],
   "source": [
    "df_product[\"판매가\"].hist()"
   ]
  },
  {
   "cell_type": "code",
   "execution_count": 14,
   "metadata": {},
   "outputs": [
    {
     "data": {
      "text/plain": [
       "<matplotlib.axes._subplots.AxesSubplot at 0x7f3d6293a390>"
      ]
     },
     "execution_count": 14,
     "metadata": {},
     "output_type": "execute_result"
    },
    {
     "data": {
      "image/png": "[encoded data removed]",
      "text/plain": [
       "<Figure size 432x288 with 1 Axes>"
      ]
     },
     "metadata": {
      "needs_background": "light"
     },
     "output_type": "display_data"
    }
   ],
   "source": [
    "df_product[\"판매가\"].hist(range = (45000, 500000))"
   ]
  },
  {
   "cell_type": "code",
   "execution_count": 16,
   "metadata": {},
   "outputs": [
    {
     "data": {
      "text/plain": [
       "array(['018 : 실링용기\\n018002 : 실링용기 > 2319(2318)시리즈\\n042 : 실링제품\\n042001 : 실링제품 > 실링용기\\n061 : vol.4 Catalogue\\n061012 : vol.4 Catalogue > 카달로그_12',\n",
       "       '002 : 주방용품\\n002002 : 주방용품 > 주방용품\\n046 : 주방용품/소모품\\n046007 : 주방용품/소모품 > 주방용품\\n046007002 : 주방용품/소모품 > 주방용품 > 쟁반',\n",
       "       '002 : 주방용품\\n002002 : 주방용품 > 주방용품\\n046 : 주방용품/소모품\\n046007 : 주방용품/소모품 > 주방용품\\n046007004 : 주방용품/소모품 > 주방용품 > 식기',\n",
       "       '002 : 주방용품\\n002002 : 주방용품 > 주방용품\\n046 : 주방용품/소모품\\n046010 : 주방용품/소모품 > 주방잡화\\n046010003 : 주방용품/소모품 > 주방잡화 > 기타',\n",
       "       '002 : 주방용품\\n002002 : 주방용품 > 주방용품\\n046 : 주방용품/소모품\\n046007 : 주방용품/소모품 > 주방용품\\n046007009 : 주방용품/소모품 > 주방용품 > 기타',\n",
       "       '050 : 식자재\\n050001 : 식자재 > 한식 식자재\\n050001012 : 식자재 > 한식 식자재 > 김\\n026 : NEW\\n026010 : NEW > 식자재\\n026010001 : NEW > 식자재 > 한식 식자재\\n026010001012 : NEW > 식자재 > 한식 식자재 > 김',\n",
       "       '046 : 주방용품/소모품\\n046009 : 주방용품/소모품 > 일회용품\\n046009002 : 주방용품/소모품 > 일회용품 > 냅킨/물티슈',\n",
       "       '002 : 주방용품\\n002002 : 주방용품 > 주방용품\\n046 : 주방용품/소모품\\n046008 : 주방용품/소모품 > 생활용품\\n046008001 : 주방용품/소모품 > 생활용품 > 발판',\n",
       "       '002 : 주방용품\\n002002 : 주방용품 > 주방용품\\n046 : 주방용품/소모품\\n046010 : 주방용품/소모품 > 주방잡화\\n046010002 : 주방용품/소모품 > 주방잡화 > 가스토치/점화기',\n",
       "       '050 : 식자재\\n050002 : 식자재 > 중식 식자재\\n050002002 : 식자재 > 중식 식자재 > 장류',\n",
       "       '050 : 식자재\\n050002 : 식자재 > 중식 식자재\\n050002002 : 식자재 > 중식 식자재 > 장류\\n026 : NEW\\n026010 : NEW > 식자재\\n026010002 : NEW > 식자재 > 중식 식자재\\n026010002002 : NEW > 식자재 > 중식 식자재 > 장류\\n061 : vol.4 Catalogue\\n061021 : vol.4 Catalogue > 카달로그_1',\n",
       "       '050 : 식자재\\n050005 : 식자재 > 카페 식재료\\n050005002 : 식자재 > 카페 식재료 > 시럽류\\n026 : NEW\\n026010 : NEW > 식자재\\n026010007 : NEW > 식자재 > 카페 식재료\\n026010007002 : NEW > 식자재 > 카페 식재료 > 시럽류\\n061024 : vol.4 Catalogue > 카달로그_4',\n",
       "       '053 : 소량',\n",
       "       '050 : 식자재\\n050001 : 식자재 > 한식 식자재\\n050001003 : 식자재 > 한식 식자재 > 소스류\\n026 : NEW\\n026010 : NEW > 식자재\\n026010001 : NEW > 식자재 > 한식 식자재\\n026010001003 : NEW > 식자재 > 한식 식자재 > 소스류\\n061 : vol.4 Catalogue\\n061021 : vol.4 Catalogue > 카달로그_1',\n",
       "       '050 : 식자재\\n050001 : 식자재 > 한식 식자재\\n050001006 : 식자재 > 한식 식자재 > 면류\\n026 : NEW\\n026010 : NEW > 식자재\\n026010001 : NEW > 식자재 > 한식 식자재\\n026010001006 : NEW > 식자재 > 한식 식자재 > 면류\\n061 : vol.4 Catalogue\\n061021 : vol.4 Catalogue > 카달로그_1',\n",
       "       '050 : 식자재\\n026 : NEW\\n061 : vol.4 Catalogue\\n061023 : vol.4 Catalogue > 카달로그_3',\n",
       "       '050 : 식자재\\n026 : NEW',\n",
       "       '050 : 식자재\\n026 : NEW\\n061 : vol.4 Catalogue\\n061021 : vol.4 Catalogue > 카달로그_1',\n",
       "       '050 : 식자재\\n026 : NEW\\n061 : vol.4 Catalogue\\n061022 : vol.4 Catalogue > 카달로그_2',\n",
       "       '050 : 식자재\\n050002 : 식자재 > 중식 식자재\\n050001 : 식자재 > 한식 식자재',\n",
       "       '050 : 식자재\\n050001 : 식자재 > 한식 식자재\\n050001002 : 식자재 > 한식 식자재 > 장류\\n026 : NEW\\n026010 : NEW > 식자재\\n026010001 : NEW > 식자재 > 한식 식자재\\n026010001002 : NEW > 식자재 > 한식 식자재 > 장류',\n",
       "       '050 : 식자재\\n050004 : 식자재 > 양식 식자재\\n050004003 : 식자재 > 양식 식자재 > 캔류/병류\\n026 : NEW\\n026010 : NEW > 식자재\\n026010004 : NEW > 식자재 > 양식 식자재\\n026010004003 : NEW > 식자재 > 양식 식자재 > 캔류/병류',\n",
       "       '050 : 식자재\\n050004 : 식자재 > 양식 식자재\\n050004003 : 식자재 > 양식 식자재 > 캔류/병류',\n",
       "       '050 : 식자재\\n050004 : 식자재 > 양식 식자재\\n050004003 : 식자재 > 양식 식자재 > 캔류/병류\\n026 : NEW\\n026010 : NEW > 식자재\\n026010004 : NEW > 식자재 > 양식 식자재\\n026010004003 : NEW > 식자재 > 양식 식자재 > 캔류/병류\\n050007 : 식자재 > 태국/베트남 식자재\\n050007008 : 식자재 > 태국/베트남 식자재 > 캔류/병류\\n061 : vol.4 Catalogue\\n061023 : vol.4 Catalogue > 카달로그_3',\n",
       "       '050 : 식자재\\n050004 : 식자재 > 양식 식자재\\n050004003 : 식자재 > 양식 식자재 > 캔류/병류\\n026 : NEW\\n026010 : NEW > 식자재\\n026010004 : NEW > 식자재 > 양식 식자재\\n026010004003 : NEW > 식자재 > 양식 식자재 > 캔류/병류\\n061 : vol.4 Catalogue\\n061023 : vol.4 Catalogue > 카달로그_3',\n",
       "       '050 : 식자재\\n050004 : 식자재 > 양식 식자재\\n050004001 : 식자재 > 양식 식자재 > 면류\\n026 : NEW\\n026010 : NEW > 식자재\\n026010004 : NEW > 식자재 > 양식 식자재\\n026010004001 : NEW > 식자재 > 양식 식자재 > 면류',\n",
       "       '050 : 식자재\\n050004 : 식자재 > 양식 식자재\\n050004002 : 식자재 > 양식 식자재 > 소스류\\n026 : NEW\\n026010 : NEW > 식자재\\n026010004 : NEW > 식자재 > 양식 식자재\\n026010004002 : NEW > 식자재 > 양식 식자재 > 소스류',\n",
       "       '050 : 식자재\\n050006 : 식자재 > 향신료\\n026 : NEW\\n026010 : NEW > 식자재\\n026010008 : NEW > 식자재 > 향신료',\n",
       "       '050 : 식자재\\n050004 : 식자재 > 양식 식자재\\n050004001 : 식자재 > 양식 식자재 > 면류\\n026 : NEW\\n026010 : NEW > 식자재\\n026010004 : NEW > 식자재 > 양식 식자재\\n026010004001 : NEW > 식자재 > 양식 식자재 > 면류\\n061 : vol.4 Catalogue\\n061023 : vol.4 Catalogue > 카달로그_3',\n",
       "       '050 : 식자재\\n050004 : 식자재 > 양식 식자재\\n050004003 : 식자재 > 양식 식자재 > 캔류/병류\\n026 : NEW\\n026010 : NEW > 식자재\\n026010004 : NEW > 식자재 > 양식 식자재',\n",
       "       '050 : 식자재\\n050004 : 식자재 > 양식 식자재\\n050004003 : 식자재 > 양식 식자재 > 캔류/병류\\n061 : vol.4 Catalogue\\n061023 : vol.4 Catalogue > 카달로그_3',\n",
       "       '050 : 식자재\\n050001 : 식자재 > 한식 식자재\\n050001003 : 식자재 > 한식 식자재 > 소스류',\n",
       "       '050 : 식자재\\n050005 : 식자재 > 카페 식재료\\n050005008 : 식자재 > 카페 식재료 > 빙수류\\n026 : NEW\\n026010 : NEW > 식자재\\n026010007 : NEW > 식자재 > 카페 식재료\\n026010007008 : NEW > 식자재 > 카페 식재료 > 빙수류',\n",
       "       '050 : 식자재\\n050007 : 식자재 > 태국/베트남 식자재\\n050001 : 식자재 > 한식 식자재\\n050001009 : 식자재 > 한식 식자재 > 단무지\\n050004 : 식자재 > 양식 식자재',\n",
       "       '050 : 식자재\\n050001 : 식자재 > 한식 식자재\\n050001007 : 식자재 > 한식 식자재 > 캔류\\n050004 : 식자재 > 양식 식자재\\n050004003 : 식자재 > 양식 식자재 > 캔류/병류\\n026 : NEW\\n026010 : NEW > 식자재\\n026010001 : NEW > 식자재 > 한식 식자재\\n026010001007 : NEW > 식자재 > 한식 식자재 > 캔류\\n026010004 : NEW > 식자재 > 양식 식자재\\n026010004003 : NEW > 식자재 > 양식 식자재 > 캔류/병류',\n",
       "       '050 : 식자재\\n050006 : 식자재 > 향신료\\n050006001 : 식자재 > 향신료 > 파우더',\n",
       "       '050 : 식자재\\n050005 : 식자재 > 카페 식재료\\n050005002 : 식자재 > 카페 식재료 > 시럽류\\n026 : NEW\\n026010 : NEW > 식자재\\n026010007 : NEW > 식자재 > 카페 식재료\\n026010007002 : NEW > 식자재 > 카페 식재료 > 시럽류',\n",
       "       '051015010 : 스티커 제작 > 원형 스티커 > 원형 #1탄 18종\\n051015012 : 스티커 제작 > 원형 스티커 > 원형스티커 40·55·65Ø\\n051 : 스티커 제작\\n051015 : 스티커 제작 > 원형 스티커',\n",
       "       '050 : 식자재\\n050004 : 식자재 > 양식 식자재\\n050004004 : 식자재 > 양식 식자재 > 과자류\\n026 : NEW\\n026010 : NEW > 식자재\\n026010004 : NEW > 식자재 > 양식 식자재\\n026010004004 : NEW > 식자재 > 양식 식자재 > 과자류',\n",
       "       '050 : 식자재\\n050004 : 식자재 > 양식 식자재\\n050004005 : 식자재 > 양식 식자재 > 가루류',\n",
       "       '026 : NEW\\n026010 : NEW > 식자재\\n026010004 : NEW > 식자재 > 양식 식자재\\n026010004006 : NEW > 식자재 > 양식 식자재 > 식용유지',\n",
       "       '050 : 식자재\\n050004 : 식자재 > 양식 식자재\\n050004005 : 식자재 > 양식 식자재 > 가루류\\n026 : NEW\\n026010 : NEW > 식자재\\n026010004 : NEW > 식자재 > 양식 식자재\\n026010004005 : NEW > 식자재 > 양식 식자재 > 가루류',\n",
       "       '050 : 식자재\\n050001 : 식자재 > 한식 식자재\\n050001004 : 식자재 > 한식 식자재 > 식용유지\\n050002 : 식자재 > 중식 식자재\\n050002004 : 식자재 > 중식 식자재 > 식용유지\\n026 : NEW\\n026010 : NEW > 식자재\\n026010001 : NEW > 식자재 > 한식 식자재\\n026010001004 : NEW > 식자재 > 한식 식자재 > 식용유지\\n026010002 : NEW > 식자재 > 중식 식자재\\n026010002004 : NEW > 식자재 > 중식 식자재 > 식용유지',\n",
       "       '050 : 식자재\\n050002 : 식자재 > 중식 식자재\\n050002007 : 식자재 > 중식 식자재 > 캔류\\n026 : NEW\\n026010 : NEW > 식자재\\n026010002 : NEW > 식자재 > 중식 식자재\\n026010002007 : NEW > 식자재 > 중식 식자재 > 캔류',\n",
       "       '050 : 식자재\\n050005 : 식자재 > 카페 식재료\\n050005008 : 식자재 > 카페 식재료 > 빙수류\\n050007 : 식자재 > 태국/베트남 식자재\\n050007008 : 식자재 > 태국/베트남 식자재 > 캔류/병류\\n026 : NEW\\n026010 : NEW > 식자재\\n026010005 : NEW > 식자재 > 태국/베트남 식자재\\n026010005008 : NEW > 식자재 > 태국/베트남 식자재 > 캔류/병류\\n026010007 : NEW > 식자재 > 카페 식재료\\n026010007008 : NEW > 식자재 > 카페 식재료 > 빙수류',\n",
       "       '050 : 식자재\\n050007 : 식자재 > 태국/베트남 식자재\\n050007008 : 식자재 > 태국/베트남 식자재 > 캔류/병류\\n050001 : 식자재 > 한식 식자재\\n050001007 : 식자재 > 한식 식자재 > 캔류\\n026 : NEW\\n026010 : NEW > 식자재\\n026010001 : NEW > 식자재 > 한식 식자재\\n026010001007 : NEW > 식자재 > 한식 식자재 > 캔류',\n",
       "       '050 : 식자재\\n050004 : 식자재 > 양식 식자재\\n050004003 : 식자재 > 양식 식자재 > 캔류/병류\\n026 : NEW\\n026010 : NEW > 식자재\\n026010004 : NEW > 식자재 > 양식 식자재\\n026010004003 : NEW > 식자재 > 양식 식자재 > 캔류/병류\\n050007 : 식자재 > 태국/베트남 식자재\\n050007008 : 식자재 > 태국/베트남 식자재 > 캔류/병류',\n",
       "       '050 : 식자재\\n050003 : 식자재 > 일식 식자재\\n050003003 : 식자재 > 일식 식자재 > 가쓰오부시\\n026 : NEW\\n026010 : NEW > 식자재\\n026010003 : NEW > 식자재 > 일식 식자재\\n026010003003 : NEW > 식자재 > 일식 식자재 > 가쓰오부시',\n",
       "       '050 : 식자재\\n050003 : 식자재 > 일식 식자재\\n050003003 : 식자재 > 일식 식자재 > 가쓰오부시\\n026 : NEW\\n026010 : NEW > 식자재\\n026010003 : NEW > 식자재 > 일식 식자재\\n026010003003 : NEW > 식자재 > 일식 식자재 > 가쓰오부시\\n061 : vol.4 Catalogue\\n061023 : vol.4 Catalogue > 카달로그_3',\n",
       "       '050 : 식자재\\n050001 : 식자재 > 한식 식자재\\n050001003 : 식자재 > 한식 식자재 > 소스류\\n050002 : 식자재 > 중식 식자재\\n050002003 : 식자재 > 중식 식자재 > 소스류\\n026 : NEW\\n026010 : NEW > 식자재\\n026010002 : NEW > 식자재 > 중식 식자재\\n026010002003 : NEW > 식자재 > 중식 식자재 > 소스류\\n061 : vol.4 Catalogue\\n061021 : vol.4 Catalogue > 카달로그_1',\n",
       "       '050 : 식자재\\n050001 : 식자재 > 한식 식자재\\n050001001 : 식자재 > 한식 식자재 > 파우더\\n026 : NEW\\n026010 : NEW > 식자재\\n026010001 : NEW > 식자재 > 한식 식자재\\n026010001001 : NEW > 식자재 > 한식 식자재 > 파우더',\n",
       "       '050 : 식자재\\n050001 : 식자재 > 한식 식자재\\n050001001 : 식자재 > 한식 식자재 > 파우더\\n050002 : 식자재 > 중식 식자재\\n050002001 : 식자재 > 중식 식자재 > 파우더\\n026 : NEW\\n026010 : NEW > 식자재\\n026010001 : NEW > 식자재 > 한식 식자재\\n026010001001 : NEW > 식자재 > 한식 식자재 > 파우더\\n026010002 : NEW > 식자재 > 중식 식자재\\n026010002001 : NEW > 식자재 > 중식 식자재 > 파우더',\n",
       "       '050 : 식자재\\n050005 : 식자재 > 카페 식재료\\n050005006 : 식자재 > 카페 식재료 > 파우더\\n026 : NEW\\n026010 : NEW > 식자재\\n026010007 : NEW > 식자재 > 카페 식재료\\n026010007006 : NEW > 식자재 > 카페 식재료 > 파우더',\n",
       "       '050 : 식자재\\n050001 : 식자재 > 한식 식자재\\n050001010 : 식자재 > 한식 식자재 > 음료\\n026 : NEW\\n026010 : NEW > 식자재\\n026010001 : NEW > 식자재 > 한식 식자재\\n026010001010 : NEW > 식자재 > 한식 식자재 > 음료',\n",
       "       '050 : 식자재\\n050001 : 식자재 > 한식 식자재\\n050001001 : 식자재 > 한식 식자재 > 파우더\\n050002 : 식자재 > 중식 식자재\\n050002001 : 식자재 > 중식 식자재 > 파우더',\n",
       "       '050 : 식자재\\n050001 : 식자재 > 한식 식자재\\n050001001 : 식자재 > 한식 식자재 > 파우더\\n026 : NEW\\n026010 : NEW > 식자재\\n026010001 : NEW > 식자재 > 한식 식자재\\n061 : vol.4 Catalogue\\n061022 : vol.4 Catalogue > 카달로그_2',\n",
       "       '050 : 식자재\\n050001 : 식자재 > 한식 식자재\\n050001001 : 식자재 > 한식 식자재 > 파우더\\n026 : NEW\\n026010 : NEW > 식자재\\n026010001 : NEW > 식자재 > 한식 식자재',\n",
       "       '050 : 식자재\\n050001 : 식자재 > 한식 식자재\\n050001001 : 식자재 > 한식 식자재 > 파우더\\n026 : NEW\\n026010 : NEW > 식자재\\n026010001 : NEW > 식자재 > 한식 식자재\\n026010001001 : NEW > 식자재 > 한식 식자재 > 파우더\\n061 : vol.4 Catalogue\\n061022 : vol.4 Catalogue > 카달로그_2',\n",
       "       '050 : 식자재\\n050001 : 식자재 > 한식 식자재\\n050001001 : 식자재 > 한식 식자재 > 파우더\\n050002 : 식자재 > 중식 식자재\\n050002001 : 식자재 > 중식 식자재 > 파우더\\n061 : vol.4 Catalogue\\n061022 : vol.4 Catalogue > 카달로그_2',\n",
       "       '050 : 식자재\\n050001 : 식자재 > 한식 식자재\\n050001001 : 식자재 > 한식 식자재 > 파우더\\n050002 : 식자재 > 중식 식자재\\n050002001 : 식자재 > 중식 식자재 > 파우더\\n026 : NEW\\n026010 : NEW > 식자재\\n026010001 : NEW > 식자재 > 한식 식자재\\n026010001001 : NEW > 식자재 > 한식 식자재 > 파우더\\n026010002 : NEW > 식자재 > 중식 식자재\\n026010002001 : NEW > 식자재 > 중식 식자재 > 파우더\\n061 : vol.4 Catalogue\\n061022 : vol.4 Catalogue > 카달로그_2',\n",
       "       '050 : 식자재\\n050007 : 식자재 > 태국/베트남 식자재\\n050007001 : 식자재 > 태국/베트남 식자재 > 면류\\n026 : NEW\\n026010 : NEW > 식자재\\n026010005 : NEW > 식자재 > 태국/베트남 식자재\\n026010005001 : NEW > 식자재 > 태국/베트남 식자재 > 면류',\n",
       "       '061 : vol.4 Catalogue\\n061012 : vol.4 Catalogue > 카달로그_12',\n",
       "       '046 : 주방용품/소모품\\n061 : vol.4 Catalogue\\n061012 : vol.4 Catalogue > 카달로그_12\\n046009 : 주방용품/소모품 > 일회용품\\n046009002 : 주방용품/소모품 > 일회용품 > 냅킨/물티슈',\n",
       "       '050 : 식자재\\n050001 : 식자재 > 한식 식자재\\n050001008 : 식자재 > 한식 식자재 > 간편식\\n026 : NEW\\n026010 : NEW > 식자재\\n026010001 : NEW > 식자재 > 한식 식자재\\n026010001008 : NEW > 식자재 > 한식 식자재 > 간편식',\n",
       "       '050 : 식자재\\n050001 : 식자재 > 한식 식자재\\n050001003 : 식자재 > 한식 식자재 > 소스류\\n026 : NEW\\n026010 : NEW > 식자재\\n026010001 : NEW > 식자재 > 한식 식자재\\n026010001003 : NEW > 식자재 > 한식 식자재 > 소스류',\n",
       "       '050 : 식자재\\n050005 : 식자재 > 카페 식재료\\n050005006 : 식자재 > 카페 식재료 > 파우더',\n",
       "       '050 : 식자재\\n050005 : 식자재 > 카페 식재료\\n050005001 : 식자재 > 카페 식재료 > 커피, 티',\n",
       "       '050 : 식자재\\n050005 : 식자재 > 카페 식재료\\n050005002 : 식자재 > 카페 식재료 > 시럽류',\n",
       "       '050 : 식자재\\n050005 : 식자재 > 카페 식재료\\n050005004 : 식자재 > 카페 식재료 > 스무디',\n",
       "       '050 : 식자재\\n050011 : 식자재 > 낱개판매',\n",
       "       '050 : 식자재\\n050005 : 식자재 > 카페 식재료\\n050005002 : 식자재 > 카페 식재료 > 시럽류\\n050011 : 식자재 > 낱개판매\\n026 : NEW\\n026010 : NEW > 식자재',\n",
       "       '050 : 식자재\\n050005 : 식자재 > 카페 식재료\\n050005001 : 식자재 > 카페 식재료 > 커피, 티\\n050011 : 식자재 > 낱개판매',\n",
       "       '050 : 식자재\\n050011 : 식자재 > 낱개판매\\n050005 : 식자재 > 카페 식재료\\n050005001 : 식자재 > 카페 식재료 > 커피, 티',\n",
       "       '050 : 식자재\\n050007 : 식자재 > 태국/베트남 식자재\\n050007005 : 식자재 > 태국/베트남 식자재 > 드레싱류\\n026 : NEW\\n026010 : NEW > 식자재\\n026010005 : NEW > 식자재 > 태국/베트남 식자재\\n026010005005 : NEW > 식자재 > 태국/베트남 식자재 > 드레싱류',\n",
       "       '050 : 식자재\\n050007 : 식자재 > 태국/베트남 식자재\\n050007008 : 식자재 > 태국/베트남 식자재 > 캔류/병류\\n026 : NEW\\n026010 : NEW > 식자재\\n026010005 : NEW > 식자재 > 태국/베트남 식자재\\n026010005008 : NEW > 식자재 > 태국/베트남 식자재 > 캔류/병류',\n",
       "       '050 : 식자재\\n050007 : 식자재 > 태국/베트남 식자재\\n050007003 : 식자재 > 태국/베트남 식자재 > 페이스트\\n026 : NEW\\n026010 : NEW > 식자재\\n026010005 : NEW > 식자재 > 태국/베트남 식자재\\n026010005003 : NEW > 식자재 > 태국/베트남 식자재 > 페이스트',\n",
       "       '050 : 식자재\\n026 : NEW\\n026010 : NEW > 식자재\\n050007 : 식자재 > 태국/베트남 식자재\\n050007010 : 식자재 > 태국/베트남 식자재 > 식용유지\\n026010005 : NEW > 식자재 > 태국/베트남 식자재\\n026010005010 : NEW > 식자재 > 태국/베트남 식자재 > 식용유지\\n050011 : 식자재 > 낱개판매',\n",
       "       '050 : 식자재\\n050007 : 식자재 > 태국/베트남 식자재\\n050007002 : 식자재 > 태국/베트남 식자재 > 소스류\\n026 : NEW\\n026010 : NEW > 식자재\\n026010005 : NEW > 식자재 > 태국/베트남 식자재\\n026010005002 : NEW > 식자재 > 태국/베트남 식자재 > 소스류',\n",
       "       '050 : 식자재\\n026 : NEW\\n026010 : NEW > 식자재\\n050007 : 식자재 > 태국/베트남 식자재\\n050007002 : 식자재 > 태국/베트남 식자재 > 소스류\\n026010005 : NEW > 식자재 > 태국/베트남 식자재\\n026010005002 : NEW > 식자재 > 태국/베트남 식자재 > 소스류',\n",
       "       '050 : 식자재\\n050007 : 식자재 > 태국/베트남 식자재\\n026 : NEW\\n026010 : NEW > 식자재\\n050007002 : 식자재 > 태국/베트남 식자재 > 소스류\\n026010005 : NEW > 식자재 > 태국/베트남 식자재\\n026010005002 : NEW > 식자재 > 태국/베트남 식자재 > 소스류',\n",
       "       '050 : 식자재\\n050006 : 식자재 > 향신료\\n026 : NEW\\n026010 : NEW > 식자재\\n026010008 : NEW > 식자재 > 향신료\\n050007 : 식자재 > 태국/베트남 식자재\\n050007009 : 식자재 > 태국/베트남 식자재 > 향신료\\n026010005 : NEW > 식자재 > 태국/베트남 식자재\\n026010005009 : NEW > 식자재 > 태국/베트남 식자재 > 향신료',\n",
       "       '050 : 식자재\\n050007 : 식자재 > 태국/베트남 식자재\\n050006 : 식자재 > 향신료\\n026 : NEW\\n026010 : NEW > 식자재\\n050007003 : 식자재 > 태국/베트남 식자재 > 페이스트\\n026010005 : NEW > 식자재 > 태국/베트남 식자재\\n026010005003 : NEW > 식자재 > 태국/베트남 식자재 > 페이스트',\n",
       "       '050 : 식자재\\n050006 : 식자재 > 향신료\\n026 : NEW\\n026010 : NEW > 식자재',\n",
       "       '050 : 식자재\\n050005 : 식자재 > 카페 식재료\\n050005009 : 식자재 > 카페 식재료 > 펄\\n050007 : 식자재 > 태국/베트남 식자재\\n050007007 : 식자재 > 태국/베트남 식자재 > 음료\\n026 : NEW\\n026010 : NEW > 식자재\\n026010007 : NEW > 식자재 > 카페 식재료\\n026010007009 : NEW > 식자재 > 카페 식재료 > 펄\\n026010005 : NEW > 식자재 > 태국/베트남 식자재\\n026010005007 : NEW > 식자재 > 태국/베트남 식자재 > 음료',\n",
       "       '050 : 식자재\\n050007 : 식자재 > 태국/베트남 식자재\\n050007001 : 식자재 > 태국/베트남 식자재 > 면류\\n026 : NEW\\n026010 : NEW > 식자재\\n026010005 : NEW > 식자재 > 태국/베트남 식자재\\n026010005001 : NEW > 식자재 > 태국/베트남 식자재 > 면류\\n061 : vol.4 Catalogue\\n061023 : vol.4 Catalogue > 카달로그_3',\n",
       "       '050 : 식자재\\n050005 : 식자재 > 카페 식재료\\n050005010 : 식자재 > 카페 식재료 > 향신료\\n026 : NEW\\n026010 : NEW > 식자재\\n026010007 : NEW > 식자재 > 카페 식재료\\n026010007010 : NEW > 식자재 > 카페 식재료 > 향신료\\n050007 : 식자재 > 태국/베트남 식자재\\n050007009 : 식자재 > 태국/베트남 식자재 > 향신료\\n026010005 : NEW > 식자재 > 태국/베트남 식자재\\n026010005009 : NEW > 식자재 > 태국/베트남 식자재 > 향신료',\n",
       "       '050 : 식자재\\n050007 : 식자재 > 태국/베트남 식자재\\n050001 : 식자재 > 한식 식자재\\n050002 : 식자재 > 중식 식자재\\n026 : NEW\\n026010 : NEW > 식자재\\n026010001 : NEW > 식자재 > 한식 식자재\\n026010002 : NEW > 식자재 > 중식 식자재\\n026010005 : NEW > 식자재 > 태국/베트남 식자재\\n050007009 : 식자재 > 태국/베트남 식자재 > 향신료\\n026010005009 : NEW > 식자재 > 태국/베트남 식자재 > 향신료',\n",
       "       '050 : 식자재\\n026 : NEW\\n026010 : NEW > 식자재',\n",
       "       '050 : 식자재\\n050001 : 식자재 > 한식 식자재\\n050001011 : 식자재 > 한식 식자재 > 식초\\n050002 : 식자재 > 중식 식자재\\n050002009 : 식자재 > 중식 식자재 > 식초\\n050007 : 식자재 > 태국/베트남 식자재\\n050007004 : 식자재 > 태국/베트남 식자재 > 식초\\n026 : NEW\\n026010 : NEW > 식자재\\n026010001 : NEW > 식자재 > 한식 식자재\\n026010001011 : NEW > 식자재 > 한식 식자재 > 식초\\n026010002 : NEW > 식자재 > 중식 식자재\\n026010002009 : NEW > 식자재 > 중식 식자재 > 식초\\n026010005 : NEW > 식자재 > 태국/베트남 식자재\\n026010005004 : NEW > 식자재 > 태국/베트남 식자재 > 식초\\n050011 : 식자재 > 낱개판매',\n",
       "       '050 : 식자재\\n050007 : 식자재 > 태국/베트남 식자재\\n050007006 : 식자재 > 태국/베트남 식자재 > 장류\\n026 : NEW\\n026010 : NEW > 식자재\\n026010005 : NEW > 식자재 > 태국/베트남 식자재\\n026010005006 : NEW > 식자재 > 태국/베트남 식자재 > 장류',\n",
       "       '050 : 식자재\\n050007 : 식자재 > 태국/베트남 식자재\\n026 : NEW\\n026010 : NEW > 식자재\\n026010005 : NEW > 식자재 > 태국/베트남 식자재\\n050007002 : 식자재 > 태국/베트남 식자재 > 소스류\\n026010005002 : NEW > 식자재 > 태국/베트남 식자재 > 소스류',\n",
       "       '050 : 식자재\\n026 : NEW\\n026010 : NEW > 식자재\\n050007 : 식자재 > 태국/베트남 식자재\\n050007008 : 식자재 > 태국/베트남 식자재 > 캔류/병류\\n026010005 : NEW > 식자재 > 태국/베트남 식자재\\n026010005008 : NEW > 식자재 > 태국/베트남 식자재 > 캔류/병류',\n",
       "       '050 : 식자재\\n026 : NEW\\n026010 : NEW > 식자재\\n050007 : 식자재 > 태국/베트남 식자재\\n050007002 : 식자재 > 태국/베트남 식자재 > 소스류\\n026010005 : NEW > 식자재 > 태국/베트남 식자재\\n026010005002 : NEW > 식자재 > 태국/베트남 식자재 > 소스류\\n061 : vol.4 Catalogue\\n061023 : vol.4 Catalogue > 카달로그_3',\n",
       "       '050 : 식자재\\n050007 : 식자재 > 태국/베트남 식자재\\n050007006 : 식자재 > 태국/베트남 식자재 > 장류\\n026 : NEW\\n026010 : NEW > 식자재\\n026010005 : NEW > 식자재 > 태국/베트남 식자재\\n026010005006 : NEW > 식자재 > 태국/베트남 식자재 > 장류\\n061 : vol.4 Catalogue\\n061023 : vol.4 Catalogue > 카달로그_3',\n",
       "       '050 : 식자재\\n050001 : 식자재 > 한식 식자재\\n050001007 : 식자재 > 한식 식자재 > 캔류\\n026 : NEW\\n026010 : NEW > 식자재\\n026010001 : NEW > 식자재 > 한식 식자재\\n026010001007 : NEW > 식자재 > 한식 식자재 > 캔류\\n061 : vol.4 Catalogue\\n061022 : vol.4 Catalogue > 카달로그_2',\n",
       "       '050 : 식자재\\n050003 : 식자재 > 일식 식자재\\n050003001 : 식자재 > 일식 식자재 > 장류\\n026 : NEW\\n026010 : NEW > 식자재\\n026010003 : NEW > 식자재 > 일식 식자재\\n026010003001 : NEW > 식자재 > 일식 식자재 > 장류',\n",
       "       '050 : 식자재\\n050002 : 식자재 > 중식 식자재\\n050002006 : 식자재 > 중식 식자재 > 면류\\n026 : NEW\\n026010 : NEW > 식자재\\n026010002 : NEW > 식자재 > 중식 식자재\\n026010002006 : NEW > 식자재 > 중식 식자재 > 면류\\n061 : vol.4 Catalogue\\n061021 : vol.4 Catalogue > 카달로그_1',\n",
       "       '050 : 식자재\\n050001 : 식자재 > 한식 식자재\\n050001009 : 식자재 > 한식 식자재 > 단무지\\n050007 : 식자재 > 태국/베트남 식자재\\n050007008 : 식자재 > 태국/베트남 식자재 > 캔류/병류\\n026 : NEW\\n026010 : NEW > 식자재\\n026010001 : NEW > 식자재 > 한식 식자재\\n026010001009 : NEW > 식자재 > 한식 식자재 > 단무지\\n026010005 : NEW > 식자재 > 태국/베트남 식자재\\n026010005008 : NEW > 식자재 > 태국/베트남 식자재 > 캔류/병류',\n",
       "       '050 : 식자재\\n050001 : 식자재 > 한식 식자재\\n050001004 : 식자재 > 한식 식자재 > 식용유지\\n050002 : 식자재 > 중식 식자재\\n050002004 : 식자재 > 중식 식자재 > 식용유지\\n026 : NEW\\n026010 : NEW > 식자재\\n026010001 : NEW > 식자재 > 한식 식자재\\n026010001004 : NEW > 식자재 > 한식 식자재 > 식용유지\\n026010002 : NEW > 식자재 > 중식 식자재\\n026010002004 : NEW > 식자재 > 중식 식자재 > 식용유지\\n061 : vol.4 Catalogue\\n061022 : vol.4 Catalogue > 카달로그_2',\n",
       "       '050 : 식자재\\n050002 : 식자재 > 중식 식자재',\n",
       "       '050 : 식자재\\n050001 : 식자재 > 한식 식자재\\n050001003 : 식자재 > 한식 식자재 > 소스류\\n050002 : 식자재 > 중식 식자재\\n050002003 : 식자재 > 중식 식자재 > 소스류',\n",
       "       '050 : 식자재\\n050001 : 식자재 > 한식 식자재\\n050001004 : 식자재 > 한식 식자재 > 식용유지\\n050002 : 식자재 > 중식 식자재\\n050002004 : 식자재 > 중식 식자재 > 식용유지\\n026 : NEW\\n026010 : NEW > 식자재\\n026010001 : NEW > 식자재 > 한식 식자재\\n026010001004 : NEW > 식자재 > 한식 식자재 > 식용유지\\n026010002 : NEW > 식자재 > 중식 식자재\\n026010002004 : NEW > 식자재 > 중식 식자재 > 식용유지\\n061 : vol.4 Catalogue\\n061021 : vol.4 Catalogue > 카달로그_1',\n",
       "       '050 : 식자재\\n050002 : 식자재 > 중식 식자재\\n050002007 : 식자재 > 중식 식자재 > 캔류\\n050007 : 식자재 > 태국/베트남 식자재\\n050007008 : 식자재 > 태국/베트남 식자재 > 캔류/병류\\n026 : NEW\\n026010 : NEW > 식자재\\n026010002 : NEW > 식자재 > 중식 식자재\\n026010002007 : NEW > 식자재 > 중식 식자재 > 캔류\\n026010005 : NEW > 식자재 > 태국/베트남 식자재\\n026010005008 : NEW > 식자재 > 태국/베트남 식자재 > 캔류/병류',\n",
       "       '050 : 식자재\\n050003 : 식자재 > 일식 식자재\\n026 : NEW\\n026010 : NEW > 식자재\\n026010003 : NEW > 식자재 > 일식 식자재\\n050003002 : 식자재 > 일식 식자재 > 단무지\\n026010003002 : NEW > 식자재 > 일식 식자재 > 단무지',\n",
       "       '050 : 식자재\\n050003 : 식자재 > 일식 식자재\\n026 : NEW\\n026010 : NEW > 식자재\\n026010003 : NEW > 식자재 > 일식 식자재\\n050003002 : 식자재 > 일식 식자재 > 단무지\\n026010003002 : NEW > 식자재 > 일식 식자재 > 단무지\\n061 : vol.4 Catalogue\\n061023 : vol.4 Catalogue > 카달로그_3',\n",
       "       '050 : 식자재\\n050001 : 식자재 > 한식 식자재\\n050001009 : 식자재 > 한식 식자재 > 단무지\\n050002 : 식자재 > 중식 식자재\\n050002008 : 식자재 > 중식 식자재 > 단무지\\n026 : NEW\\n026010 : NEW > 식자재\\n026010001 : NEW > 식자재 > 한식 식자재\\n026010001009 : NEW > 식자재 > 한식 식자재 > 단무지\\n026010002 : NEW > 식자재 > 중식 식자재\\n026010002008 : NEW > 식자재 > 중식 식자재 > 단무지\\n050003 : 식자재 > 일식 식자재\\n050003002 : 식자재 > 일식 식자재 > 단무지\\n026010003 : NEW > 식자재 > 일식 식자재\\n026010003002 : NEW > 식자재 > 일식 식자재 > 단무지\\n061 : vol.4 Catalogue\\n061023 : vol.4 Catalogue > 카달로그_3',\n",
       "       '050 : 식자재\\n050005 : 식자재 > 카페 식재료\\n050005005 : 식자재 > 카페 식재료 > 소스류\\n026 : NEW\\n026010 : NEW > 식자재',\n",
       "       '050 : 식자재\\n050005 : 식자재 > 카페 식재료\\n050005003 : 식자재 > 카페 식재료 > 퓨레\\n026 : NEW\\n026010 : NEW > 식자재\\n026010007 : NEW > 식자재 > 카페 식재료\\n026010007003 : NEW > 식자재 > 카페 식재료 > 퓨레',\n",
       "       '050 : 식자재\\n050005 : 식자재 > 카페 식재료\\n050005010 : 식자재 > 카페 식재료 > 향신료\\n026 : NEW\\n026010 : NEW > 식자재\\n026010007 : NEW > 식자재 > 카페 식재료\\n026010007010 : NEW > 식자재 > 카페 식재료 > 향신료',\n",
       "       '050 : 식자재\\n050006 : 식자재 > 향신료\\n026 : NEW\\n026010 : NEW > 식자재\\n061 : vol.4 Catalogue\\n061022 : vol.4 Catalogue > 카달로그_2',\n",
       "       '050 : 식자재\\n050006 : 식자재 > 향신료\\n026 : NEW\\n026010 : NEW > 식자재\\n026010008 : NEW > 식자재 > 향신료\\n061 : vol.4 Catalogue\\n061022 : vol.4 Catalogue > 카달로그_2',\n",
       "       '050 : 식자재\\n050005 : 식자재 > 카페 식재료\\n050005007 : 식자재 > 카페 식재료 > 페이스트\\n026 : NEW\\n026010 : NEW > 식자재\\n026010007 : NEW > 식자재 > 카페 식재료\\n026010007007 : NEW > 식자재 > 카페 식재료 > 페이스트',\n",
       "       '050 : 식자재\\n050005 : 식자재 > 카페 식재료\\n050005005 : 식자재 > 카페 식재료 > 소스류\\n026 : NEW\\n026010 : NEW > 식자재\\n026010007 : NEW > 식자재 > 카페 식재료\\n026010007005 : NEW > 식자재 > 카페 식재료 > 소스류\\n061024 : vol.4 Catalogue > 카달로그_4',\n",
       "       '050 : 식자재\\n050005 : 식자재 > 카페 식재료\\n050005005 : 식자재 > 카페 식재료 > 소스류\\n026 : NEW\\n026010 : NEW > 식자재\\n026010007 : NEW > 식자재 > 카페 식재료\\n026010007005 : NEW > 식자재 > 카페 식재료 > 소스류',\n",
       "       '050 : 식자재\\n050005 : 식자재 > 카페 식재료\\n050005002 : 식자재 > 카페 식재료 > 시럽류\\n026 : NEW\\n026010 : NEW > 식자재\\n026010007 : NEW > 식자재 > 카페 식재료',\n",
       "       '050 : 식자재\\n050005 : 식자재 > 카페 식재료\\n050005002 : 식자재 > 카페 식재료 > 시럽류\\n026 : NEW\\n026010 : NEW > 식자재\\n026010007 : NEW > 식자재 > 카페 식재료\\n061024 : vol.4 Catalogue > 카달로그_4',\n",
       "       '050 : 식자재\\n050005 : 식자재 > 카페 식재료\\n050005004 : 식자재 > 카페 식재료 > 스무디\\n026 : NEW\\n026010 : NEW > 식자재\\n026010007 : NEW > 식자재 > 카페 식재료\\n026010007004 : NEW > 식자재 > 카페 식재료 > 스무디\\n061024 : vol.4 Catalogue > 카달로그_4',\n",
       "       '050 : 식자재\\n050005 : 식자재 > 카페 식재료\\n050005004 : 식자재 > 카페 식재료 > 스무디\\n026 : NEW\\n026010 : NEW > 식자재\\n026010007 : NEW > 식자재 > 카페 식재료\\n026010007004 : NEW > 식자재 > 카페 식재료 > 스무디',\n",
       "       '050 : 식자재\\n050001 : 식자재 > 한식 식자재\\n050001010 : 식자재 > 한식 식자재 > 음료\\n050011 : 식자재 > 낱개판매\\n026 : NEW\\n026010 : NEW > 식자재\\n026010001 : NEW > 식자재 > 한식 식자재\\n026010001010 : NEW > 식자재 > 한식 식자재 > 음료',\n",
       "       '050 : 식자재\\n050001 : 식자재 > 한식 식자재\\n050001010 : 식자재 > 한식 식자재 > 음료\\n026 : NEW\\n026010 : NEW > 식자재\\n026010001 : NEW > 식자재 > 한식 식자재\\n026010001010 : NEW > 식자재 > 한식 식자재 > 음료\\n061 : vol.4 Catalogue\\n061024 : vol.4 Catalogue > 카달로그_4',\n",
       "       '050 : 식자재\\n050001 : 식자재 > 한식 식자재\\n050001010 : 식자재 > 한식 식자재 > 음료\\n050011 : 식자재 > 낱개판매\\n026 : NEW\\n026010 : NEW > 식자재\\n026010001 : NEW > 식자재 > 한식 식자재\\n026010001010 : NEW > 식자재 > 한식 식자재 > 음료\\n061 : vol.4 Catalogue\\n061024 : vol.4 Catalogue > 카달로그_4',\n",
       "       '050 : 식자재\\n050005 : 식자재 > 카페 식재료\\n050005006 : 식자재 > 카페 식재료 > 파우더\\n026 : NEW\\n026010 : NEW > 식자재\\n026010007 : NEW > 식자재 > 카페 식재료\\n026010007006 : NEW > 식자재 > 카페 식재료 > 파우더\\n061 : vol.4 Catalogue\\n061024 : vol.4 Catalogue > 카달로그_4',\n",
       "       '050 : 식자재\\n050005 : 식자재 > 카페 식재료\\n050005006 : 식자재 > 카페 식재료 > 파우더\\n026 : NEW\\n026010 : NEW > 식자재\\n026010007 : NEW > 식자재 > 카페 식재료\\n026010007006 : NEW > 식자재 > 카페 식재료 > 파우더\\n061024 : vol.4 Catalogue > 카달로그_4',\n",
       "       '026 : NEW\\n026002 : NEW > 펄프용기\\n038 : 한식(분식) 용기\\n038004 : 한식(분식) 용기 > 도시락용기/직화용기\\n039 : 중식 용기\\n039005 : 중식 용기 > 샐러드/도시락용기\\n040 : 일식 용기\\n040004 : 일식 용기 > 초밥/도시락용기/직화용기\\n040004002 : 일식 용기 > 초밥/도시락용기/직화용기 > 도시락용기\\n041 : 양식 용기\\n041004 : 양식 용기 > 도시락용기/직화용기\\n041004001 : 양식 용기 > 도시락용기/직화용기 > 도시락용기\\n038004001 : 한식(분식) 용기 > 도시락용기/직화용기 > 도시락용기\\n061 : vol.4 Catalogue\\n061011 : vol.4 Catalogue > 카달로그_11',\n",
       "       '050 : 식자재\\n050001 : 식자재 > 한식 식자재\\n050001001 : 식자재 > 한식 식자재 > 파우더\\n050002 : 식자재 > 중식 식자재\\n050002001 : 식자재 > 중식 식자재 > 파우더\\n026 : NEW\\n026010 : NEW > 식자재\\n026010002 : NEW > 식자재 > 중식 식자재\\n026010002001 : NEW > 식자재 > 중식 식자재 > 파우더',\n",
       "       '050 : 식자재\\n050001 : 식자재 > 한식 식자재\\n050001005 : 식자재 > 한식 식자재 > 물엿/당류\\n050002 : 식자재 > 중식 식자재\\n050002005 : 식자재 > 중식 식자재 > 물엿/당류\\n026 : NEW\\n026010 : NEW > 식자재\\n026010002 : NEW > 식자재 > 중식 식자재\\n026010002005 : NEW > 식자재 > 중식 식자재 > 물엿/당류',\n",
       "       '046 : 주방용품/소모품\\n026 : NEW\\n026010 : NEW > 식자재\\n046009 : 주방용품/소모품 > 일회용품\\n046009003 : 주방용품/소모품 > 일회용품 > 비닐장갑',\n",
       "       '046 : 주방용품/소모품\\n026 : NEW\\n026010 : NEW > 식자재',\n",
       "       '046 : 주방용품/소모품\\n046001 : 주방용품/소모품 > 비닐봉투\\n026 : NEW\\n026010 : NEW > 식자재',\n",
       "       '046 : 주방용품/소모품\\n046001 : 주방용품/소모품 > 비닐봉투\\n026 : NEW\\n026010 : NEW > 식자재\\n061 : vol.4 Catalogue\\n061012 : vol.4 Catalogue > 카달로그_12',\n",
       "       '050 : 식자재\\n050001 : 식자재 > 한식 식자재\\n050001003 : 식자재 > 한식 식자재 > 소스류\\n061 : vol.4 Catalogue\\n061021 : vol.4 Catalogue > 카달로그_1',\n",
       "       '050 : 식자재\\n050001 : 식자재 > 한식 식자재\\n050001001 : 식자재 > 한식 식자재 > 파우더\\n061 : vol.4 Catalogue\\n061022 : vol.4 Catalogue > 카달로그_2',\n",
       "       '050 : 식자재\\n050001 : 식자재 > 한식 식자재\\n050001001 : 식자재 > 한식 식자재 > 파우더',\n",
       "       '050 : 식자재\\n050001 : 식자재 > 한식 식자재\\n050001005 : 식자재 > 한식 식자재 > 물엿/당류\\n050002 : 식자재 > 중식 식자재\\n050002005 : 식자재 > 중식 식자재 > 물엿/당류\\n026 : NEW\\n026010 : NEW > 식자재\\n026010002 : NEW > 식자재 > 중식 식자재\\n026010002005 : NEW > 식자재 > 중식 식자재 > 물엿/당류\\n061 : vol.4 Catalogue\\n061021 : vol.4 Catalogue > 카달로그_1',\n",
       "       '050 : 식자재\\n050001 : 식자재 > 한식 식자재\\n050001006 : 식자재 > 한식 식자재 > 면류\\n050002 : 식자재 > 중식 식자재\\n050002006 : 식자재 > 중식 식자재 > 면류\\n026 : NEW\\n026010 : NEW > 식자재\\n026010001 : NEW > 식자재 > 한식 식자재\\n026010001006 : NEW > 식자재 > 한식 식자재 > 면류\\n026010002 : NEW > 식자재 > 중식 식자재\\n026010002006 : NEW > 식자재 > 중식 식자재 > 면류',\n",
       "       '050 : 식자재\\n050002 : 식자재 > 중식 식자재\\n026 : NEW\\n026010 : NEW > 식자재\\n026010002 : NEW > 식자재 > 중식 식자재\\n061 : vol.4 Catalogue\\n061021 : vol.4 Catalogue > 카달로그_1',\n",
       "       '050 : 식자재\\n050001 : 식자재 > 한식 식자재\\n050001002 : 식자재 > 한식 식자재 > 장류\\n050002 : 식자재 > 중식 식자재\\n050002002 : 식자재 > 중식 식자재 > 장류\\n026 : NEW\\n026010 : NEW > 식자재\\n026010002 : NEW > 식자재 > 중식 식자재\\n026010002002 : NEW > 식자재 > 중식 식자재 > 장류\\n061 : vol.4 Catalogue\\n061021 : vol.4 Catalogue > 카달로그_1',\n",
       "       '050 : 식자재\\n050002 : 식자재 > 중식 식자재\\n026 : NEW\\n026010 : NEW > 식자재\\n026010002 : NEW > 식자재 > 중식 식자재\\n050002001 : 식자재 > 중식 식자재 > 파우더\\n026010002001 : NEW > 식자재 > 중식 식자재 > 파우더',\n",
       "       '050 : 식자재\\n050001 : 식자재 > 한식 식자재\\n050001005 : 식자재 > 한식 식자재 > 물엿/당류\\n050002 : 식자재 > 중식 식자재\\n050002005 : 식자재 > 중식 식자재 > 물엿/당류\\n026 : NEW\\n026010 : NEW > 식자재\\n026010001 : NEW > 식자재 > 한식 식자재\\n026010001005 : NEW > 식자재 > 한식 식자재 > 물엿/당류\\n026010002 : NEW > 식자재 > 중식 식자재\\n026010002005 : NEW > 식자재 > 중식 식자재 > 물엿/당류',\n",
       "       '050 : 식자재\\n050002 : 식자재 > 중식 식자재\\n050002007 : 식자재 > 중식 식자재 > 캔류\\n026 : NEW\\n026010 : NEW > 식자재\\n026010002 : NEW > 식자재 > 중식 식자재\\n026010002007 : NEW > 식자재 > 중식 식자재 > 캔류\\n061 : vol.4 Catalogue\\n061022 : vol.4 Catalogue > 카달로그_2',\n",
       "       '046 : 주방용품/소모품\\n061 : vol.4 Catalogue\\n061013 : vol.4 Catalogue > 카달로그_13\\n046009 : 주방용품/소모품 > 일회용품\\n046009004 : 주방용품/소모품 > 일회용품 > 랩',\n",
       "       '016 : 빨대/커피스틱\\n016002 : 빨대/커피스틱 > 빨대\\n061 : vol.4 Catalogue\\n061009 : vol.4 Catalogue > 카달로그_9',\n",
       "       '039 : 중식 용기\\n039002 : 중식 용기 > 요리접시/탕/찜\\n026 : NEW\\n026009 : NEW > 원형접시\\n039001 : 중식 용기 > 면/볶음밥용기\\n047 : BEST상품\\n061 : vol.4 Catalogue\\n061019 : vol.4 Catalogue > 카달로그_20',\n",
       "       '039 : 중식 용기\\n039002 : 중식 용기 > 요리접시/탕/찜\\n026 : NEW\\n026009 : NEW > 원형접시\\n047 : BEST상품\\n061 : vol.4 Catalogue\\n061019 : vol.4 Catalogue > 카달로그_20',\n",
       "       '039 : 중식 용기\\n039001 : 중식 용기 > 면/볶음밥용기\\n039002 : 중식 용기 > 요리접시/탕/찜\\n047 : BEST상품\\n061 : vol.4 Catalogue\\n061019 : vol.4 Catalogue > 카달로그_20',\n",
       "       '039 : 중식 용기\\n039002 : 중식 용기 > 요리접시/탕/찜\\n026 : NEW\\n026009 : NEW > 원형접시\\n047 : BEST상품\\n039001 : 중식 용기 > 면/볶음밥용기\\n061 : vol.4 Catalogue\\n061019 : vol.4 Catalogue > 카달로그_20',\n",
       "       '046 : 주방용품/소모품\\n061 : vol.4 Catalogue\\n061013 : vol.4 Catalogue > 카달로그_13\\n046009 : 주방용품/소모품 > 일회용품\\n046009001 : 주방용품/소모품 > 일회용품 > 스푼/포크/나이프',\n",
       "       '026 : NEW\\n026004 : NEW > 떡/반찬용기\\n038 : 한식(분식) 용기\\n038003 : 한식(분식) 용기 > 떡/반찬용기\\n038003002 : 한식(분식) 용기 > 떡/반찬용기 > 반찬용기\\n039 : 중식 용기\\n039004 : 중식 용기 > 반찬용기\\n040 : 일식 용기\\n040003 : 일식 용기 > 반찬용기\\n041 : 양식 용기\\n041003 : 양식 용기 > 반찬용기\\n061 : vol.4 Catalogue\\n061006 : vol.4 Catalogue > 카달로그_6',\n",
       "       '026 : NEW\\n026008 : NEW > 친환경 빨대\\n043 : 베이커리/카페 용기\\n043001 : 베이커리/카페 용기 > 빨대/커피스틱',\n",
       "       '038 : 한식(분식) 용기\\n038003 : 한식(분식) 용기 > 떡/반찬용기\\n026 : NEW\\n026004 : NEW > 떡/반찬용기\\n038003002 : 한식(분식) 용기 > 떡/반찬용기 > 반찬용기\\n039 : 중식 용기\\n039004 : 중식 용기 > 반찬용기\\n040 : 일식 용기\\n040003 : 일식 용기 > 반찬용기\\n041 : 양식 용기\\n041003 : 양식 용기 > 반찬용기\\n061 : vol.4 Catalogue\\n061006 : vol.4 Catalogue > 카달로그_6',\n",
       "       '038 : 한식(분식) 용기\\n038003 : 한식(분식) 용기 > 떡/반찬용기\\n026 : NEW\\n026004 : NEW > 떡/반찬용기\\n038003001 : 한식(분식) 용기 > 떡/반찬용기 > 떡용기\\n061 : vol.4 Catalogue\\n061006 : vol.4 Catalogue > 카달로그_6',\n",
       "       '026 : NEW\\n026001 : NEW > 무지종이용기\\n038 : 한식(분식) 용기\\n038005 : 한식(분식) 용기 > 분식용기\\n039 : 중식 용기\\n039003 : 중식 용기 > 소스/국/밥용기\\n040 : 일식 용기\\n040002 : 일식 용기 > 소스/국/밥용기\\n041 : 양식 용기\\n041002 : 양식 용기 > 소스/국/밥용기\\n061 : vol.4 Catalogue\\n061011 : vol.4 Catalogue > 카달로그_11',\n",
       "       '026 : NEW\\n026007 : NEW > 분식용기\\n038 : 한식(분식) 용기\\n038005 : 한식(분식) 용기 > 분식용기\\n044 : 농수산물 용기\\n044001 : 농수산물 용기 > 스트로폼용기',\n",
       "       '044 : 농수산물 용기\\n044001 : 농수산물 용기 > 스트로폼용기',\n",
       "       '038 : 한식(분식) 용기\\n038002 : 한식(분식) 용기 > 소스/국/밥용기\\n039 : 중식 용기\\n039003 : 중식 용기 > 소스/국/밥용기\\n040 : 일식 용기\\n040002 : 일식 용기 > 소스/국/밥용기\\n041 : 양식 용기\\n041002 : 양식 용기 > 소스/국/밥용기\\n038003 : 한식(분식) 용기 > 떡/반찬용기\\n038003002 : 한식(분식) 용기 > 떡/반찬용기 > 반찬용기\\n061 : vol.4 Catalogue\\n061015 : vol.4 Catalogue > 카달로그_16',\n",
       "       '038 : 한식(분식) 용기\\n038002 : 한식(분식) 용기 > 소스/국/밥용기\\n039 : 중식 용기\\n039003 : 중식 용기 > 소스/국/밥용기\\n040 : 일식 용기\\n040002 : 일식 용기 > 소스/국/밥용기\\n041 : 양식 용기\\n041002 : 양식 용기 > 소스/국/밥용기\\n038003 : 한식(분식) 용기 > 떡/반찬용기\\n038003002 : 한식(분식) 용기 > 떡/반찬용기 > 반찬용기\\n061 : vol.4 Catalogue\\n061014 : vol.4 Catalogue > 카달로그_15',\n",
       "       '046 : 주방용품/소모품\\n046007 : 주방용품/소모품 > 주방용품\\n046007006 : 주방용품/소모품 > 주방용품 > 양념통세트',\n",
       "       '046 : 주방용품/소모품\\n061 : vol.4 Catalogue\\n061013 : vol.4 Catalogue > 카달로그_13',\n",
       "       '019 : 실링기계',\n",
       "       '044 : 농수산물 용기\\n044001 : 농수산물 용기 > 스트로폼용기\\n061 : vol.4 Catalogue\\n061006 : vol.4 Catalogue > 카달로그_6',\n",
       "       '043 : 베이커리/카페 용기\\n043004 : 베이커리/카페 용기 > 생수/쥬스/더치커피용기\\n061 : vol.4 Catalogue\\n061010 : vol.4 Catalogue > 카달로그_10',\n",
       "       '043 : 베이커리/카페 용기\\n043004 : 베이커리/카페 용기 > 생수/쥬스/더치커피용기',\n",
       "       '040 : 일식 용기\\n040001 : 일식 용기 > 탕/찜/면용기/회접시\\n044 : 농수산물 용기\\n044001 : 농수산물 용기 > 스트로폼용기\\n061 : vol.4 Catalogue\\n061006 : vol.4 Catalogue > 카달로그_6',\n",
       "       '042 : 실링제품\\n042001 : 실링제품 > 실링용기',\n",
       "       '040 : 일식 용기\\n040001 : 일식 용기 > 탕/찜/면용기/회접시\\n040001004 : 일식 용기 > 탕/찜/면용기/회접시 > 회접시\\n044 : 농수산물 용기\\n044001 : 농수산물 용기 > 스트로폼용기\\n061 : vol.4 Catalogue\\n061006 : vol.4 Catalogue > 카달로그_6',\n",
       "       '038 : 한식(분식) 용기\\n038001 : 한식(분식) 용기 > 탕/찜/죽/면용기\\n040 : 일식 용기\\n040001 : 일식 용기 > 탕/찜/면용기/회접시\\n041 : 양식 용기\\n041001 : 양식 용기 > 탕/찜/죽/면용기\\n038001001 : 한식(분식) 용기 > 탕/찜/죽/면용기 > 탕용기\\n040001001 : 일식 용기 > 탕/찜/면용기/회접시 > 탕용기\\n041001001 : 양식 용기 > 탕/찜/죽/면용기 > 탕용기\\n061 : vol.4 Catalogue\\n061017 : vol.4 Catalogue > 카달로그_18',\n",
       "       '039 : 중식 용기\\n039001 : 중식 용기 > 면/볶음밥용기\\n047 : BEST상품\\n061 : vol.4 Catalogue\\n061018 : vol.4 Catalogue > 카달로그_19',\n",
       "       '043 : 베이커리/카페 용기\\n043005 : 베이커리/카페 용기 > 쿠키/샌드위치/빵용기',\n",
       "       '038 : 한식(분식) 용기\\n038001 : 한식(분식) 용기 > 탕/찜/죽/면용기\\n040 : 일식 용기\\n040001 : 일식 용기 > 탕/찜/면용기/회접시\\n041 : 양식 용기\\n041001 : 양식 용기 > 탕/찜/죽/면용기\\n038001002 : 한식(분식) 용기 > 탕/찜/죽/면용기 > 찜용기\\n040001002 : 일식 용기 > 탕/찜/면용기/회접시 > 찜용기\\n041001002 : 양식 용기 > 탕/찜/죽/면용기 > 찜용기\\n039 : 중식 용기\\n039002 : 중식 용기 > 요리접시/탕/찜\\n061 : vol.4 Catalogue\\n061020 : vol.4 Catalogue > 카달로그_21',\n",
       "       '038 : 한식(분식) 용기\\n038003 : 한식(분식) 용기 > 떡/반찬용기\\n039 : 중식 용기\\n039004 : 중식 용기 > 반찬용기\\n040 : 일식 용기\\n040003 : 일식 용기 > 반찬용기\\n041 : 양식 용기\\n041003 : 양식 용기 > 반찬용기\\n038003002 : 한식(분식) 용기 > 떡/반찬용기 > 반찬용기\\n038001 : 한식(분식) 용기 > 탕/찜/죽/면용기\\n038001001 : 한식(분식) 용기 > 탕/찜/죽/면용기 > 탕용기\\n038001002 : 한식(분식) 용기 > 탕/찜/죽/면용기 > 찜용기\\n038001003 : 한식(분식) 용기 > 탕/찜/죽/면용기 > 죽용기\\n038001004 : 한식(분식) 용기 > 탕/찜/죽/면용기 > 면용기\\n061 : vol.4 Catalogue\\n061008 : vol.4 Catalogue > 카달로그_8',\n",
       "       '038 : 한식(분식) 용기\\n038003 : 한식(분식) 용기 > 떡/반찬용기\\n039 : 중식 용기\\n039004 : 중식 용기 > 반찬용기\\n040 : 일식 용기\\n040003 : 일식 용기 > 반찬용기\\n041 : 양식 용기\\n041003 : 양식 용기 > 반찬용기\\n038003002 : 한식(분식) 용기 > 떡/반찬용기 > 반찬용기\\n038001 : 한식(분식) 용기 > 탕/찜/죽/면용기\\n038001001 : 한식(분식) 용기 > 탕/찜/죽/면용기 > 탕용기\\n038001002 : 한식(분식) 용기 > 탕/찜/죽/면용기 > 찜용기\\n038001004 : 한식(분식) 용기 > 탕/찜/죽/면용기 > 면용기\\n039001 : 중식 용기 > 면/볶음밥용기\\n040001 : 일식 용기 > 탕/찜/면용기/회접시\\n040001001 : 일식 용기 > 탕/찜/면용기/회접시 > 탕용기\\n040001003 : 일식 용기 > 탕/찜/면용기/회접시 > 면용기\\n041001 : 양식 용기 > 탕/찜/죽/면용기\\n041001001 : 양식 용기 > 탕/찜/죽/면용기 > 탕용기\\n041001004 : 양식 용기 > 탕/찜/죽/면용기 > 면용기\\n061 : vol.4 Catalogue\\n061008 : vol.4 Catalogue > 카달로그_8',\n",
       "       '046 : 주방용품/소모품\\n046001 : 주방용품/소모품 > 비닐봉투',\n",
       "       '038 : 한식(분식) 용기\\n038003 : 한식(분식) 용기 > 떡/반찬용기\\n039 : 중식 용기\\n039004 : 중식 용기 > 반찬용기\\n040 : 일식 용기\\n040003 : 일식 용기 > 반찬용기\\n041 : 양식 용기\\n041003 : 양식 용기 > 반찬용기\\n038003002 : 한식(분식) 용기 > 떡/반찬용기 > 반찬용기\\n061 : vol.4 Catalogue\\n061005 : vol.4 Catalogue > 카달로그_5',\n",
       "       '042 : 실링제품\\n042001 : 실링제품 > 실링용기\\n061 : vol.4 Catalogue\\n061012 : vol.4 Catalogue > 카달로그_12',\n",
       "       '038 : 한식(분식) 용기\\n038002 : 한식(분식) 용기 > 소스/국/밥용기\\n039 : 중식 용기\\n039003 : 중식 용기 > 소스/국/밥용기\\n040 : 일식 용기\\n040002 : 일식 용기 > 소스/국/밥용기\\n041 : 양식 용기\\n041002 : 양식 용기 > 소스/국/밥용기\\n061 : vol.4 Catalogue\\n061018 : vol.4 Catalogue > 카달로그_19',\n",
       "       '038 : 한식(분식) 용기\\n038002 : 한식(분식) 용기 > 소스/국/밥용기\\n039 : 중식 용기\\n039003 : 중식 용기 > 소스/국/밥용기\\n040 : 일식 용기\\n040002 : 일식 용기 > 소스/국/밥용기\\n041 : 양식 용기\\n041002 : 양식 용기 > 소스/국/밥용기\\n061 : vol.4 Catalogue\\n061015 : vol.4 Catalogue > 카달로그_16',\n",
       "       '039 : 중식 용기\\n039001 : 중식 용기 > 면/볶음밥용기\\n039002 : 중식 용기 > 요리접시/탕/찜\\n052 : 초특가 SALE',\n",
       "       '046 : 주방용품/소모품\\n046009 : 주방용품/소모품 > 일회용품\\n046009001 : 주방용품/소모품 > 일회용품 > 스푼/포크/나이프',\n",
       "       '038 : 한식(분식) 용기\\n038001 : 한식(분식) 용기 > 탕/찜/죽/면용기\\n040 : 일식 용기\\n040001 : 일식 용기 > 탕/찜/면용기/회접시\\n041 : 양식 용기\\n041001 : 양식 용기 > 탕/찜/죽/면용기\\n038001001 : 한식(분식) 용기 > 탕/찜/죽/면용기 > 탕용기\\n040001001 : 일식 용기 > 탕/찜/면용기/회접시 > 탕용기\\n041001001 : 양식 용기 > 탕/찜/죽/면용기 > 탕용기\\n039 : 중식 용기\\n039001 : 중식 용기 > 면/볶음밥용기\\n040001002 : 일식 용기 > 탕/찜/면용기/회접시 > 찜용기\\n040001003 : 일식 용기 > 탕/찜/면용기/회접시 > 면용기\\n041001002 : 양식 용기 > 탕/찜/죽/면용기 > 찜용기\\n041001003 : 양식 용기 > 탕/찜/죽/면용기 > 죽용기\\n041001004 : 양식 용기 > 탕/찜/죽/면용기 > 면용기\\n061 : vol.4 Catalogue\\n061016 : vol.4 Catalogue > 카달로그_17',\n",
       "       '038 : 한식(분식) 용기\\n038003 : 한식(분식) 용기 > 떡/반찬용기\\n039 : 중식 용기\\n039004 : 중식 용기 > 반찬용기\\n040 : 일식 용기\\n040003 : 일식 용기 > 반찬용기\\n041 : 양식 용기\\n041003 : 양식 용기 > 반찬용기\\n038001 : 한식(분식) 용기 > 탕/찜/죽/면용기\\n038001003 : 한식(분식) 용기 > 탕/찜/죽/면용기 > 죽용기\\n038001001 : 한식(분식) 용기 > 탕/찜/죽/면용기 > 탕용기\\n038001002 : 한식(분식) 용기 > 탕/찜/죽/면용기 > 찜용기\\n038001004 : 한식(분식) 용기 > 탕/찜/죽/면용기 > 면용기\\n041001 : 양식 용기 > 탕/찜/죽/면용기\\n041001003 : 양식 용기 > 탕/찜/죽/면용기 > 죽용기\\n039001 : 중식 용기 > 면/볶음밥용기\\n040001 : 일식 용기 > 탕/찜/면용기/회접시\\n040001001 : 일식 용기 > 탕/찜/면용기/회접시 > 탕용기\\n040001003 : 일식 용기 > 탕/찜/면용기/회접시 > 면용기\\n041001001 : 양식 용기 > 탕/찜/죽/면용기 > 탕용기\\n041001004 : 양식 용기 > 탕/찜/죽/면용기 > 면용기\\n061 : vol.4 Catalogue\\n061008 : vol.4 Catalogue > 카달로그_8',\n",
       "       '038 : 한식(분식) 용기\\n038003 : 한식(분식) 용기 > 떡/반찬용기\\n039 : 중식 용기\\n039004 : 중식 용기 > 반찬용기\\n040 : 일식 용기\\n040003 : 일식 용기 > 반찬용기\\n041 : 양식 용기\\n041003 : 양식 용기 > 반찬용기\\n038001 : 한식(분식) 용기 > 탕/찜/죽/면용기\\n038001001 : 한식(분식) 용기 > 탕/찜/죽/면용기 > 탕용기\\n038001002 : 한식(분식) 용기 > 탕/찜/죽/면용기 > 찜용기\\n038001003 : 한식(분식) 용기 > 탕/찜/죽/면용기 > 죽용기\\n038001004 : 한식(분식) 용기 > 탕/찜/죽/면용기 > 면용기\\n041001 : 양식 용기 > 탕/찜/죽/면용기\\n041001003 : 양식 용기 > 탕/찜/죽/면용기 > 죽용기\\n039001 : 중식 용기 > 면/볶음밥용기\\n040001 : 일식 용기 > 탕/찜/면용기/회접시\\n040001001 : 일식 용기 > 탕/찜/면용기/회접시 > 탕용기\\n040001003 : 일식 용기 > 탕/찜/면용기/회접시 > 면용기\\n041001001 : 양식 용기 > 탕/찜/죽/면용기 > 탕용기\\n041001004 : 양식 용기 > 탕/찜/죽/면용기 > 면용기\\n061 : vol.4 Catalogue\\n061008 : vol.4 Catalogue > 카달로그_8',\n",
       "       '038 : 한식(분식) 용기\\n038001 : 한식(분식) 용기 > 탕/찜/죽/면용기\\n040 : 일식 용기\\n040001 : 일식 용기 > 탕/찜/면용기/회접시\\n041 : 양식 용기\\n041001 : 양식 용기 > 탕/찜/죽/면용기\\n038001004 : 한식(분식) 용기 > 탕/찜/죽/면용기 > 면용기\\n039 : 중식 용기\\n039001 : 중식 용기 > 면/볶음밥용기\\n041001004 : 양식 용기 > 탕/찜/죽/면용기 > 면용기\\n040001003 : 일식 용기 > 탕/찜/면용기/회접시 > 면용기\\n061 : vol.4 Catalogue\\n061016 : vol.4 Catalogue > 카달로그_17',\n",
       "       '046 : 주방용품/소모품\\n046001 : 주방용품/소모품 > 비닐봉투\\n061 : vol.4 Catalogue\\n061013 : vol.4 Catalogue > 카달로그_13',\n",
       "       '046 : 주방용품/소모품\\n046010 : 주방용품/소모품 > 주방잡화\\n046010003 : 주방용품/소모품 > 주방잡화 > 기타',\n",
       "       '038 : 한식(분식) 용기\\n038003 : 한식(분식) 용기 > 떡/반찬용기\\n039 : 중식 용기\\n039004 : 중식 용기 > 반찬용기\\n040 : 일식 용기\\n040003 : 일식 용기 > 반찬용기\\n041 : 양식 용기\\n041003 : 양식 용기 > 반찬용기\\n038003002 : 한식(분식) 용기 > 떡/반찬용기 > 반찬용기',\n",
       "       '061 : vol.4 Catalogue\\n061005 : vol.4 Catalogue > 카달로그_5',\n",
       "       '050 : 식자재\\n050001 : 식자재 > 한식 식자재\\n050001006 : 식자재 > 한식 식자재 > 면류\\n050002 : 식자재 > 중식 식자재\\n050002006 : 식자재 > 중식 식자재 > 면류\\n026 : NEW\\n026010 : NEW > 식자재\\n026010001 : NEW > 식자재 > 한식 식자재\\n026010001006 : NEW > 식자재 > 한식 식자재 > 면류\\n026010002 : NEW > 식자재 > 중식 식자재\\n026010002006 : NEW > 식자재 > 중식 식자재 > 면류\\n061 : vol.4 Catalogue\\n061021 : vol.4 Catalogue > 카달로그_1',\n",
       "       '039001 : 중식 용기 > 면/볶음밥용기\\n039 : 중식 용기\\n061 : vol.4 Catalogue\\n061018 : vol.4 Catalogue > 카달로그_19',\n",
       "       '042 : 실링제품\\n042002 : 실링제품 > 실링기계',\n",
       "       '024 : 음식종류별\\n024001 : 음식종류별 > 한식\\n024005 : 음식종류별 > 찌개\\n011 : 탕/면/찌개용기\\n011001 : 탕/면/찌개용기 > 190(195)파이\\n038 : 한식(분식) 용기\\n038001 : 한식(분식) 용기 > 탕/찜/죽/면용기\\n038001001 : 한식(분식) 용기 > 탕/찜/죽/면용기 > 탕용기\\n040 : 일식 용기\\n040001 : 일식 용기 > 탕/찜/면용기/회접시\\n040001001 : 일식 용기 > 탕/찜/면용기/회접시 > 탕용기\\n041 : 양식 용기\\n041001 : 양식 용기 > 탕/찜/죽/면용기\\n041001001 : 양식 용기 > 탕/찜/죽/면용기 > 탕용기\\n039 : 중식 용기\\n039001 : 중식 용기 > 면/볶음밥용기',\n",
       "       '024 : 음식종류별\\n024006 : 음식종류별 > 죽\\n024004 : 음식종류별 > 반찬/소스\\n013 : 샐러드/야채/반찬용기\\n013001 : 샐러드/야채/반찬용기 > 1칸\\n010 : 죽용기\\n010001 : 죽용기 > 사각용기\\n038 : 한식(분식) 용기\\n038001 : 한식(분식) 용기 > 탕/찜/죽/면용기\\n038001003 : 한식(분식) 용기 > 탕/찜/죽/면용기 > 죽용기\\n061 : vol.4 Catalogue\\n061008 : vol.4 Catalogue > 카달로그_8',\n",
       "       '038 : 한식(분식) 용기\\n038001 : 한식(분식) 용기 > 탕/찜/죽/면용기\\n040 : 일식 용기\\n040001 : 일식 용기 > 탕/찜/면용기/회접시\\n041 : 양식 용기\\n041001 : 양식 용기 > 탕/찜/죽/면용기\\n038001003 : 한식(분식) 용기 > 탕/찜/죽/면용기 > 죽용기\\n061 : vol.4 Catalogue\\n061008 : vol.4 Catalogue > 카달로그_8',\n",
       "       '038 : 한식(분식) 용기\\n038001 : 한식(분식) 용기 > 탕/찜/죽/면용기\\n040 : 일식 용기\\n040001 : 일식 용기 > 탕/찜/면용기/회접시\\n041 : 양식 용기\\n041001 : 양식 용기 > 탕/찜/죽/면용기\\n038001004 : 한식(분식) 용기 > 탕/찜/죽/면용기 > 면용기\\n040001003 : 일식 용기 > 탕/찜/면용기/회접시 > 면용기\\n041001004 : 양식 용기 > 탕/찜/죽/면용기 > 면용기\\n039 : 중식 용기\\n039001 : 중식 용기 > 면/볶음밥용기\\n038001001 : 한식(분식) 용기 > 탕/찜/죽/면용기 > 탕용기\\n038001003 : 한식(분식) 용기 > 탕/찜/죽/면용기 > 죽용기\\n038001002 : 한식(분식) 용기 > 탕/찜/죽/면용기 > 찜용기',\n",
       "       '038 : 한식(분식) 용기\\n038002 : 한식(분식) 용기 > 소스/국/밥용기\\n039 : 중식 용기\\n039003 : 중식 용기 > 소스/국/밥용기\\n040 : 일식 용기\\n040002 : 일식 용기 > 소스/국/밥용기\\n041 : 양식 용기\\n041002 : 양식 용기 > 소스/국/밥용기\\n061 : vol.4 Catalogue\\n061014 : vol.4 Catalogue > 카달로그_15',\n",
       "       '038 : 한식(분식) 용기\\n038001 : 한식(분식) 용기 > 탕/찜/죽/면용기\\n040 : 일식 용기\\n040001 : 일식 용기 > 탕/찜/면용기/회접시\\n041 : 양식 용기\\n041001 : 양식 용기 > 탕/찜/죽/면용기\\n038001001 : 한식(분식) 용기 > 탕/찜/죽/면용기 > 탕용기\\n040001001 : 일식 용기 > 탕/찜/면용기/회접시 > 탕용기\\n041001001 : 양식 용기 > 탕/찜/죽/면용기 > 탕용기\\n047 : BEST상품\\n039 : 중식 용기\\n039001 : 중식 용기 > 면/볶음밥용기\\n040001002 : 일식 용기 > 탕/찜/면용기/회접시 > 찜용기\\n040001003 : 일식 용기 > 탕/찜/면용기/회접시 > 면용기\\n041001002 : 양식 용기 > 탕/찜/죽/면용기 > 찜용기\\n041001003 : 양식 용기 > 탕/찜/죽/면용기 > 죽용기\\n041001004 : 양식 용기 > 탕/찜/죽/면용기 > 면용기\\n061 : vol.4 Catalogue\\n061016 : vol.4 Catalogue > 카달로그_17',\n",
       "       '043 : 베이커리/카페 용기\\n043003 : 베이커리/카페 용기 > 종이컵/아이스컵/뚜껑\\n043003002 : 베이커리/카페 용기 > 종이컵/아이스컵/뚜껑 > 아이스컵\\n061 : vol.4 Catalogue\\n061009 : vol.4 Catalogue > 카달로그_9',\n",
       "       '039 : 중식 용기\\n039002 : 중식 용기 > 요리접시/탕/찜\\n052 : 초특가 SALE',\n",
       "       '039 : 중식 용기\\n039001 : 중식 용기 > 면/볶음밥용기\\n061 : vol.4 Catalogue\\n061018 : vol.4 Catalogue > 카달로그_19',\n",
       "       '038 : 한식(분식) 용기\\n038003 : 한식(분식) 용기 > 떡/반찬용기\\n039 : 중식 용기\\n039004 : 중식 용기 > 반찬용기\\n040 : 일식 용기\\n040003 : 일식 용기 > 반찬용기\\n041 : 양식 용기\\n041003 : 양식 용기 > 반찬용기\\n038005 : 한식(분식) 용기 > 분식용기\\n044 : 농수산물 용기\\n044001 : 농수산물 용기 > 스트로폼용기\\n061 : vol.4 Catalogue\\n061018 : vol.4 Catalogue > 카달로그_19',\n",
       "       '039 : 중식 용기\\n039004 : 중식 용기 > 반찬용기\\n061 : vol.4 Catalogue\\n061018 : vol.4 Catalogue > 카달로그_19',\n",
       "       '046 : 주방용품/소모품\\n061 : vol.4 Catalogue\\n061013 : vol.4 Catalogue > 카달로그_13\\n046010 : 주방용품/소모품 > 주방잡화\\n046010003 : 주방용품/소모품 > 주방잡화 > 기타',\n",
       "       '036 : 임시카테고리\\n042 : 실링제품\\n042001 : 실링제품 > 실링용기',\n",
       "       '018 : 실링용기\\n018003 : 실링용기 > 실링특대형\\n042 : 실링제품\\n042001 : 실링제품 > 실링용기',\n",
       "       '018 : 실링용기\\n018002 : 실링용기 > 2319(2318)시리즈\\n042 : 실링제품\\n042001 : 실링제품 > 실링용기',\n",
       "       '018 : 실링용기\\n018002 : 실링용기 > 2319(2318)시리즈\\n018004 : 실링용기 > 칸나눔용기\\n042 : 실링제품\\n042001 : 실링제품 > 실링용기',\n",
       "       '019 : 실링기계\\n042 : 실링제품\\n042002 : 실링제품 > 실링기계',\n",
       "       '043 : 베이커리/카페 용기\\n043001 : 베이커리/카페 용기 > 빨대/커피스틱',\n",
       "       '038 : 한식(분식) 용기\\n038001 : 한식(분식) 용기 > 탕/찜/죽/면용기\\n040 : 일식 용기\\n040001 : 일식 용기 > 탕/찜/면용기/회접시\\n041 : 양식 용기\\n041001 : 양식 용기 > 탕/찜/죽/면용기',\n",
       "       '043 : 베이커리/카페 용기\\n043003 : 베이커리/카페 용기 > 종이컵/아이스컵/뚜껑\\n052 : 초특가 SALE\\n061 : vol.4 Catalogue\\n061009 : vol.4 Catalogue > 카달로그_9',\n",
       "       '043 : 베이커리/카페 용기\\n043003 : 베이커리/카페 용기 > 종이컵/아이스컵/뚜껑\\n043003003 : 베이커리/카페 용기 > 종이컵/아이스컵/뚜껑 > 뚜껑\\n052 : 초특가 SALE\\n061 : vol.4 Catalogue\\n061009 : vol.4 Catalogue > 카달로그_9',\n",
       "       '038 : 한식(분식) 용기\\n038001 : 한식(분식) 용기 > 탕/찜/죽/면용기\\n041 : 양식 용기\\n041001 : 양식 용기 > 탕/찜/죽/면용기\\n038001003 : 한식(분식) 용기 > 탕/찜/죽/면용기 > 죽용기\\n041001003 : 양식 용기 > 탕/찜/죽/면용기 > 죽용기\\n061 : vol.4 Catalogue\\n061008 : vol.4 Catalogue > 카달로그_8',\n",
       "       '038 : 한식(분식) 용기\\n038004 : 한식(분식) 용기 > 도시락용기/직화용기\\n040 : 일식 용기\\n040004 : 일식 용기 > 초밥/도시락용기/직화용기\\n041 : 양식 용기\\n041004 : 양식 용기 > 도시락용기/직화용기\\n038004002 : 한식(분식) 용기 > 도시락용기/직화용기 > 직화용기\\n040004003 : 일식 용기 > 초밥/도시락용기/직화용기 > 직화용기\\n041004002 : 양식 용기 > 도시락용기/직화용기 > 직화용기',\n",
       "       '038 : 한식(분식) 용기\\n038004 : 한식(분식) 용기 > 도시락용기/직화용기\\n040 : 일식 용기\\n040004 : 일식 용기 > 초밥/도시락용기/직화용기\\n041 : 양식 용기\\n041004 : 양식 용기 > 도시락용기/직화용기',\n",
       "       '046 : 주방용품/소모품\\n046009 : 주방용품/소모품 > 일회용품\\n046009003 : 주방용품/소모품 > 일회용품 > 비닐장갑',\n",
       "       '038 : 한식(분식) 용기\\n038004 : 한식(분식) 용기 > 도시락용기/직화용기\\n040 : 일식 용기\\n040004 : 일식 용기 > 초밥/도시락용기/직화용기\\n041 : 양식 용기\\n041004 : 양식 용기 > 도시락용기/직화용기\\n038004002 : 한식(분식) 용기 > 도시락용기/직화용기 > 직화용기\\n041004002 : 양식 용기 > 도시락용기/직화용기 > 직화용기\\n040004003 : 일식 용기 > 초밥/도시락용기/직화용기 > 직화용기',\n",
       "       '043 : 베이커리/카페 용기\\n043002 : 베이커리/카페 용기 > 컵캐리어/컵홀더',\n",
       "       '046 : 주방용품/소모품\\n015 : 실링필름/랩칼\\n015003 : 실링필름/랩칼 > 랩칼\\n046009 : 주방용품/소모품 > 일회용품\\n046009001 : 주방용품/소모품 > 일회용품 > 스푼/포크/나이프\\n061 : vol.4 Catalogue\\n061012 : vol.4 Catalogue > 카달로그_12',\n",
       "       '038 : 한식(분식) 용기\\n038004 : 한식(분식) 용기 > 도시락용기/직화용기\\n039 : 중식 용기\\n039005 : 중식 용기 > 샐러드/도시락용기\\n040 : 일식 용기\\n040004 : 일식 용기 > 초밥/도시락용기/직화용기\\n041 : 양식 용기\\n041004 : 양식 용기 > 도시락용기/직화용기\\n038004001 : 한식(분식) 용기 > 도시락용기/직화용기 > 도시락용기',\n",
       "       '038 : 한식(분식) 용기\\n038002 : 한식(분식) 용기 > 소스/국/밥용기\\n039 : 중식 용기\\n039003 : 중식 용기 > 소스/국/밥용기\\n040 : 일식 용기\\n040002 : 일식 용기 > 소스/국/밥용기\\n041 : 양식 용기\\n041002 : 양식 용기 > 소스/국/밥용기\\n061 : vol.4 Catalogue\\n061008 : vol.4 Catalogue > 카달로그_8',\n",
       "       '038 : 한식(분식) 용기\\n038004 : 한식(분식) 용기 > 도시락용기/직화용기\\n039 : 중식 용기\\n039005 : 중식 용기 > 샐러드/도시락용기\\n040 : 일식 용기\\n040004 : 일식 용기 > 초밥/도시락용기/직화용기\\n041 : 양식 용기\\n041004 : 양식 용기 > 도시락용기/직화용기\\n038004001 : 한식(분식) 용기 > 도시락용기/직화용기 > 도시락용기\\n039005002 : 중식 용기 > 샐러드/도시락용기 > 도시락용기\\n040004002 : 일식 용기 > 초밥/도시락용기/직화용기 > 도시락용기\\n041004001 : 양식 용기 > 도시락용기/직화용기 > 도시락용기\\n047 : BEST상품\\n061 : vol.4 Catalogue\\n061007 : vol.4 Catalogue > 카달로그_7',\n",
       "       '038 : 한식(분식) 용기\\n038004 : 한식(분식) 용기 > 도시락용기/직화용기\\n039 : 중식 용기\\n039005 : 중식 용기 > 샐러드/도시락용기\\n040 : 일식 용기\\n040004 : 일식 용기 > 초밥/도시락용기/직화용기\\n041 : 양식 용기\\n041004 : 양식 용기 > 도시락용기/직화용기\\n038004001 : 한식(분식) 용기 > 도시락용기/직화용기 > 도시락용기\\n039005002 : 중식 용기 > 샐러드/도시락용기 > 도시락용기\\n040004002 : 일식 용기 > 초밥/도시락용기/직화용기 > 도시락용기\\n041004001 : 양식 용기 > 도시락용기/직화용기 > 도시락용기\\n061 : vol.4 Catalogue\\n061007 : vol.4 Catalogue > 카달로그_7',\n",
       "       '038 : 한식(분식) 용기\\n038002 : 한식(분식) 용기 > 소스/국/밥용기\\n039 : 중식 용기\\n039003 : 중식 용기 > 소스/국/밥용기\\n040 : 일식 용기\\n040002 : 일식 용기 > 소스/국/밥용기\\n041 : 양식 용기\\n041002 : 양식 용기 > 소스/국/밥용기',\n",
       "       '038 : 한식(분식) 용기\\n038001 : 한식(분식) 용기 > 탕/찜/죽/면용기\\n039 : 중식 용기\\n039001 : 중식 용기 > 면/볶음밥용기\\n040 : 일식 용기\\n040001 : 일식 용기 > 탕/찜/면용기/회접시\\n041 : 양식 용기\\n041001 : 양식 용기 > 탕/찜/죽/면용기\\n041001004 : 양식 용기 > 탕/찜/죽/면용기 > 면용기\\n040001003 : 일식 용기 > 탕/찜/면용기/회접시 > 면용기\\n038001004 : 한식(분식) 용기 > 탕/찜/죽/면용기 > 면용기\\n061 : vol.4 Catalogue\\n061016 : vol.4 Catalogue > 카달로그_17',\n",
       "       '046 : 주방용품/소모품\\n061 : vol.4 Catalogue\\n061013 : vol.4 Catalogue > 카달로그_13\\n046007 : 주방용품/소모품 > 주방용품\\n046007001 : 주방용품/소모품 > 주방용품 > 도마',\n",
       "       '046 : 주방용품/소모품\\n046007 : 주방용품/소모품 > 주방용품\\n046007004 : 주방용품/소모품 > 주방용품 > 식기',\n",
       "       '038 : 한식(분식) 용기\\n038001 : 한식(분식) 용기 > 탕/찜/죽/면용기\\n040 : 일식 용기\\n040001 : 일식 용기 > 탕/찜/면용기/회접시\\n041 : 양식 용기\\n041001 : 양식 용기 > 탕/찜/죽/면용기\\n038001001 : 한식(분식) 용기 > 탕/찜/죽/면용기 > 탕용기\\n040001001 : 일식 용기 > 탕/찜/면용기/회접시 > 탕용기\\n041001001 : 양식 용기 > 탕/찜/죽/면용기 > 탕용기\\n038001002 : 한식(분식) 용기 > 탕/찜/죽/면용기 > 찜용기',\n",
       "       '042 : 실링제품\\n042003 : 실링제품 > 실링필름\\n061 : vol.4 Catalogue\\n061012 : vol.4 Catalogue > 카달로그_12',\n",
       "       '043 : 베이커리/카페 용기\\n043003 : 베이커리/카페 용기 > 종이컵/아이스컵/뚜껑\\n043003003 : 베이커리/카페 용기 > 종이컵/아이스컵/뚜껑 > 뚜껑\\n061 : vol.4 Catalogue\\n061009 : vol.4 Catalogue > 카달로그_9',\n",
       "       '038 : 한식(분식) 용기\\n038004 : 한식(분식) 용기 > 도시락용기/직화용기\\n039 : 중식 용기\\n039005 : 중식 용기 > 샐러드/도시락용기\\n040 : 일식 용기\\n040004 : 일식 용기 > 초밥/도시락용기/직화용기\\n039005001 : 중식 용기 > 샐러드/도시락용기 > 샐러드용기\\n061 : vol.4 Catalogue\\n061005 : vol.4 Catalogue > 카달로그_5',\n",
       "       '038 : 한식(분식) 용기\\n038004 : 한식(분식) 용기 > 도시락용기/직화용기\\n039 : 중식 용기\\n039005 : 중식 용기 > 샐러드/도시락용기\\n040 : 일식 용기\\n040004 : 일식 용기 > 초밥/도시락용기/직화용기\\n038004001 : 한식(분식) 용기 > 도시락용기/직화용기 > 도시락용기\\n039005002 : 중식 용기 > 샐러드/도시락용기 > 도시락용기\\n040004002 : 일식 용기 > 초밥/도시락용기/직화용기 > 도시락용기\\n041 : 양식 용기\\n041004 : 양식 용기 > 도시락용기/직화용기\\n041004001 : 양식 용기 > 도시락용기/직화용기 > 도시락용기\\n061 : vol.4 Catalogue\\n061007 : vol.4 Catalogue > 카달로그_7',\n",
       "       '038 : 한식(분식) 용기\\n038001 : 한식(분식) 용기 > 탕/찜/죽/면용기\\n042 : 실링제품\\n042001 : 실링제품 > 실링용기\\n061 : vol.4 Catalogue\\n061012 : vol.4 Catalogue > 카달로그_12',\n",
       "       '038 : 한식(분식) 용기\\n038001 : 한식(분식) 용기 > 탕/찜/죽/면용기\\n038001003 : 한식(분식) 용기 > 탕/찜/죽/면용기 > 죽용기\\n041 : 양식 용기\\n041001 : 양식 용기 > 탕/찜/죽/면용기\\n041001003 : 양식 용기 > 탕/찜/죽/면용기 > 죽용기\\n061 : vol.4 Catalogue\\n061008 : vol.4 Catalogue > 카달로그_8',\n",
       "       '038 : 한식(분식) 용기\\n038001 : 한식(분식) 용기 > 탕/찜/죽/면용기\\n038001002 : 한식(분식) 용기 > 탕/찜/죽/면용기 > 찜용기\\n040 : 일식 용기\\n040001 : 일식 용기 > 탕/찜/면용기/회접시\\n040001002 : 일식 용기 > 탕/찜/면용기/회접시 > 찜용기\\n041 : 양식 용기\\n041001 : 양식 용기 > 탕/찜/죽/면용기\\n041001002 : 양식 용기 > 탕/찜/죽/면용기 > 찜용기\\n039 : 중식 용기\\n039002 : 중식 용기 > 요리접시/탕/찜\\n061 : vol.4 Catalogue\\n061020 : vol.4 Catalogue > 카달로그_21',\n",
       "       '038 : 한식(분식) 용기\\n038002 : 한식(분식) 용기 > 소스/국/밥용기\\n039 : 중식 용기\\n039003 : 중식 용기 > 소스/국/밥용기\\n040 : 일식 용기\\n040002 : 일식 용기 > 소스/국/밥용기\\n041 : 양식 용기\\n041002 : 양식 용기 > 소스/국/밥용기\\n038003 : 한식(분식) 용기 > 떡/반찬용기\\n038003002 : 한식(분식) 용기 > 떡/반찬용기 > 반찬용기',\n",
       "       '039 : 중식 용기\\n039003 : 중식 용기 > 소스/국/밥용기\\n040 : 일식 용기\\n040002 : 일식 용기 > 소스/국/밥용기\\n041 : 양식 용기\\n041002 : 양식 용기 > 소스/국/밥용기\\n038 : 한식(분식) 용기\\n038002 : 한식(분식) 용기 > 소스/국/밥용기\\n038003 : 한식(분식) 용기 > 떡/반찬용기\\n038003002 : 한식(분식) 용기 > 떡/반찬용기 > 반찬용기\\n061 : vol.4 Catalogue\\n061014 : vol.4 Catalogue > 카달로그_15',\n",
       "       '039 : 중식 용기\\n039003 : 중식 용기 > 소스/국/밥용기\\n040 : 일식 용기\\n040002 : 일식 용기 > 소스/국/밥용기\\n041 : 양식 용기\\n041002 : 양식 용기 > 소스/국/밥용기\\n038 : 한식(분식) 용기\\n038002 : 한식(분식) 용기 > 소스/국/밥용기\\n038003 : 한식(분식) 용기 > 떡/반찬용기\\n038003002 : 한식(분식) 용기 > 떡/반찬용기 > 반찬용기\\n061 : vol.4 Catalogue\\n061015 : vol.4 Catalogue > 카달로그_16'],\n",
       "      dtype=object)"
      ]
     },
     "execution_count": 16,
     "metadata": {},
     "output_type": "execute_result"
    }
   ],
   "source": [
    "df_product[\"카테고리\"].unique()"
   ]
  },
  {
   "cell_type": "code",
   "execution_count": 18,
   "metadata": {},
   "outputs": [
    {
     "data": {
      "text/plain": [
       "Index(['#', '공급사', '과세/면세', '담기', '매입가', '상품명(기본)', '상품코드', '재입고알림', '제조사',\n",
       "       '카테고리', '판매가', '품절여부', '후기'],\n",
       "      dtype='object')"
      ]
     },
     "execution_count": 18,
     "metadata": {},
     "output_type": "execute_result"
    }
   ],
   "source": [
    "df_product.columns"
   ]
  },
  {
   "cell_type": "code",
   "execution_count": null,
   "metadata": {},
   "outputs": [],
   "source": []
  }
 ],
 "metadata": {
  "kernelspec": {
   "display_name": "Python 3",
   "language": "python",
   "name": "python3"
  },
  "language_info": {
   "codemirror_mode": {
    "name": "ipython",
    "version": 3
   },
   "file_extension": ".py",
   "mimetype": "text/x-python",
   "name": "python",
   "nbconvert_exporter": "python",
   "pygments_lexer": "ipython3",
   "version": "3.7.6"
  }
 },
 "nbformat": 4,
 "nbformat_minor": 4
}
