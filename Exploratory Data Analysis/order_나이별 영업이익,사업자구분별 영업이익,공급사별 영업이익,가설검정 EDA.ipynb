{
 "cells": [
  {
   "cell_type": "code",
   "execution_count": 1,
   "metadata": {},
   "outputs": [],
   "source": [
    "import pandas as pd\n",
    "import matplotlib.pyplot as plt\n",
    "import matplotlib\n",
    "from sklearn.tree import export_graphviz\n",
    "import graphviz\n",
    "from sklearn.model_selection import train_test_split\n",
    "from sklearn.tree import DecisionTreeRegressor\n",
    "from sklearn.ensemble import RandomForestRegressor\n",
    "from sklearn.ensemble import GradientBoostingRegressor\n",
    "from sklearn.model_selection import GridSearchCV\n",
    "from sklearn.preprocessing import StandardScaler\n",
    "import seaborn as sns\n",
    "from matplotlib import font_manager, rc\n",
    "from matplotlib import style\n",
    "\n",
    "import numpy as np\n",
    "from scipy import stats\n",
    "import scipy.stats\n",
    "import statsmodels.api as sm\n",
    "import seaborn as sns\n",
    "import matplotlib.pyplot as plt\n",
    "from statsmodels.stats.proportion import proportions_ztest\n",
    "from scipy.stats import shapiro \n",
    "import statsmodels.formula.api as smf\n",
    "\n",
    "from sklearn.linear_model import LinearRegression\n",
    "from sklearn.metrics import mean_squared_error\n",
    "from sklearn.metrics import mean_absolute_error\n",
    "matplotlib.rc('font',family=\"NanumGothic\")\n",
    "\n",
    "from sklearn.preprocessing import StandardScaler\n",
    "from sklearn.decomposition import PCA\n",
    "import os\n",
    "\n",
    "\n",
    "import pandas as pd\n",
    "import matplotlib.pyplot as plt\n",
    "import matplotlib\n",
    "\n",
    "from sklearn.tree import export_graphviz\n",
    "import graphviz\n",
    "import os\n",
    "from sklearn.model_selection import train_test_split\n",
    "from sklearn.tree import DecisionTreeClassifier\n",
    "from sklearn.model_selection import GridSearchCV\n",
    "from sklearn.metrics import confusion_matrix\n",
    "\n",
    "os.environ[\"PATH\"]+=os.pathsep+\"~\"\n",
    "matplotlib.rc('font',family=\"NanumGothic\")"
   ]
  },
  {
   "cell_type": "markdown",
   "metadata": {},
   "source": [
    "#### 데이터 구성 확인"
   ]
  },
  {
   "cell_type": "code",
   "execution_count": 2,
   "metadata": {},
   "outputs": [
    {
     "data": {
      "text/html": [
       "<div>\n",
       "<style scoped>\n",
       "    .dataframe tbody tr th:only-of-type {\n",
       "        vertical-align: middle;\n",
       "    }\n",
       "\n",
       "    .dataframe tbody tr th {\n",
       "        vertical-align: top;\n",
       "    }\n",
       "\n",
       "    .dataframe thead th {\n",
       "        text-align: right;\n",
       "    }\n",
       "</style>\n",
       "<table border=\"1\" class=\"dataframe\">\n",
       "  <thead>\n",
       "    <tr style=\"text-align: right;\">\n",
       "      <th></th>\n",
       "      <th>Unnamed: 0</th>\n",
       "      <th>결제수단</th>\n",
       "      <th>공급원가</th>\n",
       "      <th>교환구분</th>\n",
       "      <th>네이버 포인트</th>\n",
       "      <th>배송번호</th>\n",
       "      <th>배송비 정보</th>\n",
       "      <th>배송시작일</th>\n",
       "      <th>배송완료일</th>\n",
       "      <th>사용한 적립금액</th>\n",
       "      <th>...</th>\n",
       "      <th>카드사</th>\n",
       "      <th>쿠폰 할인금액</th>\n",
       "      <th>판매가</th>\n",
       "      <th>품목번호</th>\n",
       "      <th>친환경</th>\n",
       "      <th>사은품</th>\n",
       "      <th>회원</th>\n",
       "      <th>주문수량</th>\n",
       "      <th>총수량</th>\n",
       "      <th>영업이익</th>\n",
       "    </tr>\n",
       "  </thead>\n",
       "  <tbody>\n",
       "    <tr>\n",
       "      <th>0</th>\n",
       "      <td>0</td>\n",
       "      <td>무통장입금</td>\n",
       "      <td>44550.0</td>\n",
       "      <td>교환안함</td>\n",
       "      <td>0</td>\n",
       "      <td>D-20181227-0000648-00</td>\n",
       "      <td>무료</td>\n",
       "      <td>2019-01-07 오전 8:56</td>\n",
       "      <td>2019-01-11 오전 5:32</td>\n",
       "      <td>0</td>\n",
       "      <td>...</td>\n",
       "      <td>기타</td>\n",
       "      <td>0</td>\n",
       "      <td>71450</td>\n",
       "      <td>42602</td>\n",
       "      <td>False</td>\n",
       "      <td>False</td>\n",
       "      <td>True</td>\n",
       "      <td>1</td>\n",
       "      <td>300</td>\n",
       "      <td>26900.0</td>\n",
       "    </tr>\n",
       "    <tr>\n",
       "      <th>1</th>\n",
       "      <td>1</td>\n",
       "      <td>무통장입금</td>\n",
       "      <td>44000.0</td>\n",
       "      <td>교환안함</td>\n",
       "      <td>0</td>\n",
       "      <td>D-20181229-0000119-00</td>\n",
       "      <td>무료</td>\n",
       "      <td>2019-01-03 오전 9:30</td>\n",
       "      <td>2019-01-07 오전 5:32</td>\n",
       "      <td>0</td>\n",
       "      <td>...</td>\n",
       "      <td>기타</td>\n",
       "      <td>0</td>\n",
       "      <td>70620</td>\n",
       "      <td>42930</td>\n",
       "      <td>False</td>\n",
       "      <td>False</td>\n",
       "      <td>True</td>\n",
       "      <td>2</td>\n",
       "      <td>2000</td>\n",
       "      <td>53240.0</td>\n",
       "    </tr>\n",
       "    <tr>\n",
       "      <th>2</th>\n",
       "      <td>2</td>\n",
       "      <td>무통장입금</td>\n",
       "      <td>6820.0</td>\n",
       "      <td>교환안함</td>\n",
       "      <td>0</td>\n",
       "      <td>D-20181230-0000100-00</td>\n",
       "      <td>무료</td>\n",
       "      <td>2019-01-03 오전 9:30</td>\n",
       "      <td>2019-01-07 오전 5:32</td>\n",
       "      <td>0</td>\n",
       "      <td>...</td>\n",
       "      <td>기타</td>\n",
       "      <td>0</td>\n",
       "      <td>13910</td>\n",
       "      <td>42998</td>\n",
       "      <td>False</td>\n",
       "      <td>False</td>\n",
       "      <td>False</td>\n",
       "      <td>1</td>\n",
       "      <td>200</td>\n",
       "      <td>7090.0</td>\n",
       "    </tr>\n",
       "    <tr>\n",
       "      <th>3</th>\n",
       "      <td>3</td>\n",
       "      <td>무통장입금</td>\n",
       "      <td>49500.0</td>\n",
       "      <td>교환안함</td>\n",
       "      <td>0</td>\n",
       "      <td>D-20181231-0000087-00</td>\n",
       "      <td>무료</td>\n",
       "      <td>2019-01-03 오전 9:30</td>\n",
       "      <td>2019-01-07 오전 5:32</td>\n",
       "      <td>0</td>\n",
       "      <td>...</td>\n",
       "      <td>기타</td>\n",
       "      <td>0</td>\n",
       "      <td>81600</td>\n",
       "      <td>43063</td>\n",
       "      <td>False</td>\n",
       "      <td>False</td>\n",
       "      <td>True</td>\n",
       "      <td>1</td>\n",
       "      <td>300</td>\n",
       "      <td>32100.0</td>\n",
       "    </tr>\n",
       "    <tr>\n",
       "      <th>4</th>\n",
       "      <td>4</td>\n",
       "      <td>무통장입금</td>\n",
       "      <td>61600.0</td>\n",
       "      <td>교환안함</td>\n",
       "      <td>0</td>\n",
       "      <td>D-20181231-0000108-00</td>\n",
       "      <td>무료</td>\n",
       "      <td>2019-01-07 오전 8:56</td>\n",
       "      <td>2019-01-11 오전 5:32</td>\n",
       "      <td>0</td>\n",
       "      <td>...</td>\n",
       "      <td>기타</td>\n",
       "      <td>0</td>\n",
       "      <td>94710</td>\n",
       "      <td>43066</td>\n",
       "      <td>False</td>\n",
       "      <td>False</td>\n",
       "      <td>True</td>\n",
       "      <td>1</td>\n",
       "      <td>400</td>\n",
       "      <td>33110.0</td>\n",
       "    </tr>\n",
       "    <tr>\n",
       "      <th>...</th>\n",
       "      <td>...</td>\n",
       "      <td>...</td>\n",
       "      <td>...</td>\n",
       "      <td>...</td>\n",
       "      <td>...</td>\n",
       "      <td>...</td>\n",
       "      <td>...</td>\n",
       "      <td>...</td>\n",
       "      <td>...</td>\n",
       "      <td>...</td>\n",
       "      <td>...</td>\n",
       "      <td>...</td>\n",
       "      <td>...</td>\n",
       "      <td>...</td>\n",
       "      <td>...</td>\n",
       "      <td>...</td>\n",
       "      <td>...</td>\n",
       "      <td>...</td>\n",
       "      <td>...</td>\n",
       "      <td>...</td>\n",
       "      <td>...</td>\n",
       "    </tr>\n",
       "    <tr>\n",
       "      <th>46743</th>\n",
       "      <td>46743</td>\n",
       "      <td>무통장입금</td>\n",
       "      <td>1910.0</td>\n",
       "      <td>교환안함</td>\n",
       "      <td>0</td>\n",
       "      <td>D-20171229-0000026-00</td>\n",
       "      <td>무료</td>\n",
       "      <td>2017-12-29 오후 4:32</td>\n",
       "      <td>2018-01-02 오전 5:31</td>\n",
       "      <td>0</td>\n",
       "      <td>...</td>\n",
       "      <td>기타</td>\n",
       "      <td>0</td>\n",
       "      <td>0</td>\n",
       "      <td>3169</td>\n",
       "      <td>False</td>\n",
       "      <td>False</td>\n",
       "      <td>True</td>\n",
       "      <td>1</td>\n",
       "      <td>2</td>\n",
       "      <td>-1910.0</td>\n",
       "    </tr>\n",
       "    <tr>\n",
       "      <th>46744</th>\n",
       "      <td>46744</td>\n",
       "      <td>카드</td>\n",
       "      <td>36300.0</td>\n",
       "      <td>교환안함</td>\n",
       "      <td>0</td>\n",
       "      <td>D-20171229-0000036-00</td>\n",
       "      <td>무료</td>\n",
       "      <td>2017-12-29 오후 4:32</td>\n",
       "      <td>2018-01-02 오전 5:31</td>\n",
       "      <td>0</td>\n",
       "      <td>...</td>\n",
       "      <td>국민</td>\n",
       "      <td>0</td>\n",
       "      <td>52800</td>\n",
       "      <td>3170</td>\n",
       "      <td>False</td>\n",
       "      <td>False</td>\n",
       "      <td>True</td>\n",
       "      <td>1</td>\n",
       "      <td>200</td>\n",
       "      <td>16500.0</td>\n",
       "    </tr>\n",
       "    <tr>\n",
       "      <th>46745</th>\n",
       "      <td>46745</td>\n",
       "      <td>카드</td>\n",
       "      <td>36300.0</td>\n",
       "      <td>교환안함</td>\n",
       "      <td>0</td>\n",
       "      <td>D-20171229-0000043-00</td>\n",
       "      <td>무료</td>\n",
       "      <td>2018-01-03 오전 9:45</td>\n",
       "      <td>2018-01-07 오전 5:38</td>\n",
       "      <td>0</td>\n",
       "      <td>...</td>\n",
       "      <td>비씨</td>\n",
       "      <td>0</td>\n",
       "      <td>56100</td>\n",
       "      <td>3172</td>\n",
       "      <td>False</td>\n",
       "      <td>False</td>\n",
       "      <td>True</td>\n",
       "      <td>2</td>\n",
       "      <td>400</td>\n",
       "      <td>39600.0</td>\n",
       "    </tr>\n",
       "    <tr>\n",
       "      <th>46746</th>\n",
       "      <td>46746</td>\n",
       "      <td>카드</td>\n",
       "      <td>22280.0</td>\n",
       "      <td>교환안함</td>\n",
       "      <td>300</td>\n",
       "      <td>D-20171230-0000022-01</td>\n",
       "      <td>무료</td>\n",
       "      <td>2018-01-02 오후 7:06</td>\n",
       "      <td>2018-01-11 오전 2:46</td>\n",
       "      <td>0</td>\n",
       "      <td>...</td>\n",
       "      <td>기타</td>\n",
       "      <td>0</td>\n",
       "      <td>36000</td>\n",
       "      <td>3177</td>\n",
       "      <td>False</td>\n",
       "      <td>False</td>\n",
       "      <td>False</td>\n",
       "      <td>1</td>\n",
       "      <td>1500</td>\n",
       "      <td>13720.0</td>\n",
       "    </tr>\n",
       "    <tr>\n",
       "      <th>46747</th>\n",
       "      <td>46747</td>\n",
       "      <td>카드</td>\n",
       "      <td>55000.0</td>\n",
       "      <td>교환안함</td>\n",
       "      <td>320</td>\n",
       "      <td>D-20171231-0000017-01</td>\n",
       "      <td>무료</td>\n",
       "      <td>2018-01-03 오후 2:00</td>\n",
       "      <td>2018-01-06 오후 6:06</td>\n",
       "      <td>0</td>\n",
       "      <td>...</td>\n",
       "      <td>기타</td>\n",
       "      <td>0</td>\n",
       "      <td>73460</td>\n",
       "      <td>3178</td>\n",
       "      <td>False</td>\n",
       "      <td>False</td>\n",
       "      <td>False</td>\n",
       "      <td>1</td>\n",
       "      <td>400</td>\n",
       "      <td>18460.0</td>\n",
       "    </tr>\n",
       "  </tbody>\n",
       "</table>\n",
       "<p>46748 rows × 29 columns</p>\n",
       "</div>"
      ],
      "text/plain": [
       "       Unnamed: 0   결제수단     공급원가  교환구분  네이버 포인트                   배송번호  \\\n",
       "0               0  무통장입금  44550.0  교환안함        0  D-20181227-0000648-00   \n",
       "1               1  무통장입금  44000.0  교환안함        0  D-20181229-0000119-00   \n",
       "2               2  무통장입금   6820.0  교환안함        0  D-20181230-0000100-00   \n",
       "3               3  무통장입금  49500.0  교환안함        0  D-20181231-0000087-00   \n",
       "4               4  무통장입금  61600.0  교환안함        0  D-20181231-0000108-00   \n",
       "...           ...    ...      ...   ...      ...                    ...   \n",
       "46743       46743  무통장입금   1910.0  교환안함        0  D-20171229-0000026-00   \n",
       "46744       46744     카드  36300.0  교환안함        0  D-20171229-0000036-00   \n",
       "46745       46745     카드  36300.0  교환안함        0  D-20171229-0000043-00   \n",
       "46746       46746     카드  22280.0  교환안함      300  D-20171230-0000022-01   \n",
       "46747       46747     카드  55000.0  교환안함      320  D-20171231-0000017-01   \n",
       "\n",
       "      배송비 정보               배송시작일               배송완료일  사용한 적립금액  ...  카드사  \\\n",
       "0         무료  2019-01-07 오전 8:56  2019-01-11 오전 5:32         0  ...   기타   \n",
       "1         무료  2019-01-03 오전 9:30  2019-01-07 오전 5:32         0  ...   기타   \n",
       "2         무료  2019-01-03 오전 9:30  2019-01-07 오전 5:32         0  ...   기타   \n",
       "3         무료  2019-01-03 오전 9:30  2019-01-07 오전 5:32         0  ...   기타   \n",
       "4         무료  2019-01-07 오전 8:56  2019-01-11 오전 5:32         0  ...   기타   \n",
       "...      ...                 ...                 ...       ...  ...  ...   \n",
       "46743     무료  2017-12-29 오후 4:32  2018-01-02 오전 5:31         0  ...   기타   \n",
       "46744     무료  2017-12-29 오후 4:32  2018-01-02 오전 5:31         0  ...   국민   \n",
       "46745     무료  2018-01-03 오전 9:45  2018-01-07 오전 5:38         0  ...   비씨   \n",
       "46746     무료  2018-01-02 오후 7:06  2018-01-11 오전 2:46         0  ...   기타   \n",
       "46747     무료  2018-01-03 오후 2:00  2018-01-06 오후 6:06         0  ...   기타   \n",
       "\n",
       "      쿠폰 할인금액    판매가   품목번호    친환경    사은품     회원 주문수량   총수량     영업이익  \n",
       "0           0  71450  42602  False  False   True    1   300  26900.0  \n",
       "1           0  70620  42930  False  False   True    2  2000  53240.0  \n",
       "2           0  13910  42998  False  False  False    1   200   7090.0  \n",
       "3           0  81600  43063  False  False   True    1   300  32100.0  \n",
       "4           0  94710  43066  False  False   True    1   400  33110.0  \n",
       "...       ...    ...    ...    ...    ...    ...  ...   ...      ...  \n",
       "46743       0      0   3169  False  False   True    1     2  -1910.0  \n",
       "46744       0  52800   3170  False  False   True    1   200  16500.0  \n",
       "46745       0  56100   3172  False  False   True    2   400  39600.0  \n",
       "46746       0  36000   3177  False  False  False    1  1500  13720.0  \n",
       "46747       0  73460   3178  False  False  False    1   400  18460.0  \n",
       "\n",
       "[46748 rows x 29 columns]"
      ]
     },
     "execution_count": 2,
     "metadata": {},
     "output_type": "execute_result"
    }
   ],
   "source": [
    "df_order=pd.read_csv(\"log_order_sheet_001.csv\",engine=\"python\")\n",
    "df_member=pd.read_csv(\"master_member_sheet_001.csv\",engine=\"python\")\n",
    "df_product=pd.read_csv(\"master_product_sheet_002.csv\",engine=\"python\")\n",
    "df_cat=pd.read_csv(\"modifed_log_order_with_category.csv\",engine=\"python\")\n",
    "df_cat[\"영업이익\"]=df_order[\"상품구매금액\"]-df_order[\"공급원가\"]*df_order[\"주문수량\"]\n",
    "df_order[\"영업이익\"]=df_order[\"상품구매금액\"]-df_order[\"공급원가\"]*df_order[\"주문수량\"]\n",
    "df_order[:-1]"
   ]
  },
  {
   "cell_type": "code",
   "execution_count": 3,
   "metadata": {},
   "outputs": [
    {
     "data": {
      "text/plain": [
       "Index(['Unnamed: 0', '결제수단', '공급원가', '교환구분', '네이버 포인트', '배송번호', '배송비 정보',\n",
       "       '배송시작일', '배송완료일', '사용한 적립금액', '상품구매금액', '상품명', '상품번호', '상품별 추가할인금액',\n",
       "       '수령인 주소', '주문경로', '주문번호', '주문일시', '주문자ID', '카드사', '쿠폰 할인금액', '판매가',\n",
       "       '품목번호', '친환경', '사은품', '회원', '주문수량', '총수량', '영업이익'],\n",
       "      dtype='object')"
      ]
     },
     "execution_count": 3,
     "metadata": {},
     "output_type": "execute_result"
    }
   ],
   "source": [
    "df_order.columns"
   ]
  },
  {
   "cell_type": "code",
   "execution_count": 4,
   "metadata": {},
   "outputs": [
    {
     "data": {
      "text/html": [
       "<div>\n",
       "<style scoped>\n",
       "    .dataframe tbody tr th:only-of-type {\n",
       "        vertical-align: middle;\n",
       "    }\n",
       "\n",
       "    .dataframe tbody tr th {\n",
       "        vertical-align: top;\n",
       "    }\n",
       "\n",
       "    .dataframe thead th {\n",
       "        text-align: right;\n",
       "    }\n",
       "</style>\n",
       "<table border=\"1\" class=\"dataframe\">\n",
       "  <thead>\n",
       "    <tr style=\"text-align: right;\">\n",
       "      <th></th>\n",
       "      <th>Unnamed: 0</th>\n",
       "      <th>Unnamed: 0.1</th>\n",
       "      <th>#</th>\n",
       "      <th>공급사</th>\n",
       "      <th>과세/면세</th>\n",
       "      <th>담기</th>\n",
       "      <th>매입가</th>\n",
       "      <th>상품명(기본)</th>\n",
       "      <th>상품코드</th>\n",
       "      <th>재입고알림</th>\n",
       "      <th>카테고리</th>\n",
       "      <th>판매가</th>\n",
       "      <th>품절여부</th>\n",
       "      <th>후기</th>\n",
       "      <th>분류카테고리</th>\n",
       "    </tr>\n",
       "  </thead>\n",
       "  <tbody>\n",
       "    <tr>\n",
       "      <th>0</th>\n",
       "      <td>0</td>\n",
       "      <td>0</td>\n",
       "      <td>1</td>\n",
       "      <td>패커스</td>\n",
       "      <td>과세</td>\n",
       "      <td>0</td>\n",
       "      <td>55440</td>\n",
       "      <td>실링용기 71호 백색 2,200ml 400개 1박스</td>\n",
       "      <td>2184</td>\n",
       "      <td>사용함</td>\n",
       "      <td>018 : 실링용기\\n018002 : 실링용기 &gt; 2319(2318)시리즈\\n042...</td>\n",
       "      <td>77480</td>\n",
       "      <td>정상</td>\n",
       "      <td>0</td>\n",
       "      <td>용기</td>\n",
       "    </tr>\n",
       "    <tr>\n",
       "      <th>1</th>\n",
       "      <td>1</td>\n",
       "      <td>1</td>\n",
       "      <td>2</td>\n",
       "      <td>(주)니드코</td>\n",
       "      <td>과세</td>\n",
       "      <td>0</td>\n",
       "      <td>3080</td>\n",
       "      <td>니드코]국산제품 정식쟁반,병원식판,분식점 돈까스쟁반 업소용 화이트 항균아트쟁반 5호</td>\n",
       "      <td>2181</td>\n",
       "      <td>사용안함</td>\n",
       "      <td>002 : 주방용품\\n002002 : 주방용품 &gt; 주방용품\\n046 : 주방용품/소...</td>\n",
       "      <td>4950</td>\n",
       "      <td>정상</td>\n",
       "      <td>0</td>\n",
       "      <td>실링제품</td>\n",
       "    </tr>\n",
       "  </tbody>\n",
       "</table>\n",
       "</div>"
      ],
      "text/plain": [
       "   Unnamed: 0  Unnamed: 0.1  #     공급사 과세/면세  담기    매입가  \\\n",
       "0           0             0  1     패커스    과세   0  55440   \n",
       "1           1             1  2  (주)니드코    과세   0   3080   \n",
       "\n",
       "                                          상품명(기본)  상품코드 재입고알림  \\\n",
       "0                    실링용기 71호 백색 2,200ml 400개 1박스  2184   사용함   \n",
       "1  니드코]국산제품 정식쟁반,병원식판,분식점 돈까스쟁반 업소용 화이트 항균아트쟁반 5호  2181  사용안함   \n",
       "\n",
       "                                                카테고리    판매가 품절여부  후기 분류카테고리  \n",
       "0  018 : 실링용기\\n018002 : 실링용기 > 2319(2318)시리즈\\n042...  77480   정상   0     용기  \n",
       "1  002 : 주방용품\\n002002 : 주방용품 > 주방용품\\n046 : 주방용품/소...   4950   정상   0   실링제품  "
      ]
     },
     "execution_count": 4,
     "metadata": {},
     "output_type": "execute_result"
    }
   ],
   "source": [
    "df_product.head(2)"
   ]
  },
  {
   "cell_type": "code",
   "execution_count": 5,
   "metadata": {},
   "outputs": [
    {
     "data": {
      "text/plain": [
       "Index(['Unnamed: 0', 'ID', '나이', '사용가능 적립금', '성별', '주소(동/읍/면)', '최종접속일',\n",
       "       '최종주문일', '유입경로', '유입기기', '회원 가입일', '사업자구분', '회원구분'],\n",
       "      dtype='object')"
      ]
     },
     "execution_count": 5,
     "metadata": {},
     "output_type": "execute_result"
    }
   ],
   "source": [
    "df_member.columns"
   ]
  },
  {
   "cell_type": "code",
   "execution_count": 6,
   "metadata": {},
   "outputs": [
    {
     "data": {
      "text/html": [
       "<div>\n",
       "<style scoped>\n",
       "    .dataframe tbody tr th:only-of-type {\n",
       "        vertical-align: middle;\n",
       "    }\n",
       "\n",
       "    .dataframe tbody tr th {\n",
       "        vertical-align: top;\n",
       "    }\n",
       "\n",
       "    .dataframe thead th {\n",
       "        text-align: right;\n",
       "    }\n",
       "</style>\n",
       "<table border=\"1\" class=\"dataframe\">\n",
       "  <thead>\n",
       "    <tr style=\"text-align: right;\">\n",
       "      <th></th>\n",
       "      <th>Unnamed: 0</th>\n",
       "      <th>ID</th>\n",
       "      <th>나이</th>\n",
       "      <th>사용가능 적립금</th>\n",
       "      <th>성별</th>\n",
       "      <th>주소(동/읍/면)</th>\n",
       "      <th>최종접속일</th>\n",
       "      <th>최종주문일</th>\n",
       "      <th>유입경로</th>\n",
       "      <th>유입기기</th>\n",
       "      <th>회원 가입일</th>\n",
       "      <th>사업자구분</th>\n",
       "      <th>회원구분</th>\n",
       "    </tr>\n",
       "  </thead>\n",
       "  <tbody>\n",
       "    <tr>\n",
       "      <th>0</th>\n",
       "      <td>0</td>\n",
       "      <td>sr7577</td>\n",
       "      <td>40대</td>\n",
       "      <td>0</td>\n",
       "      <td>남자</td>\n",
       "      <td>경기도 평택시 현신3길 76 (용이동)</td>\n",
       "      <td>2016-12-30 오후 5:57</td>\n",
       "      <td>2016-12-30</td>\n",
       "      <td>블로그광고</td>\n",
       "      <td>PC</td>\n",
       "      <td>2016-12-30</td>\n",
       "      <td>개인</td>\n",
       "      <td>일반</td>\n",
       "    </tr>\n",
       "    <tr>\n",
       "      <th>1</th>\n",
       "      <td>1</td>\n",
       "      <td>cgh1385</td>\n",
       "      <td>50대</td>\n",
       "      <td>0</td>\n",
       "      <td>남자</td>\n",
       "      <td>전라북도 전주시 덕진구 동부대로 879 (호성동1가)</td>\n",
       "      <td>2017-01-02 오후 12:32</td>\n",
       "      <td>2017-01-01 오후 3:38</td>\n",
       "      <td>블로그광고</td>\n",
       "      <td>모바일</td>\n",
       "      <td>2017-01-01</td>\n",
       "      <td>개인</td>\n",
       "      <td>일반</td>\n",
       "    </tr>\n",
       "  </tbody>\n",
       "</table>\n",
       "</div>"
      ],
      "text/plain": [
       "   Unnamed: 0       ID   나이  사용가능 적립금  성별                      주소(동/읍/면)  \\\n",
       "0           0   sr7577  40대         0  남자          경기도 평택시 현신3길 76 (용이동)   \n",
       "1           1  cgh1385  50대         0  남자  전라북도 전주시 덕진구 동부대로 879 (호성동1가)   \n",
       "\n",
       "                 최종접속일               최종주문일   유입경로 유입기기      회원 가입일 사업자구분 회원구분  \n",
       "0   2016-12-30 오후 5:57          2016-12-30  블로그광고   PC  2016-12-30    개인   일반  \n",
       "1  2017-01-02 오후 12:32  2017-01-01 오후 3:38  블로그광고  모바일  2017-01-01    개인   일반  "
      ]
     },
     "execution_count": 6,
     "metadata": {},
     "output_type": "execute_result"
    }
   ],
   "source": [
    "df_member.head(2)"
   ]
  },
  {
   "cell_type": "markdown",
   "metadata": {},
   "source": [
    "# 1, 나이"
   ]
  },
  {
   "cell_type": "markdown",
   "metadata": {},
   "source": [
    "# 1-1, 나이별 영업이익 차이 보기"
   ]
  },
  {
   "cell_type": "markdown",
   "metadata": {},
   "source": [
    "#### 주문자ID와 영업이익으로 새로운 데이터프레임 만들기"
   ]
  },
  {
   "cell_type": "code",
   "execution_count": 7,
   "metadata": {},
   "outputs": [
    {
     "data": {
      "text/html": [
       "<div>\n",
       "<style scoped>\n",
       "    .dataframe tbody tr th:only-of-type {\n",
       "        vertical-align: middle;\n",
       "    }\n",
       "\n",
       "    .dataframe tbody tr th {\n",
       "        vertical-align: top;\n",
       "    }\n",
       "\n",
       "    .dataframe thead th {\n",
       "        text-align: right;\n",
       "    }\n",
       "</style>\n",
       "<table border=\"1\" class=\"dataframe\">\n",
       "  <thead>\n",
       "    <tr style=\"text-align: right;\">\n",
       "      <th></th>\n",
       "      <th>주문자ID</th>\n",
       "      <th>영업이익</th>\n",
       "    </tr>\n",
       "  </thead>\n",
       "  <tbody>\n",
       "    <tr>\n",
       "      <th>0</th>\n",
       "      <td>100304734@n</td>\n",
       "      <td>18050.000000</td>\n",
       "    </tr>\n",
       "    <tr>\n",
       "      <th>1</th>\n",
       "      <td>1003409866@k</td>\n",
       "      <td>29751.777778</td>\n",
       "    </tr>\n",
       "    <tr>\n",
       "      <th>2</th>\n",
       "      <td>100381931@n</td>\n",
       "      <td>12023.333333</td>\n",
       "    </tr>\n",
       "  </tbody>\n",
       "</table>\n",
       "</div>"
      ],
      "text/plain": [
       "          주문자ID          영업이익\n",
       "0   100304734@n  18050.000000\n",
       "1  1003409866@k  29751.777778\n",
       "2   100381931@n  12023.333333"
      ]
     },
     "execution_count": 7,
     "metadata": {},
     "output_type": "execute_result"
    }
   ],
   "source": [
    "df_new1=pd.pivot_table(data=df_order,index=\"주문자ID\",values='영업이익').reset_index()\n",
    "df_new1.head(3)"
   ]
  },
  {
   "cell_type": "code",
   "execution_count": 8,
   "metadata": {},
   "outputs": [],
   "source": [
    "df_new1=df_new1.rename({'주문자ID':'ID','영업이익':'영업이익'},axis='columns')"
   ]
  },
  {
   "cell_type": "code",
   "execution_count": 9,
   "metadata": {},
   "outputs": [
    {
     "data": {
      "text/html": [
       "<div>\n",
       "<style scoped>\n",
       "    .dataframe tbody tr th:only-of-type {\n",
       "        vertical-align: middle;\n",
       "    }\n",
       "\n",
       "    .dataframe tbody tr th {\n",
       "        vertical-align: top;\n",
       "    }\n",
       "\n",
       "    .dataframe thead th {\n",
       "        text-align: right;\n",
       "    }\n",
       "</style>\n",
       "<table border=\"1\" class=\"dataframe\">\n",
       "  <thead>\n",
       "    <tr style=\"text-align: right;\">\n",
       "      <th></th>\n",
       "      <th>ID</th>\n",
       "      <th>영업이익</th>\n",
       "      <th>Unnamed: 0</th>\n",
       "      <th>나이</th>\n",
       "      <th>사용가능 적립금</th>\n",
       "      <th>성별</th>\n",
       "      <th>주소(동/읍/면)</th>\n",
       "      <th>최종접속일</th>\n",
       "      <th>최종주문일</th>\n",
       "      <th>유입경로</th>\n",
       "      <th>유입기기</th>\n",
       "      <th>회원 가입일</th>\n",
       "      <th>사업자구분</th>\n",
       "      <th>회원구분</th>\n",
       "    </tr>\n",
       "  </thead>\n",
       "  <tbody>\n",
       "    <tr>\n",
       "      <th>0</th>\n",
       "      <td>100304734@n</td>\n",
       "      <td>18050.000000</td>\n",
       "      <td>6308</td>\n",
       "      <td>40대</td>\n",
       "      <td>100</td>\n",
       "      <td>남자</td>\n",
       "      <td>주소없음</td>\n",
       "      <td>2019-05-09 오후 2:09</td>\n",
       "      <td>2019-05-09 오후 2:12</td>\n",
       "      <td>SNS광고</td>\n",
       "      <td>모바일</td>\n",
       "      <td>2019-05-09</td>\n",
       "      <td>개인</td>\n",
       "      <td>일반</td>\n",
       "    </tr>\n",
       "    <tr>\n",
       "      <th>1</th>\n",
       "      <td>1003409866@k</td>\n",
       "      <td>29751.777778</td>\n",
       "      <td>4442</td>\n",
       "      <td>20대</td>\n",
       "      <td>55900</td>\n",
       "      <td>남자</td>\n",
       "      <td>서울특별시 강남구 광평로51길 27 (수서동)</td>\n",
       "      <td>2019-05-28 오후 4:40</td>\n",
       "      <td>2019-05-28 오후 4:41</td>\n",
       "      <td>카카오톡광고</td>\n",
       "      <td>모바일</td>\n",
       "      <td>2019-01-07</td>\n",
       "      <td>개인</td>\n",
       "      <td>일반</td>\n",
       "    </tr>\n",
       "    <tr>\n",
       "      <th>2</th>\n",
       "      <td>100381931@n</td>\n",
       "      <td>12023.333333</td>\n",
       "      <td>3587</td>\n",
       "      <td>40대</td>\n",
       "      <td>1000</td>\n",
       "      <td>남자</td>\n",
       "      <td>대구광역시 남구 대봉로 183 (이천동)</td>\n",
       "      <td>2019-02-10 오후 9:37</td>\n",
       "      <td>2019-02-10 오후 9:46</td>\n",
       "      <td>SNS광고</td>\n",
       "      <td>모바일</td>\n",
       "      <td>2018-10-31</td>\n",
       "      <td>개인</td>\n",
       "      <td>일반</td>\n",
       "    </tr>\n",
       "    <tr>\n",
       "      <th>3</th>\n",
       "      <td>1004498382@k</td>\n",
       "      <td>28550.000000</td>\n",
       "      <td>4492</td>\n",
       "      <td>40대</td>\n",
       "      <td>1300</td>\n",
       "      <td>남자</td>\n",
       "      <td>경기도 부천시 부천로476번길 46 (오정동)</td>\n",
       "      <td>2019-01-09 오후 12:30</td>\n",
       "      <td>2019-01-09 오후 12:49</td>\n",
       "      <td>SNS광고</td>\n",
       "      <td>모바일</td>\n",
       "      <td>2019-01-09</td>\n",
       "      <td>개인</td>\n",
       "      <td>일반</td>\n",
       "    </tr>\n",
       "    <tr>\n",
       "      <th>4</th>\n",
       "      <td>1004547839@k</td>\n",
       "      <td>-64460.000000</td>\n",
       "      <td>4493</td>\n",
       "      <td>40대</td>\n",
       "      <td>2400</td>\n",
       "      <td>남자</td>\n",
       "      <td>전라남도 나주시 그린로 317-7 (빛가람동)</td>\n",
       "      <td>2019-02-14 오후 2:08</td>\n",
       "      <td>2019-01-09 오후 1:48</td>\n",
       "      <td>블로그광고</td>\n",
       "      <td>PC</td>\n",
       "      <td>2019-01-09</td>\n",
       "      <td>개인</td>\n",
       "      <td>일반</td>\n",
       "    </tr>\n",
       "  </tbody>\n",
       "</table>\n",
       "</div>"
      ],
      "text/plain": [
       "             ID          영업이익  Unnamed: 0   나이  사용가능 적립금  성별  \\\n",
       "0   100304734@n  18050.000000        6308  40대       100  남자   \n",
       "1  1003409866@k  29751.777778        4442  20대     55900  남자   \n",
       "2   100381931@n  12023.333333        3587  40대      1000  남자   \n",
       "3  1004498382@k  28550.000000        4492  40대      1300  남자   \n",
       "4  1004547839@k -64460.000000        4493  40대      2400  남자   \n",
       "\n",
       "                   주소(동/읍/면)                최종접속일                최종주문일  \\\n",
       "0                       주소없음   2019-05-09 오후 2:09   2019-05-09 오후 2:12   \n",
       "1  서울특별시 강남구 광평로51길 27 (수서동)   2019-05-28 오후 4:40   2019-05-28 오후 4:41   \n",
       "2     대구광역시 남구 대봉로 183 (이천동)   2019-02-10 오후 9:37   2019-02-10 오후 9:46   \n",
       "3  경기도 부천시 부천로476번길 46 (오정동)  2019-01-09 오후 12:30  2019-01-09 오후 12:49   \n",
       "4  전라남도 나주시 그린로 317-7 (빛가람동)   2019-02-14 오후 2:08   2019-01-09 오후 1:48   \n",
       "\n",
       "     유입경로 유입기기      회원 가입일 사업자구분 회원구분  \n",
       "0   SNS광고  모바일  2019-05-09    개인   일반  \n",
       "1  카카오톡광고  모바일  2019-01-07    개인   일반  \n",
       "2   SNS광고  모바일  2018-10-31    개인   일반  \n",
       "3   SNS광고  모바일  2019-01-09    개인   일반  \n",
       "4   블로그광고   PC  2019-01-09    개인   일반  "
      ]
     },
     "execution_count": 9,
     "metadata": {},
     "output_type": "execute_result"
    }
   ],
   "source": [
    "df_result1=pd.merge(df_new1,df_member,on='ID')\n",
    "df_result1.head(5)"
   ]
  },
  {
   "cell_type": "markdown",
   "metadata": {},
   "source": [
    "#### 카운트 플롯 : 나이    \n",
    "나이별 주문 금액에 대한 차이 알아보기 "
   ]
  },
  {
   "cell_type": "markdown",
   "metadata": {},
   "source": [
    "#### 나이 분포"
   ]
  },
  {
   "cell_type": "code",
   "execution_count": 10,
   "metadata": {},
   "outputs": [
    {
     "data": {
      "text/plain": [
       "<matplotlib.axes._subplots.AxesSubplot at 0x7fd9da25fd90>"
      ]
     },
     "execution_count": 10,
     "metadata": {},
     "output_type": "execute_result"
    },
    {
     "data": {
      "image/png": "[encoded data removed]",
      "text/plain": [
       "<Figure size 432x288 with 1 Axes>"
      ]
     },
     "metadata": {
      "needs_background": "light"
     },
     "output_type": "display_data"
    }
   ],
   "source": [
    "df_member[\"나이\"].hist() "
   ]
  },
  {
   "cell_type": "markdown",
   "metadata": {},
   "source": [
    "#### -----> 40대 -> 30대 -> 20대 -> 50대 순서를 보임"
   ]
  },
  {
   "cell_type": "code",
   "execution_count": 11,
   "metadata": {},
   "outputs": [
    {
     "data": {
      "text/plain": [
       "40대    3614\n",
       "30대    1902\n",
       "20대     821\n",
       "50대     125\n",
       "60대      36\n",
       "70대      18\n",
       "80대       5\n",
       "Name: 나이, dtype: int64"
      ]
     },
     "execution_count": 11,
     "metadata": {},
     "output_type": "execute_result"
    }
   ],
   "source": [
    "df_member[\"나이\"].value_counts()"
   ]
  },
  {
   "cell_type": "code",
   "execution_count": 12,
   "metadata": {},
   "outputs": [
    {
     "data": {
      "image/png": "[encoded data removed]",
      "text/plain": [
       "<Figure size 432x288 with 1 Axes>"
      ]
     },
     "metadata": {},
     "output_type": "display_data"
    }
   ],
   "source": [
    "labels=['20대','30대','40대','50대','60대','70대','80대']\n",
    "ratio=[821,1902,3614,125,36,18,5]\n",
    "plt.pie(ratio,labels=labels,shadow=True,startangle=90)\n",
    "plt.show()"
   ]
  },
  {
   "cell_type": "code",
   "execution_count": 13,
   "metadata": {},
   "outputs": [
    {
     "data": {
      "text/plain": [
       "F_onewayResult(statistic=10.988791795442163, pvalue=3.373770395199193e-12)"
      ]
     },
     "execution_count": 13,
     "metadata": {},
     "output_type": "execute_result"
    }
   ],
   "source": [
    "import scipy.stats as stats\n",
    "\n",
    "stats.f_oneway(df_result1['영업이익'][df_result1['나이'] == '20대'],\n",
    "               df_result1['영업이익'][df_result1['나이'] == '30대'],\n",
    "              df_result1['영업이익'][df_result1['나이'] == '40대'],\n",
    "              df_result1['영업이익'][df_result1['나이'] == '50대'],\n",
    "              df_result1['영업이익'][df_result1['나이'] == '60대'],\n",
    "              df_result1['영업이익'][df_result1['나이'] == '70대'],\n",
    "              df_result1['영업이익'][df_result1['나이'] == '80대'])"
   ]
  },
  {
   "cell_type": "code",
   "execution_count": 14,
   "metadata": {},
   "outputs": [
    {
     "data": {
      "text/plain": [
       "<matplotlib.axes._subplots.AxesSubplot at 0x7fd9da35ac90>"
      ]
     },
     "execution_count": 14,
     "metadata": {},
     "output_type": "execute_result"
    },
    {
     "name": "stderr",
     "output_type": "stream",
     "text": [
      "/home/piai/anaconda3/lib/python3.7/site-packages/matplotlib/backends/backend_agg.py:211: RuntimeWarning: Glyph 8722 missing from current font.\n",
      "  font.set_text(s, 0.0, flags=flags)\n",
      "/home/piai/anaconda3/lib/python3.7/site-packages/matplotlib/backends/backend_agg.py:180: RuntimeWarning: Glyph 8722 missing from current font.\n",
      "  font.set_text(s, 0, flags=flags)\n"
     ]
    },
    {
     "data": {
      "image/png": "[encoded data removed]",
      "text/plain": [
       "<Figure size 432x288 with 1 Axes>"
      ]
     },
     "metadata": {
      "needs_background": "light"
     },
     "output_type": "display_data"
    }
   ],
   "source": [
    "df_result1.boxplot(column=\"영업이익\",by=\"나이\")"
   ]
  },
  {
   "cell_type": "code",
   "execution_count": 15,
   "metadata": {},
   "outputs": [
    {
     "data": {
      "text/html": [
       "<div>\n",
       "<style scoped>\n",
       "    .dataframe tbody tr th:only-of-type {\n",
       "        vertical-align: middle;\n",
       "    }\n",
       "\n",
       "    .dataframe tbody tr th {\n",
       "        vertical-align: top;\n",
       "    }\n",
       "\n",
       "    .dataframe thead th {\n",
       "        text-align: right;\n",
       "    }\n",
       "</style>\n",
       "<table border=\"1\" class=\"dataframe\">\n",
       "  <thead>\n",
       "    <tr style=\"text-align: right;\">\n",
       "      <th></th>\n",
       "      <th>영업이익</th>\n",
       "      <th>Unnamed: 0</th>\n",
       "      <th>사용가능 적립금</th>\n",
       "    </tr>\n",
       "    <tr>\n",
       "      <th>나이</th>\n",
       "      <th></th>\n",
       "      <th></th>\n",
       "      <th></th>\n",
       "    </tr>\n",
       "  </thead>\n",
       "  <tbody>\n",
       "    <tr>\n",
       "      <th>20대</th>\n",
       "      <td>18392.246876</td>\n",
       "      <td>3565.178218</td>\n",
       "      <td>1682.185644</td>\n",
       "    </tr>\n",
       "    <tr>\n",
       "      <th>30대</th>\n",
       "      <td>19097.561502</td>\n",
       "      <td>3335.882949</td>\n",
       "      <td>2063.951041</td>\n",
       "    </tr>\n",
       "    <tr>\n",
       "      <th>40대</th>\n",
       "      <td>19103.654656</td>\n",
       "      <td>3250.711880</td>\n",
       "      <td>2139.279017</td>\n",
       "    </tr>\n",
       "    <tr>\n",
       "      <th>50대</th>\n",
       "      <td>25097.254802</td>\n",
       "      <td>1855.763636</td>\n",
       "      <td>4657.300000</td>\n",
       "    </tr>\n",
       "    <tr>\n",
       "      <th>60대</th>\n",
       "      <td>35041.714216</td>\n",
       "      <td>1888.592593</td>\n",
       "      <td>3991.481481</td>\n",
       "    </tr>\n",
       "    <tr>\n",
       "      <th>70대</th>\n",
       "      <td>30946.745380</td>\n",
       "      <td>2510.500000</td>\n",
       "      <td>6188.888889</td>\n",
       "    </tr>\n",
       "    <tr>\n",
       "      <th>80대</th>\n",
       "      <td>18731.166667</td>\n",
       "      <td>3661.600000</td>\n",
       "      <td>1640.000000</td>\n",
       "    </tr>\n",
       "  </tbody>\n",
       "</table>\n",
       "</div>"
      ],
      "text/plain": [
       "             영업이익   Unnamed: 0     사용가능 적립금\n",
       "나이                                         \n",
       "20대  18392.246876  3565.178218  1682.185644\n",
       "30대  19097.561502  3335.882949  2063.951041\n",
       "40대  19103.654656  3250.711880  2139.279017\n",
       "50대  25097.254802  1855.763636  4657.300000\n",
       "60대  35041.714216  1888.592593  3991.481481\n",
       "70대  30946.745380  2510.500000  6188.888889\n",
       "80대  18731.166667  3661.600000  1640.000000"
      ]
     },
     "execution_count": 15,
     "metadata": {},
     "output_type": "execute_result"
    }
   ],
   "source": [
    "df_result1.groupby(df_result1['나이']).mean()"
   ]
  },
  {
   "cell_type": "markdown",
   "metadata": {},
   "source": [
    "#### 1,나이대별 유입경로_60대"
   ]
  },
  {
   "cell_type": "code",
   "execution_count": 16,
   "metadata": {},
   "outputs": [],
   "source": [
    "df_age_60=df_result1.groupby('나이').get_group('60대')"
   ]
  },
  {
   "cell_type": "code",
   "execution_count": 17,
   "metadata": {},
   "outputs": [
    {
     "data": {
      "text/plain": [
       "인터넷기사광고    12\n",
       "전단지광고       3\n",
       "지인추천        3\n",
       "잡지광고        3\n",
       "신문광고        3\n",
       "기타          2\n",
       "인터넷검색       1\n",
       "Name: 유입경로, dtype: int64"
      ]
     },
     "execution_count": 17,
     "metadata": {},
     "output_type": "execute_result"
    }
   ],
   "source": [
    "df_age_60[\"유입경로\"].value_counts()"
   ]
  },
  {
   "cell_type": "code",
   "execution_count": 18,
   "metadata": {},
   "outputs": [
    {
     "data": {
      "text/plain": [
       "(array([12.,  3.,  0.,  3.,  0.,  1.,  3.,  0.,  2.,  3.]),\n",
       " array([0. , 0.6, 1.2, 1.8, 2.4, 3. , 3.6, 4.2, 4.8, 5.4, 6. ]),\n",
       " <a list of 10 Patch objects>)"
      ]
     },
     "execution_count": 18,
     "metadata": {},
     "output_type": "execute_result"
    },
    {
     "data": {
      "image/png": "[encoded data removed]",
      "text/plain": [
       "<Figure size 432x288 with 1 Axes>"
      ]
     },
     "metadata": {
      "needs_background": "light"
     },
     "output_type": "display_data"
    }
   ],
   "source": [
    "plt.hist(df_age_60[\"유입경로\"],histtype='bar',rwidth=0.9)"
   ]
  },
  {
   "cell_type": "code",
   "execution_count": 19,
   "metadata": {},
   "outputs": [
    {
     "data": {
      "text/plain": [
       "사업자    15\n",
       "개인     12\n",
       "Name: 사업자구분, dtype: int64"
      ]
     },
     "execution_count": 19,
     "metadata": {},
     "output_type": "execute_result"
    }
   ],
   "source": [
    "df_age_60[\"사업자구분\"].value_counts()"
   ]
  },
  {
   "cell_type": "code",
   "execution_count": 20,
   "metadata": {},
   "outputs": [
    {
     "data": {
      "text/plain": [
       "<matplotlib.axes._subplots.AxesSubplot at 0x7fd9da3a8710>"
      ]
     },
     "execution_count": 20,
     "metadata": {},
     "output_type": "execute_result"
    },
    {
     "data": {
      "image/png": "[encoded data removed]",
      "text/plain": [
       "<Figure size 432x288 with 1 Axes>"
      ]
     },
     "metadata": {
      "needs_background": "light"
     },
     "output_type": "display_data"
    }
   ],
   "source": [
    "df_age_60[\"사업자구분\"].hist()"
   ]
  },
  {
   "cell_type": "markdown",
   "metadata": {},
   "source": [
    "#### 2,나이대별 유입경로_30대 -->유튜부"
   ]
  },
  {
   "cell_type": "code",
   "execution_count": 21,
   "metadata": {},
   "outputs": [],
   "source": [
    "df_age_30=df_result1.groupby('나이').get_group('30대')"
   ]
  },
  {
   "cell_type": "code",
   "execution_count": 22,
   "metadata": {},
   "outputs": [
    {
     "data": {
      "text/plain": [
       "유튜브광고      529\n",
       "이메일광고      382\n",
       "전단지광고      176\n",
       "SNS광고      140\n",
       "인터넷기사광고    111\n",
       "지인추천        99\n",
       "인터넷검색       90\n",
       "잡지광고        87\n",
       "카카오톡광고      81\n",
       "기타          57\n",
       "신문광고        25\n",
       "Name: 유입경로, dtype: int64"
      ]
     },
     "execution_count": 22,
     "metadata": {},
     "output_type": "execute_result"
    }
   ],
   "source": [
    "df_age_30[\"유입경로\"].value_counts()"
   ]
  },
  {
   "cell_type": "code",
   "execution_count": 23,
   "metadata": {},
   "outputs": [
    {
     "data": {
      "text/plain": [
       "(array([140.,  81., 529., 382., 111.,  25.,  99., 176.,  57., 177.]),\n",
       " array([ 0.,  1.,  2.,  3.,  4.,  5.,  6.,  7.,  8.,  9., 10.]),\n",
       " <a list of 10 Patch objects>)"
      ]
     },
     "execution_count": 23,
     "metadata": {},
     "output_type": "execute_result"
    },
    {
     "data": {
      "image/png": "[encoded data removed]",
      "text/plain": [
       "<Figure size 1080x576 with 1 Axes>"
      ]
     },
     "metadata": {
      "needs_background": "light"
     },
     "output_type": "display_data"
    }
   ],
   "source": [
    "plt.rcParams[\"figure.figsize\"]=(15,8)\n",
    "plt.hist(df_age_30[\"유입경로\"],histtype='bar',rwidth=0.5)"
   ]
  },
  {
   "cell_type": "markdown",
   "metadata": {},
   "source": [
    "#### 3,나이대별 유입경로_40대 -->블로그 광고 "
   ]
  },
  {
   "cell_type": "code",
   "execution_count": 24,
   "metadata": {},
   "outputs": [],
   "source": [
    "df_age_40=df_result1.groupby('나이').get_group('40대')"
   ]
  },
  {
   "cell_type": "code",
   "execution_count": 25,
   "metadata": {},
   "outputs": [
    {
     "data": {
      "text/plain": [
       "블로그광고      624\n",
       "SNS광고      614\n",
       "전단지광고      317\n",
       "인터넷검색      196\n",
       "잡지광고       178\n",
       "지인추천       143\n",
       "기타         102\n",
       "인터넷기사광고     16\n",
       "유튜브광고        7\n",
       "Name: 유입경로, dtype: int64"
      ]
     },
     "execution_count": 25,
     "metadata": {},
     "output_type": "execute_result"
    }
   ],
   "source": [
    "df_age_40[\"유입경로\"].value_counts()"
   ]
  },
  {
   "cell_type": "code",
   "execution_count": 26,
   "metadata": {},
   "outputs": [
    {
     "data": {
      "text/plain": [
       "(array([614., 624., 196., 102.,   0.,   7.,  16., 178., 143., 317.]),\n",
       " array([0. , 0.8, 1.6, 2.4, 3.2, 4. , 4.8, 5.6, 6.4, 7.2, 8. ]),\n",
       " <a list of 10 Patch objects>)"
      ]
     },
     "execution_count": 26,
     "metadata": {},
     "output_type": "execute_result"
    },
    {
     "data": {
      "image/png": "[encoded data removed]",
      "text/plain": [
       "<Figure size 1080x576 with 1 Axes>"
      ]
     },
     "metadata": {
      "needs_background": "light"
     },
     "output_type": "display_data"
    }
   ],
   "source": [
    "plt.rcParams[\"figure.figsize\"]=(15,8)\n",
    "plt.hist(df_age_40[\"유입경로\"],histtype='bar',rwidth=0.5)"
   ]
  },
  {
   "cell_type": "markdown",
   "metadata": {},
   "source": [
    "# 1-2, 나이별 사용하는 상품 분포보기"
   ]
  },
  {
   "cell_type": "code",
   "execution_count": 27,
   "metadata": {},
   "outputs": [
    {
     "data": {
      "text/plain": [
       "Index(['Unnamed: 0', 'Unnamed: 0.1', '#', '공급사', '과세/면세', '담기', '매입가',\n",
       "       '상품명(기본)', '상품코드', '재입고알림', '카테고리', '판매가', '품절여부', '후기', '분류카테고리'],\n",
       "      dtype='object')"
      ]
     },
     "execution_count": 27,
     "metadata": {},
     "output_type": "execute_result"
    }
   ],
   "source": [
    "df_product.columns"
   ]
  },
  {
   "cell_type": "code",
   "execution_count": 28,
   "metadata": {},
   "outputs": [
    {
     "data": {
      "text/plain": [
       "Index(['Unnamed: 0', '결제수단', '공급원가', '교환구분', '네이버 포인트', '배송번호', '배송비 정보',\n",
       "       '배송시작일', '배송완료일', '사용한 적립금액', '상품구매금액', '상품명', '상품번호', '상품별 추가할인금액',\n",
       "       '수령인 주소', '주문경로', '주문번호', '주문일시', '주문자ID', '카드사', '쿠폰 할인금액', '판매가',\n",
       "       '품목번호', '친환경', '사은품', '회원', '주문수량', '총수량', '영업이익'],\n",
       "      dtype='object')"
      ]
     },
     "execution_count": 28,
     "metadata": {},
     "output_type": "execute_result"
    }
   ],
   "source": [
    "df_order.columns"
   ]
  },
  {
   "cell_type": "code",
   "execution_count": 29,
   "metadata": {},
   "outputs": [
    {
     "data": {
      "text/html": [
       "<div>\n",
       "<style scoped>\n",
       "    .dataframe tbody tr th:only-of-type {\n",
       "        vertical-align: middle;\n",
       "    }\n",
       "\n",
       "    .dataframe tbody tr th {\n",
       "        vertical-align: top;\n",
       "    }\n",
       "\n",
       "    .dataframe thead th {\n",
       "        text-align: right;\n",
       "    }\n",
       "</style>\n",
       "<table border=\"1\" class=\"dataframe\">\n",
       "  <thead>\n",
       "    <tr style=\"text-align: right;\">\n",
       "      <th></th>\n",
       "      <th>상품코드</th>\n",
       "      <th>분류카테고리</th>\n",
       "    </tr>\n",
       "  </thead>\n",
       "  <tbody>\n",
       "    <tr>\n",
       "      <th>0</th>\n",
       "      <td>38</td>\n",
       "      <td>용기</td>\n",
       "    </tr>\n",
       "    <tr>\n",
       "      <th>1</th>\n",
       "      <td>39</td>\n",
       "      <td>용기</td>\n",
       "    </tr>\n",
       "    <tr>\n",
       "      <th>2</th>\n",
       "      <td>40</td>\n",
       "      <td>용기</td>\n",
       "    </tr>\n",
       "  </tbody>\n",
       "</table>\n",
       "</div>"
      ],
      "text/plain": [
       "   상품코드 분류카테고리\n",
       "0    38     용기\n",
       "1    39     용기\n",
       "2    40     용기"
      ]
     },
     "execution_count": 29,
     "metadata": {},
     "output_type": "execute_result"
    }
   ],
   "source": [
    "df_new2=pd.pivot_table(data=df_product,index='상품코드',values='분류카테고리',aggfunc='first').reset_index()\n",
    "df_new2.head(3)"
   ]
  },
  {
   "cell_type": "code",
   "execution_count": 30,
   "metadata": {},
   "outputs": [
    {
     "data": {
      "text/html": [
       "<div>\n",
       "<style scoped>\n",
       "    .dataframe tbody tr th:only-of-type {\n",
       "        vertical-align: middle;\n",
       "    }\n",
       "\n",
       "    .dataframe tbody tr th {\n",
       "        vertical-align: top;\n",
       "    }\n",
       "\n",
       "    .dataframe thead th {\n",
       "        text-align: right;\n",
       "    }\n",
       "</style>\n",
       "<table border=\"1\" class=\"dataframe\">\n",
       "  <thead>\n",
       "    <tr style=\"text-align: right;\">\n",
       "      <th></th>\n",
       "      <th>상품번호</th>\n",
       "      <th>분류카테고리</th>\n",
       "    </tr>\n",
       "  </thead>\n",
       "  <tbody>\n",
       "    <tr>\n",
       "      <th>0</th>\n",
       "      <td>38</td>\n",
       "      <td>용기</td>\n",
       "    </tr>\n",
       "    <tr>\n",
       "      <th>1</th>\n",
       "      <td>39</td>\n",
       "      <td>용기</td>\n",
       "    </tr>\n",
       "  </tbody>\n",
       "</table>\n",
       "</div>"
      ],
      "text/plain": [
       "   상품번호 분류카테고리\n",
       "0    38     용기\n",
       "1    39     용기"
      ]
     },
     "execution_count": 30,
     "metadata": {},
     "output_type": "execute_result"
    }
   ],
   "source": [
    "df_new2=df_new2.rename({'상품코드':'상품번호','분류카테고리':'분류카테고리'},axis='columns')\n",
    "df_new2.head(2)"
   ]
  },
  {
   "cell_type": "code",
   "execution_count": 31,
   "metadata": {},
   "outputs": [
    {
     "data": {
      "text/plain": [
       "Index(['Unnamed: 0', '결제수단', '공급원가', '교환구분', '네이버 포인트', '배송번호', '배송비 정보',\n",
       "       '배송시작일', '배송완료일', '사용한 적립금액', '상품구매금액', '상품명', '상품번호', '상품별 추가할인금액',\n",
       "       '수령인 주소', '주문경로', '주문번호', '주문일시', '주문자ID', '카드사', '쿠폰 할인금액', '판매가',\n",
       "       '품목번호', '친환경', '사은품', '회원', '주문수량', '총수량', '영업이익'],\n",
       "      dtype='object')"
      ]
     },
     "execution_count": 31,
     "metadata": {},
     "output_type": "execute_result"
    }
   ],
   "source": [
    "df_order.columns"
   ]
  },
  {
   "cell_type": "markdown",
   "metadata": {},
   "source": [
    "# 2, 사업자"
   ]
  },
  {
   "cell_type": "code",
   "execution_count": 32,
   "metadata": {},
   "outputs": [
    {
     "data": {
      "text/plain": [
       "<matplotlib.axes._subplots.AxesSubplot at 0x7fd9da1922d0>"
      ]
     },
     "execution_count": 32,
     "metadata": {},
     "output_type": "execute_result"
    },
    {
     "data": {
      "image/png": "[encoded data removed]",
      "text/plain": [
       "<Figure size 1080x576 with 1 Axes>"
      ]
     },
     "metadata": {
      "needs_background": "light"
     },
     "output_type": "display_data"
    }
   ],
   "source": [
    "df_member[\"사업자구분\"].hist() "
   ]
  },
  {
   "cell_type": "markdown",
   "metadata": {},
   "source": [
    "---> 개인의 분포가 많다 ."
   ]
  },
  {
   "cell_type": "code",
   "execution_count": 33,
   "metadata": {},
   "outputs": [
    {
     "data": {
      "text/plain": [
       "개인     4004\n",
       "사업자    2519\n",
       "Name: 사업자구분, dtype: int64"
      ]
     },
     "execution_count": 33,
     "metadata": {},
     "output_type": "execute_result"
    }
   ],
   "source": [
    "df_member[\"사업자구분\"].value_counts()"
   ]
  },
  {
   "cell_type": "code",
   "execution_count": 34,
   "metadata": {},
   "outputs": [
    {
     "data": {
      "image/png": "[encoded data removed]",
      "text/plain": [
       "<Figure size 1080x576 with 1 Axes>"
      ]
     },
     "metadata": {},
     "output_type": "display_data"
    }
   ],
   "source": [
    "labels=['개인','사업자']\n",
    "ratio=[4004,2519]\n",
    "plt.pie(ratio,labels=labels,shadow=True,startangle=90)\n",
    "plt.show()"
   ]
  },
  {
   "cell_type": "markdown",
   "metadata": {},
   "source": [
    "#### t-test검정"
   ]
  },
  {
   "cell_type": "code",
   "execution_count": 35,
   "metadata": {},
   "outputs": [
    {
     "name": "stdout",
     "output_type": "stream",
     "text": [
      "2-Sample t-test\n",
      "Ttest_indResult(statistic=-26.160581769808154, pvalue=6.3974653659278175e-146)\n",
      "t:-26.161\n",
      "p:0.0\n"
     ]
    }
   ],
   "source": [
    "t_result=stats.ttest_ind(df_result1[\"사업자구분\"]==\"사업자\",df_result1[\"사업자구분\"]==\"개인\")\n",
    "t,p=t_result.statistic.round(3),t_result.pvalue.round(10)\n",
    "print(\"2-Sample t-test\")\n",
    "print(t_result)\n",
    "print(\"t:{}\".format(t))\n",
    "print(\"p:{}\".format(p))"
   ]
  },
  {
   "cell_type": "code",
   "execution_count": 36,
   "metadata": {},
   "outputs": [
    {
     "data": {
      "text/html": [
       "<div>\n",
       "<style scoped>\n",
       "    .dataframe tbody tr th:only-of-type {\n",
       "        vertical-align: middle;\n",
       "    }\n",
       "\n",
       "    .dataframe tbody tr th {\n",
       "        vertical-align: top;\n",
       "    }\n",
       "\n",
       "    .dataframe thead th {\n",
       "        text-align: right;\n",
       "    }\n",
       "</style>\n",
       "<table border=\"1\" class=\"dataframe\">\n",
       "  <thead>\n",
       "    <tr style=\"text-align: right;\">\n",
       "      <th></th>\n",
       "      <th>영업이익</th>\n",
       "      <th>Unnamed: 0</th>\n",
       "      <th>사용가능 적립금</th>\n",
       "    </tr>\n",
       "    <tr>\n",
       "      <th>사업자구분</th>\n",
       "      <th></th>\n",
       "      <th></th>\n",
       "      <th></th>\n",
       "    </tr>\n",
       "  </thead>\n",
       "  <tbody>\n",
       "    <tr>\n",
       "      <th>개인</th>\n",
       "      <td>18856.906148</td>\n",
       "      <td>3349.502741</td>\n",
       "      <td>1287.104482</td>\n",
       "    </tr>\n",
       "    <tr>\n",
       "      <th>사업자</th>\n",
       "      <td>19901.231041</td>\n",
       "      <td>3192.947368</td>\n",
       "      <td>3516.432447</td>\n",
       "    </tr>\n",
       "  </tbody>\n",
       "</table>\n",
       "</div>"
      ],
      "text/plain": [
       "               영업이익   Unnamed: 0     사용가능 적립금\n",
       "사업자구분                                        \n",
       "개인     18856.906148  3349.502741  1287.104482\n",
       "사업자    19901.231041  3192.947368  3516.432447"
      ]
     },
     "execution_count": 36,
     "metadata": {},
     "output_type": "execute_result"
    }
   ],
   "source": [
    "df_result1.groupby('사업자구분').mean()"
   ]
  },
  {
   "cell_type": "code",
   "execution_count": 37,
   "metadata": {},
   "outputs": [
    {
     "data": {
      "text/plain": [
       "<matplotlib.axes._subplots.AxesSubplot at 0x7fd9da0fb450>"
      ]
     },
     "execution_count": 37,
     "metadata": {},
     "output_type": "execute_result"
    },
    {
     "name": "stderr",
     "output_type": "stream",
     "text": [
      "/home/piai/anaconda3/lib/python3.7/site-packages/matplotlib/backends/backend_agg.py:211: RuntimeWarning: Glyph 8722 missing from current font.\n",
      "  font.set_text(s, 0.0, flags=flags)\n",
      "/home/piai/anaconda3/lib/python3.7/site-packages/matplotlib/backends/backend_agg.py:180: RuntimeWarning: Glyph 8722 missing from current font.\n",
      "  font.set_text(s, 0, flags=flags)\n"
     ]
    },
    {
     "data": {
      "image/png": "[encoded data removed]",
      "text/plain": [
       "<Figure size 1080x576 with 1 Axes>"
      ]
     },
     "metadata": {
      "needs_background": "light"
     },
     "output_type": "display_data"
    }
   ],
   "source": [
    "df_result1.boxplot(column='영업이익',by=\"사업자구분\")"
   ]
  },
  {
   "cell_type": "markdown",
   "metadata": {},
   "source": [
    "# 3, 공급사별 영업이익"
   ]
  },
  {
   "cell_type": "code",
   "execution_count": 38,
   "metadata": {},
   "outputs": [
    {
     "data": {
      "text/html": [
       "<div>\n",
       "<style scoped>\n",
       "    .dataframe tbody tr th:only-of-type {\n",
       "        vertical-align: middle;\n",
       "    }\n",
       "\n",
       "    .dataframe tbody tr th {\n",
       "        vertical-align: top;\n",
       "    }\n",
       "\n",
       "    .dataframe thead th {\n",
       "        text-align: right;\n",
       "    }\n",
       "</style>\n",
       "<table border=\"1\" class=\"dataframe\">\n",
       "  <thead>\n",
       "    <tr style=\"text-align: right;\">\n",
       "      <th></th>\n",
       "      <th>Unnamed: 0</th>\n",
       "      <th>Unnamed: 0.1</th>\n",
       "      <th>결제수단</th>\n",
       "      <th>공급원가</th>\n",
       "      <th>교환구분</th>\n",
       "      <th>네이버 포인트</th>\n",
       "      <th>배송번호</th>\n",
       "      <th>배송비 정보</th>\n",
       "      <th>배송시작일</th>\n",
       "      <th>배송완료일</th>\n",
       "      <th>...</th>\n",
       "      <th>쿠폰 할인금액</th>\n",
       "      <th>판매가</th>\n",
       "      <th>품목번호</th>\n",
       "      <th>친환경</th>\n",
       "      <th>사은품</th>\n",
       "      <th>회원</th>\n",
       "      <th>주문수량</th>\n",
       "      <th>총수량</th>\n",
       "      <th>분류카테고리</th>\n",
       "      <th>영업이익</th>\n",
       "    </tr>\n",
       "  </thead>\n",
       "  <tbody>\n",
       "    <tr>\n",
       "      <th>0</th>\n",
       "      <td>0</td>\n",
       "      <td>0</td>\n",
       "      <td>무통장입금</td>\n",
       "      <td>44550.0</td>\n",
       "      <td>교환안함</td>\n",
       "      <td>0</td>\n",
       "      <td>D-20181227-0000648-00</td>\n",
       "      <td>무료</td>\n",
       "      <td>2019-01-07 오전 8:56</td>\n",
       "      <td>2019-01-11 오전 5:32</td>\n",
       "      <td>...</td>\n",
       "      <td>0</td>\n",
       "      <td>71450</td>\n",
       "      <td>42602</td>\n",
       "      <td>False</td>\n",
       "      <td>False</td>\n",
       "      <td>True</td>\n",
       "      <td>1</td>\n",
       "      <td>300</td>\n",
       "      <td>용기</td>\n",
       "      <td>26900.0</td>\n",
       "    </tr>\n",
       "  </tbody>\n",
       "</table>\n",
       "<p>1 rows × 31 columns</p>\n",
       "</div>"
      ],
      "text/plain": [
       "   Unnamed: 0  Unnamed: 0.1   결제수단     공급원가  교환구분  네이버 포인트  \\\n",
       "0           0             0  무통장입금  44550.0  교환안함        0   \n",
       "\n",
       "                    배송번호 배송비 정보               배송시작일               배송완료일  ...  \\\n",
       "0  D-20181227-0000648-00     무료  2019-01-07 오전 8:56  2019-01-11 오전 5:32  ...   \n",
       "\n",
       "   쿠폰 할인금액    판매가   품목번호    친환경    사은품    회원 주문수량  총수량 분류카테고리     영업이익  \n",
       "0        0  71450  42602  False  False  True    1  300     용기  26900.0  \n",
       "\n",
       "[1 rows x 31 columns]"
      ]
     },
     "execution_count": 38,
     "metadata": {},
     "output_type": "execute_result"
    }
   ],
   "source": [
    "df_cat.head(1)"
   ]
  },
  {
   "cell_type": "code",
   "execution_count": 39,
   "metadata": {},
   "outputs": [
    {
     "data": {
      "text/plain": [
       "패커스        923\n",
       "다이찌롱스토어     69\n",
       "(주)니드코      15\n",
       "다인컴즈         9\n",
       "Name: 공급사, dtype: int64"
      ]
     },
     "execution_count": 39,
     "metadata": {},
     "output_type": "execute_result"
    }
   ],
   "source": [
    "df_product[\"공급사\"].value_counts()"
   ]
  },
  {
   "cell_type": "code",
   "execution_count": 40,
   "metadata": {},
   "outputs": [
    {
     "data": {
      "text/plain": [
       "Index(['Unnamed: 0', 'Unnamed: 0.1', '#', '공급사', '과세/면세', '담기', '매입가',\n",
       "       '상품명(기본)', '상품코드', '재입고알림', '카테고리', '판매가', '품절여부', '후기', '분류카테고리'],\n",
       "      dtype='object')"
      ]
     },
     "execution_count": 40,
     "metadata": {},
     "output_type": "execute_result"
    }
   ],
   "source": [
    "df_product.columns"
   ]
  },
  {
   "cell_type": "code",
   "execution_count": 41,
   "metadata": {},
   "outputs": [
    {
     "data": {
      "text/html": [
       "<div>\n",
       "<style scoped>\n",
       "    .dataframe tbody tr th:only-of-type {\n",
       "        vertical-align: middle;\n",
       "    }\n",
       "\n",
       "    .dataframe tbody tr th {\n",
       "        vertical-align: top;\n",
       "    }\n",
       "\n",
       "    .dataframe thead th {\n",
       "        text-align: right;\n",
       "    }\n",
       "</style>\n",
       "<table border=\"1\" class=\"dataframe\">\n",
       "  <thead>\n",
       "    <tr style=\"text-align: right;\">\n",
       "      <th></th>\n",
       "      <th>상품코드</th>\n",
       "      <th>공급사</th>\n",
       "    </tr>\n",
       "  </thead>\n",
       "  <tbody>\n",
       "    <tr>\n",
       "      <th>0</th>\n",
       "      <td>38</td>\n",
       "      <td>패커스</td>\n",
       "    </tr>\n",
       "    <tr>\n",
       "      <th>1</th>\n",
       "      <td>39</td>\n",
       "      <td>패커스</td>\n",
       "    </tr>\n",
       "    <tr>\n",
       "      <th>2</th>\n",
       "      <td>40</td>\n",
       "      <td>패커스</td>\n",
       "    </tr>\n",
       "  </tbody>\n",
       "</table>\n",
       "</div>"
      ],
      "text/plain": [
       "   상품코드  공급사\n",
       "0    38  패커스\n",
       "1    39  패커스\n",
       "2    40  패커스"
      ]
     },
     "execution_count": 41,
     "metadata": {},
     "output_type": "execute_result"
    }
   ],
   "source": [
    "df_new3=pd.pivot_table(data=df_product,index=\"상품코드\",values='공급사',aggfunc='first').reset_index()\n",
    "df_new3.head(3)"
   ]
  },
  {
   "cell_type": "code",
   "execution_count": 42,
   "metadata": {},
   "outputs": [
    {
     "data": {
      "text/html": [
       "<div>\n",
       "<style scoped>\n",
       "    .dataframe tbody tr th:only-of-type {\n",
       "        vertical-align: middle;\n",
       "    }\n",
       "\n",
       "    .dataframe tbody tr th {\n",
       "        vertical-align: top;\n",
       "    }\n",
       "\n",
       "    .dataframe thead th {\n",
       "        text-align: right;\n",
       "    }\n",
       "</style>\n",
       "<table border=\"1\" class=\"dataframe\">\n",
       "  <thead>\n",
       "    <tr style=\"text-align: right;\">\n",
       "      <th></th>\n",
       "      <th>상품번호</th>\n",
       "      <th>공급사</th>\n",
       "    </tr>\n",
       "  </thead>\n",
       "  <tbody>\n",
       "    <tr>\n",
       "      <th>0</th>\n",
       "      <td>38</td>\n",
       "      <td>패커스</td>\n",
       "    </tr>\n",
       "    <tr>\n",
       "      <th>1</th>\n",
       "      <td>39</td>\n",
       "      <td>패커스</td>\n",
       "    </tr>\n",
       "  </tbody>\n",
       "</table>\n",
       "</div>"
      ],
      "text/plain": [
       "   상품번호  공급사\n",
       "0    38  패커스\n",
       "1    39  패커스"
      ]
     },
     "execution_count": 42,
     "metadata": {},
     "output_type": "execute_result"
    }
   ],
   "source": [
    "df_new3=df_new3.rename({'상품코드':'상품번호','분류카테고리':'분류카테고리'},axis='columns')\n",
    "df_new3.head(2)"
   ]
  },
  {
   "cell_type": "code",
   "execution_count": 43,
   "metadata": {},
   "outputs": [
    {
     "data": {
      "text/plain": [
       "numpy.int64"
      ]
     },
     "execution_count": 43,
     "metadata": {},
     "output_type": "execute_result"
    }
   ],
   "source": [
    "type(df_new3[\"상품번호\"][0])"
   ]
  },
  {
   "cell_type": "code",
   "execution_count": 44,
   "metadata": {},
   "outputs": [],
   "source": [
    "type(df_cat[\"상품번호\"][0])\n",
    "\n",
    "df_cat['상품번호'] = df_cat['상품번호'].astype(float)"
   ]
  },
  {
   "cell_type": "code",
   "execution_count": 45,
   "metadata": {},
   "outputs": [
    {
     "data": {
      "text/html": [
       "<div>\n",
       "<style scoped>\n",
       "    .dataframe tbody tr th:only-of-type {\n",
       "        vertical-align: middle;\n",
       "    }\n",
       "\n",
       "    .dataframe tbody tr th {\n",
       "        vertical-align: top;\n",
       "    }\n",
       "\n",
       "    .dataframe thead th {\n",
       "        text-align: right;\n",
       "    }\n",
       "</style>\n",
       "<table border=\"1\" class=\"dataframe\">\n",
       "  <thead>\n",
       "    <tr style=\"text-align: right;\">\n",
       "      <th></th>\n",
       "      <th>상품번호</th>\n",
       "      <th>공급사</th>\n",
       "      <th>Unnamed: 0</th>\n",
       "      <th>Unnamed: 0.1</th>\n",
       "      <th>결제수단</th>\n",
       "      <th>공급원가</th>\n",
       "      <th>교환구분</th>\n",
       "      <th>네이버 포인트</th>\n",
       "      <th>배송번호</th>\n",
       "      <th>배송비 정보</th>\n",
       "      <th>...</th>\n",
       "      <th>쿠폰 할인금액</th>\n",
       "      <th>판매가</th>\n",
       "      <th>품목번호</th>\n",
       "      <th>친환경</th>\n",
       "      <th>사은품</th>\n",
       "      <th>회원</th>\n",
       "      <th>주문수량</th>\n",
       "      <th>총수량</th>\n",
       "      <th>분류카테고리</th>\n",
       "      <th>영업이익</th>\n",
       "    </tr>\n",
       "  </thead>\n",
       "  <tbody>\n",
       "    <tr>\n",
       "      <th>0</th>\n",
       "      <td>38</td>\n",
       "      <td>패커스</td>\n",
       "      <td>47</td>\n",
       "      <td>47</td>\n",
       "      <td>적립금</td>\n",
       "      <td>42900.0</td>\n",
       "      <td>교환안함</td>\n",
       "      <td>55870</td>\n",
       "      <td>D-20190101-0000106-01</td>\n",
       "      <td>무료</td>\n",
       "      <td>...</td>\n",
       "      <td>0</td>\n",
       "      <td>68970</td>\n",
       "      <td>43348</td>\n",
       "      <td>False</td>\n",
       "      <td>False</td>\n",
       "      <td>False</td>\n",
       "      <td>1</td>\n",
       "      <td>3000</td>\n",
       "      <td>용기</td>\n",
       "      <td>84040.0</td>\n",
       "    </tr>\n",
       "    <tr>\n",
       "      <th>1</th>\n",
       "      <td>38</td>\n",
       "      <td>패커스</td>\n",
       "      <td>115</td>\n",
       "      <td>115</td>\n",
       "      <td>무통장입금</td>\n",
       "      <td>42900.0</td>\n",
       "      <td>교환안함</td>\n",
       "      <td>0</td>\n",
       "      <td>D-20190102-0000305-00</td>\n",
       "      <td>무료</td>\n",
       "      <td>...</td>\n",
       "      <td>0</td>\n",
       "      <td>68970</td>\n",
       "      <td>43481</td>\n",
       "      <td>False</td>\n",
       "      <td>False</td>\n",
       "      <td>True</td>\n",
       "      <td>1</td>\n",
       "      <td>3000</td>\n",
       "      <td>용기</td>\n",
       "      <td>18810.0</td>\n",
       "    </tr>\n",
       "    <tr>\n",
       "      <th>2</th>\n",
       "      <td>38</td>\n",
       "      <td>패커스</td>\n",
       "      <td>176</td>\n",
       "      <td>176</td>\n",
       "      <td>무통장입금</td>\n",
       "      <td>42900.0</td>\n",
       "      <td>교환안함</td>\n",
       "      <td>0</td>\n",
       "      <td>D-20190102-0000794-00</td>\n",
       "      <td>무료</td>\n",
       "      <td>...</td>\n",
       "      <td>0</td>\n",
       "      <td>68970</td>\n",
       "      <td>43623</td>\n",
       "      <td>False</td>\n",
       "      <td>False</td>\n",
       "      <td>True</td>\n",
       "      <td>1</td>\n",
       "      <td>3000</td>\n",
       "      <td>용기</td>\n",
       "      <td>41750.0</td>\n",
       "    </tr>\n",
       "    <tr>\n",
       "      <th>3</th>\n",
       "      <td>38</td>\n",
       "      <td>패커스</td>\n",
       "      <td>184</td>\n",
       "      <td>184</td>\n",
       "      <td>무통장입금</td>\n",
       "      <td>42900.0</td>\n",
       "      <td>교환안함</td>\n",
       "      <td>0</td>\n",
       "      <td>D-20190102-0000846-01</td>\n",
       "      <td>무료</td>\n",
       "      <td>...</td>\n",
       "      <td>0</td>\n",
       "      <td>68970</td>\n",
       "      <td>43640</td>\n",
       "      <td>False</td>\n",
       "      <td>False</td>\n",
       "      <td>False</td>\n",
       "      <td>1</td>\n",
       "      <td>3000</td>\n",
       "      <td>용기</td>\n",
       "      <td>8360.0</td>\n",
       "    </tr>\n",
       "    <tr>\n",
       "      <th>4</th>\n",
       "      <td>38</td>\n",
       "      <td>패커스</td>\n",
       "      <td>337</td>\n",
       "      <td>336</td>\n",
       "      <td>카드</td>\n",
       "      <td>42900.0</td>\n",
       "      <td>교환안함</td>\n",
       "      <td>0</td>\n",
       "      <td>D-20190103-0000849-05</td>\n",
       "      <td>무료</td>\n",
       "      <td>...</td>\n",
       "      <td>0</td>\n",
       "      <td>68970</td>\n",
       "      <td>43964</td>\n",
       "      <td>False</td>\n",
       "      <td>False</td>\n",
       "      <td>True</td>\n",
       "      <td>1</td>\n",
       "      <td>3000</td>\n",
       "      <td>용기</td>\n",
       "      <td>28820.0</td>\n",
       "    </tr>\n",
       "  </tbody>\n",
       "</table>\n",
       "<p>5 rows × 32 columns</p>\n",
       "</div>"
      ],
      "text/plain": [
       "   상품번호  공급사  Unnamed: 0  Unnamed: 0.1   결제수단     공급원가  교환구분  네이버 포인트  \\\n",
       "0    38  패커스          47            47    적립금  42900.0  교환안함    55870   \n",
       "1    38  패커스         115           115  무통장입금  42900.0  교환안함        0   \n",
       "2    38  패커스         176           176  무통장입금  42900.0  교환안함        0   \n",
       "3    38  패커스         184           184  무통장입금  42900.0  교환안함        0   \n",
       "4    38  패커스         337           336     카드  42900.0  교환안함        0   \n",
       "\n",
       "                    배송번호 배송비 정보  ... 쿠폰 할인금액    판매가   품목번호    친환경    사은품  \\\n",
       "0  D-20190101-0000106-01     무료  ...       0  68970  43348  False  False   \n",
       "1  D-20190102-0000305-00     무료  ...       0  68970  43481  False  False   \n",
       "2  D-20190102-0000794-00     무료  ...       0  68970  43623  False  False   \n",
       "3  D-20190102-0000846-01     무료  ...       0  68970  43640  False  False   \n",
       "4  D-20190103-0000849-05     무료  ...       0  68970  43964  False  False   \n",
       "\n",
       "      회원 주문수량   총수량 분류카테고리     영업이익  \n",
       "0  False    1  3000     용기  84040.0  \n",
       "1   True    1  3000     용기  18810.0  \n",
       "2   True    1  3000     용기  41750.0  \n",
       "3  False    1  3000     용기   8360.0  \n",
       "4   True    1  3000     용기  28820.0  \n",
       "\n",
       "[5 rows x 32 columns]"
      ]
     },
     "execution_count": 45,
     "metadata": {},
     "output_type": "execute_result"
    }
   ],
   "source": [
    "df_result3=pd.merge(df_new3,df_cat,on='상품번호')\n",
    "df_result3.head(5)"
   ]
  },
  {
   "cell_type": "code",
   "execution_count": 81,
   "metadata": {},
   "outputs": [
    {
     "data": {
      "text/html": [
       "<div>\n",
       "<style scoped>\n",
       "    .dataframe tbody tr th:only-of-type {\n",
       "        vertical-align: middle;\n",
       "    }\n",
       "\n",
       "    .dataframe tbody tr th {\n",
       "        vertical-align: top;\n",
       "    }\n",
       "\n",
       "    .dataframe thead th {\n",
       "        text-align: right;\n",
       "    }\n",
       "</style>\n",
       "<table border=\"1\" class=\"dataframe\">\n",
       "  <thead>\n",
       "    <tr style=\"text-align: right;\">\n",
       "      <th></th>\n",
       "      <th>상품번호</th>\n",
       "      <th>공급사</th>\n",
       "      <th>Unnamed: 0</th>\n",
       "      <th>Unnamed: 0.1</th>\n",
       "      <th>결제수단</th>\n",
       "      <th>공급원가</th>\n",
       "      <th>교환구분</th>\n",
       "      <th>네이버 포인트</th>\n",
       "      <th>배송번호</th>\n",
       "      <th>배송비 정보</th>\n",
       "      <th>...</th>\n",
       "      <th>쿠폰 할인금액</th>\n",
       "      <th>판매가</th>\n",
       "      <th>품목번호</th>\n",
       "      <th>친환경</th>\n",
       "      <th>사은품</th>\n",
       "      <th>회원</th>\n",
       "      <th>주문수량</th>\n",
       "      <th>총수량</th>\n",
       "      <th>분류카테고리</th>\n",
       "      <th>영업이익</th>\n",
       "    </tr>\n",
       "  </thead>\n",
       "  <tbody>\n",
       "    <tr>\n",
       "      <th>0</th>\n",
       "      <td>38</td>\n",
       "      <td>패커스</td>\n",
       "      <td>47</td>\n",
       "      <td>47</td>\n",
       "      <td>적립금</td>\n",
       "      <td>42900.0</td>\n",
       "      <td>교환안함</td>\n",
       "      <td>55870</td>\n",
       "      <td>D-20190101-0000106-01</td>\n",
       "      <td>무료</td>\n",
       "      <td>...</td>\n",
       "      <td>0</td>\n",
       "      <td>68970</td>\n",
       "      <td>43348</td>\n",
       "      <td>False</td>\n",
       "      <td>False</td>\n",
       "      <td>False</td>\n",
       "      <td>1</td>\n",
       "      <td>3000</td>\n",
       "      <td>용기</td>\n",
       "      <td>84040.0</td>\n",
       "    </tr>\n",
       "    <tr>\n",
       "      <th>1</th>\n",
       "      <td>38</td>\n",
       "      <td>패커스</td>\n",
       "      <td>115</td>\n",
       "      <td>115</td>\n",
       "      <td>무통장입금</td>\n",
       "      <td>42900.0</td>\n",
       "      <td>교환안함</td>\n",
       "      <td>0</td>\n",
       "      <td>D-20190102-0000305-00</td>\n",
       "      <td>무료</td>\n",
       "      <td>...</td>\n",
       "      <td>0</td>\n",
       "      <td>68970</td>\n",
       "      <td>43481</td>\n",
       "      <td>False</td>\n",
       "      <td>False</td>\n",
       "      <td>True</td>\n",
       "      <td>1</td>\n",
       "      <td>3000</td>\n",
       "      <td>용기</td>\n",
       "      <td>18810.0</td>\n",
       "    </tr>\n",
       "    <tr>\n",
       "      <th>2</th>\n",
       "      <td>38</td>\n",
       "      <td>패커스</td>\n",
       "      <td>176</td>\n",
       "      <td>176</td>\n",
       "      <td>무통장입금</td>\n",
       "      <td>42900.0</td>\n",
       "      <td>교환안함</td>\n",
       "      <td>0</td>\n",
       "      <td>D-20190102-0000794-00</td>\n",
       "      <td>무료</td>\n",
       "      <td>...</td>\n",
       "      <td>0</td>\n",
       "      <td>68970</td>\n",
       "      <td>43623</td>\n",
       "      <td>False</td>\n",
       "      <td>False</td>\n",
       "      <td>True</td>\n",
       "      <td>1</td>\n",
       "      <td>3000</td>\n",
       "      <td>용기</td>\n",
       "      <td>41750.0</td>\n",
       "    </tr>\n",
       "    <tr>\n",
       "      <th>3</th>\n",
       "      <td>38</td>\n",
       "      <td>패커스</td>\n",
       "      <td>184</td>\n",
       "      <td>184</td>\n",
       "      <td>무통장입금</td>\n",
       "      <td>42900.0</td>\n",
       "      <td>교환안함</td>\n",
       "      <td>0</td>\n",
       "      <td>D-20190102-0000846-01</td>\n",
       "      <td>무료</td>\n",
       "      <td>...</td>\n",
       "      <td>0</td>\n",
       "      <td>68970</td>\n",
       "      <td>43640</td>\n",
       "      <td>False</td>\n",
       "      <td>False</td>\n",
       "      <td>False</td>\n",
       "      <td>1</td>\n",
       "      <td>3000</td>\n",
       "      <td>용기</td>\n",
       "      <td>8360.0</td>\n",
       "    </tr>\n",
       "    <tr>\n",
       "      <th>4</th>\n",
       "      <td>38</td>\n",
       "      <td>패커스</td>\n",
       "      <td>337</td>\n",
       "      <td>336</td>\n",
       "      <td>카드</td>\n",
       "      <td>42900.0</td>\n",
       "      <td>교환안함</td>\n",
       "      <td>0</td>\n",
       "      <td>D-20190103-0000849-05</td>\n",
       "      <td>무료</td>\n",
       "      <td>...</td>\n",
       "      <td>0</td>\n",
       "      <td>68970</td>\n",
       "      <td>43964</td>\n",
       "      <td>False</td>\n",
       "      <td>False</td>\n",
       "      <td>True</td>\n",
       "      <td>1</td>\n",
       "      <td>3000</td>\n",
       "      <td>용기</td>\n",
       "      <td>28820.0</td>\n",
       "    </tr>\n",
       "    <tr>\n",
       "      <th>...</th>\n",
       "      <td>...</td>\n",
       "      <td>...</td>\n",
       "      <td>...</td>\n",
       "      <td>...</td>\n",
       "      <td>...</td>\n",
       "      <td>...</td>\n",
       "      <td>...</td>\n",
       "      <td>...</td>\n",
       "      <td>...</td>\n",
       "      <td>...</td>\n",
       "      <td>...</td>\n",
       "      <td>...</td>\n",
       "      <td>...</td>\n",
       "      <td>...</td>\n",
       "      <td>...</td>\n",
       "      <td>...</td>\n",
       "      <td>...</td>\n",
       "      <td>...</td>\n",
       "      <td>...</td>\n",
       "      <td>...</td>\n",
       "      <td>...</td>\n",
       "    </tr>\n",
       "    <tr>\n",
       "      <th>29454</th>\n",
       "      <td>1606</td>\n",
       "      <td>패커스</td>\n",
       "      <td>16713</td>\n",
       "      <td>16699</td>\n",
       "      <td>카드</td>\n",
       "      <td>24750.0</td>\n",
       "      <td>교환안함</td>\n",
       "      <td>0</td>\n",
       "      <td>D-20190524-0000074-01</td>\n",
       "      <td>무료</td>\n",
       "      <td>...</td>\n",
       "      <td>0</td>\n",
       "      <td>35000</td>\n",
       "      <td>78091</td>\n",
       "      <td>False</td>\n",
       "      <td>False</td>\n",
       "      <td>True</td>\n",
       "      <td>1</td>\n",
       "      <td>1500</td>\n",
       "      <td>기타</td>\n",
       "      <td>31310.0</td>\n",
       "    </tr>\n",
       "    <tr>\n",
       "      <th>29455</th>\n",
       "      <td>1606</td>\n",
       "      <td>패커스</td>\n",
       "      <td>16800</td>\n",
       "      <td>16786</td>\n",
       "      <td>적립금,카드</td>\n",
       "      <td>24750.0</td>\n",
       "      <td>교환안함</td>\n",
       "      <td>0</td>\n",
       "      <td>D-20190525-0000018-01</td>\n",
       "      <td>무료</td>\n",
       "      <td>...</td>\n",
       "      <td>0</td>\n",
       "      <td>35000</td>\n",
       "      <td>78260</td>\n",
       "      <td>False</td>\n",
       "      <td>False</td>\n",
       "      <td>True</td>\n",
       "      <td>1</td>\n",
       "      <td>1500</td>\n",
       "      <td>기타</td>\n",
       "      <td>15110.0</td>\n",
       "    </tr>\n",
       "    <tr>\n",
       "      <th>29456</th>\n",
       "      <td>1606</td>\n",
       "      <td>패커스</td>\n",
       "      <td>17022</td>\n",
       "      <td>17008</td>\n",
       "      <td>카드</td>\n",
       "      <td>24750.0</td>\n",
       "      <td>교환안함</td>\n",
       "      <td>0</td>\n",
       "      <td>D-20190527-0001091-03</td>\n",
       "      <td>무료</td>\n",
       "      <td>...</td>\n",
       "      <td>0</td>\n",
       "      <td>35000</td>\n",
       "      <td>78710</td>\n",
       "      <td>False</td>\n",
       "      <td>False</td>\n",
       "      <td>True</td>\n",
       "      <td>1</td>\n",
       "      <td>1500</td>\n",
       "      <td>기타</td>\n",
       "      <td>16800.0</td>\n",
       "    </tr>\n",
       "    <tr>\n",
       "      <th>29457</th>\n",
       "      <td>1606</td>\n",
       "      <td>패커스</td>\n",
       "      <td>17302</td>\n",
       "      <td>17286</td>\n",
       "      <td>적립금,카드</td>\n",
       "      <td>24750.0</td>\n",
       "      <td>교환안함</td>\n",
       "      <td>0</td>\n",
       "      <td>D-20190529-0000665-00</td>\n",
       "      <td>무료</td>\n",
       "      <td>...</td>\n",
       "      <td>0</td>\n",
       "      <td>35000</td>\n",
       "      <td>79284</td>\n",
       "      <td>False</td>\n",
       "      <td>False</td>\n",
       "      <td>True</td>\n",
       "      <td>1</td>\n",
       "      <td>1500</td>\n",
       "      <td>기타</td>\n",
       "      <td>9710.0</td>\n",
       "    </tr>\n",
       "    <tr>\n",
       "      <th>29458</th>\n",
       "      <td>1625</td>\n",
       "      <td>패커스</td>\n",
       "      <td>17562</td>\n",
       "      <td>17546</td>\n",
       "      <td>무통장입금</td>\n",
       "      <td>33000.0</td>\n",
       "      <td>교환안함</td>\n",
       "      <td>0</td>\n",
       "      <td>D-20190602-0000017-04</td>\n",
       "      <td>무료</td>\n",
       "      <td>...</td>\n",
       "      <td>0</td>\n",
       "      <td>45000</td>\n",
       "      <td>79817</td>\n",
       "      <td>False</td>\n",
       "      <td>False</td>\n",
       "      <td>True</td>\n",
       "      <td>2</td>\n",
       "      <td>400</td>\n",
       "      <td>용기</td>\n",
       "      <td>22220.0</td>\n",
       "    </tr>\n",
       "  </tbody>\n",
       "</table>\n",
       "<p>29284 rows × 32 columns</p>\n",
       "</div>"
      ],
      "text/plain": [
       "       상품번호  공급사  Unnamed: 0  Unnamed: 0.1    결제수단     공급원가  교환구분  네이버 포인트  \\\n",
       "0        38  패커스          47            47     적립금  42900.0  교환안함    55870   \n",
       "1        38  패커스         115           115   무통장입금  42900.0  교환안함        0   \n",
       "2        38  패커스         176           176   무통장입금  42900.0  교환안함        0   \n",
       "3        38  패커스         184           184   무통장입금  42900.0  교환안함        0   \n",
       "4        38  패커스         337           336      카드  42900.0  교환안함        0   \n",
       "...     ...  ...         ...           ...     ...      ...   ...      ...   \n",
       "29454  1606  패커스       16713         16699      카드  24750.0  교환안함        0   \n",
       "29455  1606  패커스       16800         16786  적립금,카드  24750.0  교환안함        0   \n",
       "29456  1606  패커스       17022         17008      카드  24750.0  교환안함        0   \n",
       "29457  1606  패커스       17302         17286  적립금,카드  24750.0  교환안함        0   \n",
       "29458  1625  패커스       17562         17546   무통장입금  33000.0  교환안함        0   \n",
       "\n",
       "                        배송번호 배송비 정보  ... 쿠폰 할인금액    판매가   품목번호    친환경    사은품  \\\n",
       "0      D-20190101-0000106-01     무료  ...       0  68970  43348  False  False   \n",
       "1      D-20190102-0000305-00     무료  ...       0  68970  43481  False  False   \n",
       "2      D-20190102-0000794-00     무료  ...       0  68970  43623  False  False   \n",
       "3      D-20190102-0000846-01     무료  ...       0  68970  43640  False  False   \n",
       "4      D-20190103-0000849-05     무료  ...       0  68970  43964  False  False   \n",
       "...                      ...    ...  ...     ...    ...    ...    ...    ...   \n",
       "29454  D-20190524-0000074-01     무료  ...       0  35000  78091  False  False   \n",
       "29455  D-20190525-0000018-01     무료  ...       0  35000  78260  False  False   \n",
       "29456  D-20190527-0001091-03     무료  ...       0  35000  78710  False  False   \n",
       "29457  D-20190529-0000665-00     무료  ...       0  35000  79284  False  False   \n",
       "29458  D-20190602-0000017-04     무료  ...       0  45000  79817  False  False   \n",
       "\n",
       "          회원 주문수량   총수량 분류카테고리     영업이익  \n",
       "0      False    1  3000     용기  84040.0  \n",
       "1       True    1  3000     용기  18810.0  \n",
       "2       True    1  3000     용기  41750.0  \n",
       "3      False    1  3000     용기   8360.0  \n",
       "4       True    1  3000     용기  28820.0  \n",
       "...      ...  ...   ...    ...      ...  \n",
       "29454   True    1  1500     기타  31310.0  \n",
       "29455   True    1  1500     기타  15110.0  \n",
       "29456   True    1  1500     기타  16800.0  \n",
       "29457   True    1  1500     기타   9710.0  \n",
       "29458   True    2   400     용기  22220.0  \n",
       "\n",
       "[29284 rows x 32 columns]"
      ]
     },
     "execution_count": 81,
     "metadata": {},
     "output_type": "execute_result"
    }
   ],
   "source": [
    "df_패커스 = df_result3[df_result3[\"공급사\"] == \"패커스\"]\n",
    "\n",
    "df_패커스"
   ]
  },
  {
   "cell_type": "code",
   "execution_count": 82,
   "metadata": {},
   "outputs": [],
   "source": [
    "df_다이찌롱스토어 = df_result3[df_result3[\"공급사\"] != \"패커스\"]"
   ]
  },
  {
   "cell_type": "code",
   "execution_count": 84,
   "metadata": {},
   "outputs": [],
   "source": [
    "다이찌롱_영업이익 = df_다이찌롱스토어[\"영업이익\"].sum()\n",
    "패커스_영업이익 = df_패커스[\"영업이익\"].sum()\n",
    "\n",
    "총영업이익 = 다이찌롱_영업이익 + 패커스_영업이익"
   ]
  },
  {
   "cell_type": "code",
   "execution_count": 87,
   "metadata": {},
   "outputs": [
    {
     "name": "stdout",
     "output_type": "stream",
     "text": [
      "638034770.0\n",
      "634685990.0\n",
      "3348780.0\n"
     ]
    }
   ],
   "source": [
    "print(총영업이익)\n",
    "\n",
    "print(패커스_영업이익)\n",
    "\n",
    "print(다이찌롱_영업이익)"
   ]
  },
  {
   "cell_type": "code",
   "execution_count": 96,
   "metadata": {},
   "outputs": [
    {
     "data": {
      "text/plain": [
       "<BarContainer object of 2 artists>"
      ]
     },
     "execution_count": 96,
     "metadata": {},
     "output_type": "execute_result"
    },
    {
     "data": {
      "image/png": "[encoded data removed]",
      "text/plain": [
       "<Figure size 1080x576 with 1 Axes>"
      ]
     },
     "metadata": {
      "needs_background": "light"
     },
     "output_type": "display_data"
    }
   ],
   "source": [
    "패커스_len = len(df_패커스)\n",
    "다이찌롱_len = len(df_다이찌롱스토어)\n",
    "\n",
    "패커스_numer = 패커스_영업이익/패커스_len\n",
    "다이찌롱_numer = 다이찌롱_영업이익/다이찌롱_len\n",
    "영업이익_denom = 패커스_영업이익/패커스_len + 다이찌롱_영업이익/다이찌롱_len\n",
    "\n",
    "\n",
    "공급사_list = [\"패커스\", \"다이찌롱 스토어\"]\n",
    "영업이익_list = [패커스_numer, 다이찌롱_numer]\n",
    "\n",
    "\n",
    "plt.bar(공급사_list, 영업이익_list)"
   ]
  },
  {
   "cell_type": "code",
   "execution_count": 97,
   "metadata": {},
   "outputs": [
    {
     "data": {
      "image/png": "[encoded data removed]",
      "text/plain": [
       "<Figure size 1080x576 with 1 Axes>"
      ]
     },
     "metadata": {},
     "output_type": "display_data"
    }
   ],
   "source": [
    "labels=['패커스','다이찌롱 스토어']\n",
    "ratio=[패커스_numer/영업이익_denom, 다이찌롱_numer/영업이익_denom]\n",
    "plt.pie(ratio,\n",
    "        labels=labels,\n",
    "        autopct='%1.2f%%',\n",
    "        startangle=90,\n",
    "       textprops={'fontsize':14})\n",
    "plt.show()"
   ]
  },
  {
   "cell_type": "code",
   "execution_count": null,
   "metadata": {},
   "outputs": [],
   "source": []
  },
  {
   "cell_type": "code",
   "execution_count": 46,
   "metadata": {},
   "outputs": [
    {
     "data": {
      "text/plain": [
       "Index(['상품번호', '공급사', 'Unnamed: 0', 'Unnamed: 0.1', '결제수단', '공급원가', '교환구분',\n",
       "       '네이버 포인트', '배송번호', '배송비 정보', '배송시작일', '배송완료일', '사용한 적립금액', '상품구매금액',\n",
       "       '상품명', '상품별 추가할인금액', '수령인 주소', '주문경로', '주문번호', '주문일시', '주문자ID', '카드사',\n",
       "       '쿠폰 할인금액', '판매가', '품목번호', '친환경', '사은품', '회원', '주문수량', '총수량', '분류카테고리',\n",
       "       '영업이익'],\n",
       "      dtype='object')"
      ]
     },
     "execution_count": 46,
     "metadata": {},
     "output_type": "execute_result"
    }
   ],
   "source": [
    "df_result3.columns"
   ]
  },
  {
   "cell_type": "code",
   "execution_count": 65,
   "metadata": {},
   "outputs": [
    {
     "data": {
      "text/html": [
       "<div>\n",
       "<style scoped>\n",
       "    .dataframe tbody tr th:only-of-type {\n",
       "        vertical-align: middle;\n",
       "    }\n",
       "\n",
       "    .dataframe tbody tr th {\n",
       "        vertical-align: top;\n",
       "    }\n",
       "\n",
       "    .dataframe thead th {\n",
       "        text-align: right;\n",
       "    }\n",
       "</style>\n",
       "<table border=\"1\" class=\"dataframe\">\n",
       "  <thead>\n",
       "    <tr style=\"text-align: right;\">\n",
       "      <th></th>\n",
       "      <th>상품번호</th>\n",
       "      <th>Unnamed: 0</th>\n",
       "      <th>Unnamed: 0.1</th>\n",
       "      <th>공급원가</th>\n",
       "      <th>네이버 포인트</th>\n",
       "      <th>사용한 적립금액</th>\n",
       "      <th>상품구매금액</th>\n",
       "      <th>상품별 추가할인금액</th>\n",
       "      <th>쿠폰 할인금액</th>\n",
       "      <th>판매가</th>\n",
       "      <th>품목번호</th>\n",
       "      <th>친환경</th>\n",
       "      <th>사은품</th>\n",
       "      <th>회원</th>\n",
       "      <th>주문수량</th>\n",
       "      <th>총수량</th>\n",
       "    </tr>\n",
       "    <tr>\n",
       "      <th>영업이익</th>\n",
       "      <th></th>\n",
       "      <th></th>\n",
       "      <th></th>\n",
       "      <th></th>\n",
       "      <th></th>\n",
       "      <th></th>\n",
       "      <th></th>\n",
       "      <th></th>\n",
       "      <th></th>\n",
       "      <th></th>\n",
       "      <th></th>\n",
       "      <th></th>\n",
       "      <th></th>\n",
       "      <th></th>\n",
       "      <th></th>\n",
       "      <th></th>\n",
       "    </tr>\n",
       "  </thead>\n",
       "  <tbody>\n",
       "    <tr>\n",
       "      <th>-477630.0</th>\n",
       "      <td>1077</td>\n",
       "      <td>36001</td>\n",
       "      <td>35965</td>\n",
       "      <td>44550.0</td>\n",
       "      <td>0</td>\n",
       "      <td>0</td>\n",
       "      <td>71450</td>\n",
       "      <td>13600</td>\n",
       "      <td>0</td>\n",
       "      <td>71450</td>\n",
       "      <td>30202</td>\n",
       "      <td>0.0</td>\n",
       "      <td>0.0</td>\n",
       "      <td>1.0</td>\n",
       "      <td>1</td>\n",
       "      <td>300</td>\n",
       "    </tr>\n",
       "    <tr>\n",
       "      <th>-360140.0</th>\n",
       "      <td>1270</td>\n",
       "      <td>36571</td>\n",
       "      <td>36534</td>\n",
       "      <td>8140.0</td>\n",
       "      <td>0</td>\n",
       "      <td>0</td>\n",
       "      <td>16150</td>\n",
       "      <td>3400</td>\n",
       "      <td>0</td>\n",
       "      <td>16150</td>\n",
       "      <td>31029</td>\n",
       "      <td>0.0</td>\n",
       "      <td>0.0</td>\n",
       "      <td>1.0</td>\n",
       "      <td>1</td>\n",
       "      <td>200</td>\n",
       "    </tr>\n",
       "    <tr>\n",
       "      <th>-311000.0</th>\n",
       "      <td>1091</td>\n",
       "      <td>36108</td>\n",
       "      <td>36071</td>\n",
       "      <td>42900.0</td>\n",
       "      <td>0</td>\n",
       "      <td>0</td>\n",
       "      <td>68970</td>\n",
       "      <td>13100</td>\n",
       "      <td>0</td>\n",
       "      <td>68970</td>\n",
       "      <td>30358</td>\n",
       "      <td>0.0</td>\n",
       "      <td>0.0</td>\n",
       "      <td>1.0</td>\n",
       "      <td>1</td>\n",
       "      <td>3000</td>\n",
       "    </tr>\n",
       "    <tr>\n",
       "      <th>-260500.0</th>\n",
       "      <td>1055</td>\n",
       "      <td>8110</td>\n",
       "      <td>8104</td>\n",
       "      <td>66000.0</td>\n",
       "      <td>0</td>\n",
       "      <td>0</td>\n",
       "      <td>83110</td>\n",
       "      <td>0</td>\n",
       "      <td>0</td>\n",
       "      <td>83110</td>\n",
       "      <td>60552</td>\n",
       "      <td>0.0</td>\n",
       "      <td>0.0</td>\n",
       "      <td>1.0</td>\n",
       "      <td>1</td>\n",
       "      <td>300</td>\n",
       "    </tr>\n",
       "    <tr>\n",
       "      <th>-235790.0</th>\n",
       "      <td>1268</td>\n",
       "      <td>35189</td>\n",
       "      <td>35153</td>\n",
       "      <td>5500.0</td>\n",
       "      <td>0</td>\n",
       "      <td>0</td>\n",
       "      <td>11660</td>\n",
       "      <td>2300</td>\n",
       "      <td>0</td>\n",
       "      <td>11660</td>\n",
       "      <td>28993</td>\n",
       "      <td>0.0</td>\n",
       "      <td>0.0</td>\n",
       "      <td>1.0</td>\n",
       "      <td>1</td>\n",
       "      <td>200</td>\n",
       "    </tr>\n",
       "    <tr>\n",
       "      <th>...</th>\n",
       "      <td>...</td>\n",
       "      <td>...</td>\n",
       "      <td>...</td>\n",
       "      <td>...</td>\n",
       "      <td>...</td>\n",
       "      <td>...</td>\n",
       "      <td>...</td>\n",
       "      <td>...</td>\n",
       "      <td>...</td>\n",
       "      <td>...</td>\n",
       "      <td>...</td>\n",
       "      <td>...</td>\n",
       "      <td>...</td>\n",
       "      <td>...</td>\n",
       "      <td>...</td>\n",
       "      <td>...</td>\n",
       "    </tr>\n",
       "    <tr>\n",
       "      <th>468000.0</th>\n",
       "      <td>1180</td>\n",
       "      <td>28986</td>\n",
       "      <td>28958</td>\n",
       "      <td>50600.0</td>\n",
       "      <td>0</td>\n",
       "      <td>0</td>\n",
       "      <td>84600</td>\n",
       "      <td>23000</td>\n",
       "      <td>0</td>\n",
       "      <td>84600</td>\n",
       "      <td>20091</td>\n",
       "      <td>0.0</td>\n",
       "      <td>0.0</td>\n",
       "      <td>1.0</td>\n",
       "      <td>1</td>\n",
       "      <td>400</td>\n",
       "    </tr>\n",
       "    <tr>\n",
       "      <th>472500.0</th>\n",
       "      <td>437</td>\n",
       "      <td>1847</td>\n",
       "      <td>1846</td>\n",
       "      <td>47300.0</td>\n",
       "      <td>0</td>\n",
       "      <td>0</td>\n",
       "      <td>75570</td>\n",
       "      <td>15900</td>\n",
       "      <td>0</td>\n",
       "      <td>75570</td>\n",
       "      <td>47259</td>\n",
       "      <td>0.0</td>\n",
       "      <td>0.0</td>\n",
       "      <td>1.0</td>\n",
       "      <td>1</td>\n",
       "      <td>1000</td>\n",
       "    </tr>\n",
       "    <tr>\n",
       "      <th>591600.0</th>\n",
       "      <td>397</td>\n",
       "      <td>46307</td>\n",
       "      <td>46264</td>\n",
       "      <td>49500.0</td>\n",
       "      <td>0</td>\n",
       "      <td>28610</td>\n",
       "      <td>87200</td>\n",
       "      <td>10460</td>\n",
       "      <td>0</td>\n",
       "      <td>87200</td>\n",
       "      <td>2170</td>\n",
       "      <td>0.0</td>\n",
       "      <td>0.0</td>\n",
       "      <td>1.0</td>\n",
       "      <td>1</td>\n",
       "      <td>1000</td>\n",
       "    </tr>\n",
       "    <tr>\n",
       "      <th>602250.0</th>\n",
       "      <td>608</td>\n",
       "      <td>3138</td>\n",
       "      <td>3136</td>\n",
       "      <td>47850.0</td>\n",
       "      <td>0</td>\n",
       "      <td>0</td>\n",
       "      <td>76400</td>\n",
       "      <td>14500</td>\n",
       "      <td>0</td>\n",
       "      <td>76400</td>\n",
       "      <td>50141</td>\n",
       "      <td>0.0</td>\n",
       "      <td>0.0</td>\n",
       "      <td>1.0</td>\n",
       "      <td>1</td>\n",
       "      <td>300</td>\n",
       "    </tr>\n",
       "    <tr>\n",
       "      <th>1041900.0</th>\n",
       "      <td>608</td>\n",
       "      <td>37343</td>\n",
       "      <td>37305</td>\n",
       "      <td>47850.0</td>\n",
       "      <td>0</td>\n",
       "      <td>0</td>\n",
       "      <td>76400</td>\n",
       "      <td>14500</td>\n",
       "      <td>0</td>\n",
       "      <td>76400</td>\n",
       "      <td>32115</td>\n",
       "      <td>0.0</td>\n",
       "      <td>0.0</td>\n",
       "      <td>1.0</td>\n",
       "      <td>1</td>\n",
       "      <td>300</td>\n",
       "    </tr>\n",
       "  </tbody>\n",
       "</table>\n",
       "<p>1382 rows × 16 columns</p>\n",
       "</div>"
      ],
      "text/plain": [
       "            상품번호  Unnamed: 0  Unnamed: 0.1     공급원가  네이버 포인트  사용한 적립금액  \\\n",
       "영업이익                                                                     \n",
       "-477630.0   1077       36001         35965  44550.0        0         0   \n",
       "-360140.0   1270       36571         36534   8140.0        0         0   \n",
       "-311000.0   1091       36108         36071  42900.0        0         0   \n",
       "-260500.0   1055        8110          8104  66000.0        0         0   \n",
       "-235790.0   1268       35189         35153   5500.0        0         0   \n",
       "...          ...         ...           ...      ...      ...       ...   \n",
       " 468000.0   1180       28986         28958  50600.0        0         0   \n",
       " 472500.0    437        1847          1846  47300.0        0         0   \n",
       " 591600.0    397       46307         46264  49500.0        0     28610   \n",
       " 602250.0    608        3138          3136  47850.0        0         0   \n",
       " 1041900.0   608       37343         37305  47850.0        0         0   \n",
       "\n",
       "            상품구매금액  상품별 추가할인금액  쿠폰 할인금액    판매가   품목번호  친환경  사은품   회원  주문수량  \\\n",
       "영업이익                                                                         \n",
       "-477630.0    71450       13600        0  71450  30202  0.0  0.0  1.0     1   \n",
       "-360140.0    16150        3400        0  16150  31029  0.0  0.0  1.0     1   \n",
       "-311000.0    68970       13100        0  68970  30358  0.0  0.0  1.0     1   \n",
       "-260500.0    83110           0        0  83110  60552  0.0  0.0  1.0     1   \n",
       "-235790.0    11660        2300        0  11660  28993  0.0  0.0  1.0     1   \n",
       "...            ...         ...      ...    ...    ...  ...  ...  ...   ...   \n",
       " 468000.0    84600       23000        0  84600  20091  0.0  0.0  1.0     1   \n",
       " 472500.0    75570       15900        0  75570  47259  0.0  0.0  1.0     1   \n",
       " 591600.0    87200       10460        0  87200   2170  0.0  0.0  1.0     1   \n",
       " 602250.0    76400       14500        0  76400  50141  0.0  0.0  1.0     1   \n",
       " 1041900.0   76400       14500        0  76400  32115  0.0  0.0  1.0     1   \n",
       "\n",
       "             총수량  \n",
       "영업이익              \n",
       "-477630.0    300  \n",
       "-360140.0    200  \n",
       "-311000.0   3000  \n",
       "-260500.0    300  \n",
       "-235790.0    200  \n",
       "...          ...  \n",
       " 468000.0    400  \n",
       " 472500.0   1000  \n",
       " 591600.0   1000  \n",
       " 602250.0    300  \n",
       " 1041900.0   300  \n",
       "\n",
       "[1382 rows x 16 columns]"
      ]
     },
     "execution_count": 65,
     "metadata": {},
     "output_type": "execute_result"
    }
   ],
   "source": [
    "df_result3.groupby(df_result3['영업이익']).sum()"
   ]
  },
  {
   "cell_type": "markdown",
   "metadata": {},
   "source": [
    "# 4, 나이별 선호하는 카테고리"
   ]
  },
  {
   "cell_type": "code",
   "execution_count": 49,
   "metadata": {},
   "outputs": [],
   "source": [
    "df_cat.columns\n",
    "df_cat[\"영업이익\"]=df_order[\"상품구매금액\"]-df_order[\"공급원가\"]*df_order[\"주문수량\"]"
   ]
  },
  {
   "cell_type": "code",
   "execution_count": 50,
   "metadata": {},
   "outputs": [
    {
     "data": {
      "text/html": [
       "<div>\n",
       "<style scoped>\n",
       "    .dataframe tbody tr th:only-of-type {\n",
       "        vertical-align: middle;\n",
       "    }\n",
       "\n",
       "    .dataframe tbody tr th {\n",
       "        vertical-align: top;\n",
       "    }\n",
       "\n",
       "    .dataframe thead th {\n",
       "        text-align: right;\n",
       "    }\n",
       "</style>\n",
       "<table border=\"1\" class=\"dataframe\">\n",
       "  <thead>\n",
       "    <tr style=\"text-align: right;\">\n",
       "      <th></th>\n",
       "      <th>주문자ID</th>\n",
       "      <th>분류카테고리</th>\n",
       "    </tr>\n",
       "  </thead>\n",
       "  <tbody>\n",
       "    <tr>\n",
       "      <th>0</th>\n",
       "      <td>100304734@n</td>\n",
       "      <td>용기</td>\n",
       "    </tr>\n",
       "    <tr>\n",
       "      <th>1</th>\n",
       "      <td>1003409866@k</td>\n",
       "      <td>용기</td>\n",
       "    </tr>\n",
       "    <tr>\n",
       "      <th>2</th>\n",
       "      <td>100381931@n</td>\n",
       "      <td>기타</td>\n",
       "    </tr>\n",
       "  </tbody>\n",
       "</table>\n",
       "</div>"
      ],
      "text/plain": [
       "          주문자ID 분류카테고리\n",
       "0   100304734@n     용기\n",
       "1  1003409866@k     용기\n",
       "2   100381931@n     기타"
      ]
     },
     "execution_count": 50,
     "metadata": {},
     "output_type": "execute_result"
    }
   ],
   "source": [
    "df_new4=pd.pivot_table(data=df_cat,index=\"주문자ID\",values='분류카테고리',aggfunc='first').reset_index()\n",
    "df_new4.head(3)"
   ]
  },
  {
   "cell_type": "code",
   "execution_count": 51,
   "metadata": {},
   "outputs": [],
   "source": [
    "df_new4=df_new4.rename({'주문자ID':'ID','영업이익':'영업이익'},axis='columns')"
   ]
  },
  {
   "cell_type": "code",
   "execution_count": 52,
   "metadata": {},
   "outputs": [
    {
     "data": {
      "text/html": [
       "<div>\n",
       "<style scoped>\n",
       "    .dataframe tbody tr th:only-of-type {\n",
       "        vertical-align: middle;\n",
       "    }\n",
       "\n",
       "    .dataframe tbody tr th {\n",
       "        vertical-align: top;\n",
       "    }\n",
       "\n",
       "    .dataframe thead th {\n",
       "        text-align: right;\n",
       "    }\n",
       "</style>\n",
       "<table border=\"1\" class=\"dataframe\">\n",
       "  <thead>\n",
       "    <tr style=\"text-align: right;\">\n",
       "      <th></th>\n",
       "      <th>ID</th>\n",
       "      <th>분류카테고리</th>\n",
       "      <th>Unnamed: 0</th>\n",
       "      <th>나이</th>\n",
       "      <th>사용가능 적립금</th>\n",
       "      <th>성별</th>\n",
       "      <th>주소(동/읍/면)</th>\n",
       "      <th>최종접속일</th>\n",
       "      <th>최종주문일</th>\n",
       "      <th>유입경로</th>\n",
       "      <th>유입기기</th>\n",
       "      <th>회원 가입일</th>\n",
       "      <th>사업자구분</th>\n",
       "      <th>회원구분</th>\n",
       "    </tr>\n",
       "  </thead>\n",
       "  <tbody>\n",
       "    <tr>\n",
       "      <th>0</th>\n",
       "      <td>100304734@n</td>\n",
       "      <td>용기</td>\n",
       "      <td>6308</td>\n",
       "      <td>40대</td>\n",
       "      <td>100</td>\n",
       "      <td>남자</td>\n",
       "      <td>주소없음</td>\n",
       "      <td>2019-05-09 오후 2:09</td>\n",
       "      <td>2019-05-09 오후 2:12</td>\n",
       "      <td>SNS광고</td>\n",
       "      <td>모바일</td>\n",
       "      <td>2019-05-09</td>\n",
       "      <td>개인</td>\n",
       "      <td>일반</td>\n",
       "    </tr>\n",
       "    <tr>\n",
       "      <th>1</th>\n",
       "      <td>1003409866@k</td>\n",
       "      <td>용기</td>\n",
       "      <td>4442</td>\n",
       "      <td>20대</td>\n",
       "      <td>55900</td>\n",
       "      <td>남자</td>\n",
       "      <td>서울특별시 강남구 광평로51길 27 (수서동)</td>\n",
       "      <td>2019-05-28 오후 4:40</td>\n",
       "      <td>2019-05-28 오후 4:41</td>\n",
       "      <td>카카오톡광고</td>\n",
       "      <td>모바일</td>\n",
       "      <td>2019-01-07</td>\n",
       "      <td>개인</td>\n",
       "      <td>일반</td>\n",
       "    </tr>\n",
       "    <tr>\n",
       "      <th>2</th>\n",
       "      <td>100381931@n</td>\n",
       "      <td>기타</td>\n",
       "      <td>3587</td>\n",
       "      <td>40대</td>\n",
       "      <td>1000</td>\n",
       "      <td>남자</td>\n",
       "      <td>대구광역시 남구 대봉로 183 (이천동)</td>\n",
       "      <td>2019-02-10 오후 9:37</td>\n",
       "      <td>2019-02-10 오후 9:46</td>\n",
       "      <td>SNS광고</td>\n",
       "      <td>모바일</td>\n",
       "      <td>2018-10-31</td>\n",
       "      <td>개인</td>\n",
       "      <td>일반</td>\n",
       "    </tr>\n",
       "    <tr>\n",
       "      <th>3</th>\n",
       "      <td>1004498382@k</td>\n",
       "      <td>용기</td>\n",
       "      <td>4492</td>\n",
       "      <td>40대</td>\n",
       "      <td>1300</td>\n",
       "      <td>남자</td>\n",
       "      <td>경기도 부천시 부천로476번길 46 (오정동)</td>\n",
       "      <td>2019-01-09 오후 12:30</td>\n",
       "      <td>2019-01-09 오후 12:49</td>\n",
       "      <td>SNS광고</td>\n",
       "      <td>모바일</td>\n",
       "      <td>2019-01-09</td>\n",
       "      <td>개인</td>\n",
       "      <td>일반</td>\n",
       "    </tr>\n",
       "    <tr>\n",
       "      <th>4</th>\n",
       "      <td>1004547839@k</td>\n",
       "      <td>용기</td>\n",
       "      <td>4493</td>\n",
       "      <td>40대</td>\n",
       "      <td>2400</td>\n",
       "      <td>남자</td>\n",
       "      <td>전라남도 나주시 그린로 317-7 (빛가람동)</td>\n",
       "      <td>2019-02-14 오후 2:08</td>\n",
       "      <td>2019-01-09 오후 1:48</td>\n",
       "      <td>블로그광고</td>\n",
       "      <td>PC</td>\n",
       "      <td>2019-01-09</td>\n",
       "      <td>개인</td>\n",
       "      <td>일반</td>\n",
       "    </tr>\n",
       "  </tbody>\n",
       "</table>\n",
       "</div>"
      ],
      "text/plain": [
       "             ID 분류카테고리  Unnamed: 0   나이  사용가능 적립금  성별  \\\n",
       "0   100304734@n     용기        6308  40대       100  남자   \n",
       "1  1003409866@k     용기        4442  20대     55900  남자   \n",
       "2   100381931@n     기타        3587  40대      1000  남자   \n",
       "3  1004498382@k     용기        4492  40대      1300  남자   \n",
       "4  1004547839@k     용기        4493  40대      2400  남자   \n",
       "\n",
       "                   주소(동/읍/면)                최종접속일                최종주문일  \\\n",
       "0                       주소없음   2019-05-09 오후 2:09   2019-05-09 오후 2:12   \n",
       "1  서울특별시 강남구 광평로51길 27 (수서동)   2019-05-28 오후 4:40   2019-05-28 오후 4:41   \n",
       "2     대구광역시 남구 대봉로 183 (이천동)   2019-02-10 오후 9:37   2019-02-10 오후 9:46   \n",
       "3  경기도 부천시 부천로476번길 46 (오정동)  2019-01-09 오후 12:30  2019-01-09 오후 12:49   \n",
       "4  전라남도 나주시 그린로 317-7 (빛가람동)   2019-02-14 오후 2:08   2019-01-09 오후 1:48   \n",
       "\n",
       "     유입경로 유입기기      회원 가입일 사업자구분 회원구분  \n",
       "0   SNS광고  모바일  2019-05-09    개인   일반  \n",
       "1  카카오톡광고  모바일  2019-01-07    개인   일반  \n",
       "2   SNS광고  모바일  2018-10-31    개인   일반  \n",
       "3   SNS광고  모바일  2019-01-09    개인   일반  \n",
       "4   블로그광고   PC  2019-01-09    개인   일반  "
      ]
     },
     "execution_count": 52,
     "metadata": {},
     "output_type": "execute_result"
    }
   ],
   "source": [
    "df_result4=pd.merge(df_new4,df_member,on='ID')\n",
    "df_result4.head(5)"
   ]
  },
  {
   "cell_type": "code",
   "execution_count": 53,
   "metadata": {},
   "outputs": [],
   "source": [
    "df1_age_20=df_result4.groupby('나이').get_group('20대')\n",
    "df1_age_30=df_result4.groupby('나이').get_group('30대')\n",
    "df1_age_40=df_result4.groupby('나이').get_group('40대')\n",
    "df1_age_50=df_result4.groupby('나이').get_group('50대')\n",
    "df1_age_60=df_result4.groupby('나이').get_group('60대')\n",
    "df1_age_70=df_result4.groupby('나이').get_group('70대')\n",
    "df1_age_80=df_result4.groupby('나이').get_group('80대')"
   ]
  },
  {
   "cell_type": "code",
   "execution_count": 54,
   "metadata": {},
   "outputs": [
    {
     "data": {
      "text/plain": [
       "<matplotlib.axes._subplots.AxesSubplot at 0x7fd9da033350>"
      ]
     },
     "execution_count": 54,
     "metadata": {},
     "output_type": "execute_result"
    },
    {
     "data": {
      "image/png": "[encoded data removed]",
      "text/plain": [
       "<Figure size 1080x576 with 1 Axes>"
      ]
     },
     "metadata": {
      "needs_background": "light"
     },
     "output_type": "display_data"
    }
   ],
   "source": [
    "df1_age_20[\"분류카테고리\"].hist() "
   ]
  },
  {
   "cell_type": "code",
   "execution_count": 55,
   "metadata": {},
   "outputs": [
    {
     "data": {
      "text/plain": [
       "<matplotlib.axes._subplots.AxesSubplot at 0x7fd9da004e50>"
      ]
     },
     "execution_count": 55,
     "metadata": {},
     "output_type": "execute_result"
    },
    {
     "data": {
      "image/png": "[encoded data removed]",
      "text/plain": [
       "<Figure size 1080x576 with 1 Axes>"
      ]
     },
     "metadata": {
      "needs_background": "light"
     },
     "output_type": "display_data"
    }
   ],
   "source": [
    "df1_age_30[\"분류카테고리\"].hist() "
   ]
  },
  {
   "cell_type": "code",
   "execution_count": 56,
   "metadata": {},
   "outputs": [
    {
     "data": {
      "text/plain": [
       "<matplotlib.axes._subplots.AxesSubplot at 0x7fd9d9fc1e50>"
      ]
     },
     "execution_count": 56,
     "metadata": {},
     "output_type": "execute_result"
    },
    {
     "data": {
      "image/png": "[encoded data removed]",
      "text/plain": [
       "<Figure size 1080x576 with 1 Axes>"
      ]
     },
     "metadata": {
      "needs_background": "light"
     },
     "output_type": "display_data"
    }
   ],
   "source": [
    "df1_age_40[\"분류카테고리\"].hist() "
   ]
  },
  {
   "cell_type": "code",
   "execution_count": 57,
   "metadata": {},
   "outputs": [
    {
     "data": {
      "text/plain": [
       "<matplotlib.axes._subplots.AxesSubplot at 0x7fd9d9f75750>"
      ]
     },
     "execution_count": 57,
     "metadata": {},
     "output_type": "execute_result"
    },
    {
     "data": {
      "image/png": "[encoded data removed]",
      "text/plain": [
       "<Figure size 1080x576 with 1 Axes>"
      ]
     },
     "metadata": {
      "needs_background": "light"
     },
     "output_type": "display_data"
    }
   ],
   "source": [
    "df1_age_50[\"분류카테고리\"].hist() "
   ]
  },
  {
   "cell_type": "code",
   "execution_count": 58,
   "metadata": {},
   "outputs": [
    {
     "data": {
      "text/plain": [
       "<matplotlib.axes._subplots.AxesSubplot at 0x7fd9d9f521d0>"
      ]
     },
     "execution_count": 58,
     "metadata": {},
     "output_type": "execute_result"
    },
    {
     "data": {
      "image/png": "[encoded data removed]",
      "text/plain": [
       "<Figure size 1080x576 with 1 Axes>"
      ]
     },
     "metadata": {
      "needs_background": "light"
     },
     "output_type": "display_data"
    }
   ],
   "source": [
    "df1_age_60[\"분류카테고리\"].hist() "
   ]
  },
  {
   "cell_type": "code",
   "execution_count": 59,
   "metadata": {},
   "outputs": [
    {
     "data": {
      "text/plain": [
       "<matplotlib.axes._subplots.AxesSubplot at 0x7fd9da0f5710>"
      ]
     },
     "execution_count": 59,
     "metadata": {},
     "output_type": "execute_result"
    },
    {
     "data": {
      "image/png": "[encoded data removed]",
      "text/plain": [
       "<Figure size 1080x576 with 1 Axes>"
      ]
     },
     "metadata": {
      "needs_background": "light"
     },
     "output_type": "display_data"
    }
   ],
   "source": [
    "df1_age_70[\"분류카테고리\"].hist() "
   ]
  },
  {
   "cell_type": "code",
   "execution_count": 60,
   "metadata": {},
   "outputs": [
    {
     "data": {
      "text/plain": [
       "<matplotlib.axes._subplots.AxesSubplot at 0x7fd9d9f197d0>"
      ]
     },
     "execution_count": 60,
     "metadata": {},
     "output_type": "execute_result"
    },
    {
     "data": {
      "image/png": "[encoded data removed]",
      "text/plain": [
       "<Figure size 1080x576 with 1 Axes>"
      ]
     },
     "metadata": {
      "needs_background": "light"
     },
     "output_type": "display_data"
    }
   ],
   "source": [
    "df1_age_80[\"분류카테고리\"].hist() "
   ]
  }
 ],
 "metadata": {
  "kernelspec": {
   "display_name": "Python 3",
   "language": "python",
   "name": "python3"
  },
  "language_info": {
   "codemirror_mode": {
    "name": "ipython",
    "version": 3
   },
   "file_extension": ".py",
   "mimetype": "text/x-python",
   "name": "python",
   "nbconvert_exporter": "python",
   "pygments_lexer": "ipython3",
   "version": "3.7.6"
  }
 },
 "nbformat": 4,
 "nbformat_minor": 4
}
