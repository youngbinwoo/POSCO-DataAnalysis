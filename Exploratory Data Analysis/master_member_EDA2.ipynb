{
 "cells": [
  {
   "cell_type": "code",
   "execution_count": 40,
   "metadata": {},
   "outputs": [],
   "source": [
    "import pandas as pd\n",
    "import numpy as np\n",
    "import matplotlib.pyplot as plt\n",
    "import matplotlib\n",
    "from matplotlib import style\n",
    "import seaborn as sns\n",
    "# from sklearn.tree import export_graphviz\n",
    "# import graphviz\n",
    "\n",
    "# from sklearn.model_selection import train_test_split\n",
    "# from sklearn.tree import DecisionTreeRegressor\n",
    "# from sklearn.ensemble import RandomForestRegressor\n",
    "# from sklearn.model_selection import GridSearchCV\n",
    "# from sklearn.ensemble import GradientBoostingRegressor\n",
    "\n",
    "# from sklearn.preprocessing import scale, minmax_scale, robust_scale\n",
    "\n",
    "matplotlib.rc('font', family='NanumGothic')\n",
    "matplotlib.rcParams['axes.unicode_minus'] = False"
   ]
  },
  {
   "cell_type": "code",
   "execution_count": 9,
   "metadata": {},
   "outputs": [
    {
     "data": {
      "text/html": [
       "<div>\n",
       "<style scoped>\n",
       "    .dataframe tbody tr th:only-of-type {\n",
       "        vertical-align: middle;\n",
       "    }\n",
       "\n",
       "    .dataframe tbody tr th {\n",
       "        vertical-align: top;\n",
       "    }\n",
       "\n",
       "    .dataframe thead th {\n",
       "        text-align: right;\n",
       "    }\n",
       "</style>\n",
       "<table border=\"1\" class=\"dataframe\">\n",
       "  <thead>\n",
       "    <tr style=\"text-align: right;\">\n",
       "      <th></th>\n",
       "      <th>Unnamed: 0</th>\n",
       "      <th>ID</th>\n",
       "      <th>나이</th>\n",
       "      <th>사용가능 적립금</th>\n",
       "      <th>성별</th>\n",
       "      <th>주소(동/읍/면)</th>\n",
       "      <th>최종접속일</th>\n",
       "      <th>최종주문일</th>\n",
       "      <th>유입경로</th>\n",
       "      <th>유입기기</th>\n",
       "      <th>회원 가입일</th>\n",
       "      <th>사업자구분</th>\n",
       "      <th>회원구분</th>\n",
       "    </tr>\n",
       "  </thead>\n",
       "  <tbody>\n",
       "    <tr>\n",
       "      <th>0</th>\n",
       "      <td>0</td>\n",
       "      <td>sr7577</td>\n",
       "      <td>40대</td>\n",
       "      <td>0</td>\n",
       "      <td>남자</td>\n",
       "      <td>경기도 평택시 현신3길 76 (용이동)</td>\n",
       "      <td>2016-12-30 오후 5:57</td>\n",
       "      <td>2016-12-30</td>\n",
       "      <td>블로그광고</td>\n",
       "      <td>PC</td>\n",
       "      <td>2016-12-30</td>\n",
       "      <td>개인</td>\n",
       "      <td>일반</td>\n",
       "    </tr>\n",
       "    <tr>\n",
       "      <th>1</th>\n",
       "      <td>1</td>\n",
       "      <td>cgh1385</td>\n",
       "      <td>50대</td>\n",
       "      <td>0</td>\n",
       "      <td>남자</td>\n",
       "      <td>전라북도 전주시 덕진구 동부대로 879 (호성동1가)</td>\n",
       "      <td>2017-01-02 오후 12:32</td>\n",
       "      <td>2017-01-01 오후 3:38</td>\n",
       "      <td>블로그광고</td>\n",
       "      <td>모바일</td>\n",
       "      <td>2017-01-01</td>\n",
       "      <td>개인</td>\n",
       "      <td>일반</td>\n",
       "    </tr>\n",
       "  </tbody>\n",
       "</table>\n",
       "</div>"
      ],
      "text/plain": [
       "   Unnamed: 0       ID   나이  사용가능 적립금  성별                      주소(동/읍/면)  \\\n",
       "0           0   sr7577  40대         0  남자          경기도 평택시 현신3길 76 (용이동)   \n",
       "1           1  cgh1385  50대         0  남자  전라북도 전주시 덕진구 동부대로 879 (호성동1가)   \n",
       "\n",
       "                 최종접속일               최종주문일   유입경로 유입기기      회원 가입일 사업자구분 회원구분  \n",
       "0   2016-12-30 오후 5:57          2016-12-30  블로그광고   PC  2016-12-30    개인   일반  \n",
       "1  2017-01-02 오후 12:32  2017-01-01 오후 3:38  블로그광고  모바일  2017-01-01    개인   일반  "
      ]
     },
     "execution_count": 9,
     "metadata": {},
     "output_type": "execute_result"
    }
   ],
   "source": [
    "df_member = pd.read_csv(\"./DataSet/master_member_sheet_001.csv\", engine='python')\n",
    "df_member.head(2)"
   ]
  },
  {
   "cell_type": "code",
   "execution_count": 10,
   "metadata": {
    "scrolled": true
   },
   "outputs": [
    {
     "data": {
      "text/html": [
       "<div>\n",
       "<style scoped>\n",
       "    .dataframe tbody tr th:only-of-type {\n",
       "        vertical-align: middle;\n",
       "    }\n",
       "\n",
       "    .dataframe tbody tr th {\n",
       "        vertical-align: top;\n",
       "    }\n",
       "\n",
       "    .dataframe thead th {\n",
       "        text-align: right;\n",
       "    }\n",
       "</style>\n",
       "<table border=\"1\" class=\"dataframe\">\n",
       "  <thead>\n",
       "    <tr style=\"text-align: right;\">\n",
       "      <th></th>\n",
       "      <th>Unnamed: 0</th>\n",
       "      <th>결제수단</th>\n",
       "      <th>공급원가</th>\n",
       "      <th>교환구분</th>\n",
       "      <th>네이버 포인트</th>\n",
       "      <th>배송번호</th>\n",
       "      <th>배송비 정보</th>\n",
       "      <th>배송시작일</th>\n",
       "      <th>배송완료일</th>\n",
       "      <th>사용한 적립금액</th>\n",
       "      <th>...</th>\n",
       "      <th>주문자ID</th>\n",
       "      <th>카드사</th>\n",
       "      <th>쿠폰 할인금액</th>\n",
       "      <th>판매가</th>\n",
       "      <th>품목번호</th>\n",
       "      <th>친환경</th>\n",
       "      <th>사은품</th>\n",
       "      <th>회원</th>\n",
       "      <th>주문수량</th>\n",
       "      <th>총수량</th>\n",
       "    </tr>\n",
       "  </thead>\n",
       "  <tbody>\n",
       "    <tr>\n",
       "      <th>0</th>\n",
       "      <td>0</td>\n",
       "      <td>무통장입금</td>\n",
       "      <td>44550.0</td>\n",
       "      <td>교환안함</td>\n",
       "      <td>0</td>\n",
       "      <td>D-20181227-0000648-00</td>\n",
       "      <td>무료</td>\n",
       "      <td>2019-01-07 오전 8:56</td>\n",
       "      <td>2019-01-11 오전 5:32</td>\n",
       "      <td>0</td>\n",
       "      <td>...</td>\n",
       "      <td>pp683</td>\n",
       "      <td>기타</td>\n",
       "      <td>0</td>\n",
       "      <td>71450</td>\n",
       "      <td>42602</td>\n",
       "      <td>False</td>\n",
       "      <td>False</td>\n",
       "      <td>True</td>\n",
       "      <td>1</td>\n",
       "      <td>300</td>\n",
       "    </tr>\n",
       "    <tr>\n",
       "      <th>1</th>\n",
       "      <td>1</td>\n",
       "      <td>무통장입금</td>\n",
       "      <td>44000.0</td>\n",
       "      <td>교환안함</td>\n",
       "      <td>0</td>\n",
       "      <td>D-20181229-0000119-00</td>\n",
       "      <td>무료</td>\n",
       "      <td>2019-01-03 오전 9:30</td>\n",
       "      <td>2019-01-07 오전 5:32</td>\n",
       "      <td>0</td>\n",
       "      <td>...</td>\n",
       "      <td>asd0908</td>\n",
       "      <td>기타</td>\n",
       "      <td>0</td>\n",
       "      <td>70620</td>\n",
       "      <td>42930</td>\n",
       "      <td>False</td>\n",
       "      <td>False</td>\n",
       "      <td>True</td>\n",
       "      <td>2</td>\n",
       "      <td>2000</td>\n",
       "    </tr>\n",
       "  </tbody>\n",
       "</table>\n",
       "<p>2 rows × 28 columns</p>\n",
       "</div>"
      ],
      "text/plain": [
       "   Unnamed: 0   결제수단     공급원가  교환구분  네이버 포인트                   배송번호 배송비 정보  \\\n",
       "0           0  무통장입금  44550.0  교환안함        0  D-20181227-0000648-00     무료   \n",
       "1           1  무통장입금  44000.0  교환안함        0  D-20181229-0000119-00     무료   \n",
       "\n",
       "                배송시작일               배송완료일  사용한 적립금액  ...    주문자ID 카드사 쿠폰 할인금액  \\\n",
       "0  2019-01-07 오전 8:56  2019-01-11 오전 5:32         0  ...    pp683  기타       0   \n",
       "1  2019-01-03 오전 9:30  2019-01-07 오전 5:32         0  ...  asd0908  기타       0   \n",
       "\n",
       "     판매가   품목번호    친환경    사은품    회원 주문수량   총수량  \n",
       "0  71450  42602  False  False  True    1   300  \n",
       "1  70620  42930  False  False  True    2  2000  \n",
       "\n",
       "[2 rows x 28 columns]"
      ]
     },
     "execution_count": 10,
     "metadata": {},
     "output_type": "execute_result"
    }
   ],
   "source": [
    "df_order = pd.read_csv(\"./DataSet/log_order_sheet_001.csv\", engine='python')\n",
    "df_order.head(2)"
   ]
  },
  {
   "cell_type": "code",
   "execution_count": 15,
   "metadata": {},
   "outputs": [
    {
     "data": {
      "text/html": [
       "<div>\n",
       "<style scoped>\n",
       "    .dataframe tbody tr th:only-of-type {\n",
       "        vertical-align: middle;\n",
       "    }\n",
       "\n",
       "    .dataframe tbody tr th {\n",
       "        vertical-align: top;\n",
       "    }\n",
       "\n",
       "    .dataframe thead th {\n",
       "        text-align: right;\n",
       "    }\n",
       "</style>\n",
       "<table border=\"1\" class=\"dataframe\">\n",
       "  <thead>\n",
       "    <tr style=\"text-align: right;\">\n",
       "      <th></th>\n",
       "      <th>Unnamed: 0</th>\n",
       "      <th>#</th>\n",
       "      <th>공급사</th>\n",
       "      <th>과세/면세</th>\n",
       "      <th>담기</th>\n",
       "      <th>매입가</th>\n",
       "      <th>상품명(기본)</th>\n",
       "      <th>상품코드</th>\n",
       "      <th>재입고알림</th>\n",
       "      <th>카테고리</th>\n",
       "      <th>판매가</th>\n",
       "      <th>품절여부</th>\n",
       "      <th>후기</th>\n",
       "    </tr>\n",
       "  </thead>\n",
       "  <tbody>\n",
       "    <tr>\n",
       "      <th>0</th>\n",
       "      <td>0</td>\n",
       "      <td>1</td>\n",
       "      <td>패커스</td>\n",
       "      <td>과세</td>\n",
       "      <td>0</td>\n",
       "      <td>55440</td>\n",
       "      <td>실링용기 71호 백색 2,200ml 400개 1박스</td>\n",
       "      <td>2184</td>\n",
       "      <td>사용함</td>\n",
       "      <td>018 : 실링용기\\n018002 : 실링용기 &gt; 2319(2318)시리즈\\n042...</td>\n",
       "      <td>77480</td>\n",
       "      <td>정상</td>\n",
       "      <td>0</td>\n",
       "    </tr>\n",
       "    <tr>\n",
       "      <th>1</th>\n",
       "      <td>1</td>\n",
       "      <td>2</td>\n",
       "      <td>(주)니드코</td>\n",
       "      <td>과세</td>\n",
       "      <td>0</td>\n",
       "      <td>3080</td>\n",
       "      <td>니드코]국산제품 정식쟁반,병원식판,분식점 돈까스쟁반 업소용 화이트 항균아트쟁반 5호</td>\n",
       "      <td>2181</td>\n",
       "      <td>사용안함</td>\n",
       "      <td>002 : 주방용품\\n002002 : 주방용품 &gt; 주방용품\\n046 : 주방용품/소...</td>\n",
       "      <td>4950</td>\n",
       "      <td>정상</td>\n",
       "      <td>0</td>\n",
       "    </tr>\n",
       "  </tbody>\n",
       "</table>\n",
       "</div>"
      ],
      "text/plain": [
       "   Unnamed: 0  #     공급사 과세/면세  담기    매입가  \\\n",
       "0           0  1     패커스    과세   0  55440   \n",
       "1           1  2  (주)니드코    과세   0   3080   \n",
       "\n",
       "                                          상품명(기본)  상품코드 재입고알림  \\\n",
       "0                    실링용기 71호 백색 2,200ml 400개 1박스  2184   사용함   \n",
       "1  니드코]국산제품 정식쟁반,병원식판,분식점 돈까스쟁반 업소용 화이트 항균아트쟁반 5호  2181  사용안함   \n",
       "\n",
       "                                                카테고리    판매가 품절여부  후기  \n",
       "0  018 : 실링용기\\n018002 : 실링용기 > 2319(2318)시리즈\\n042...  77480   정상   0  \n",
       "1  002 : 주방용품\\n002002 : 주방용품 > 주방용품\\n046 : 주방용품/소...   4950   정상   0  "
      ]
     },
     "execution_count": 15,
     "metadata": {},
     "output_type": "execute_result"
    }
   ],
   "source": [
    "df_product = pd.read_csv(\"./DataSet/master_product_sheet_001.csv\", engine='python')\n",
    "df_product.head(2)"
   ]
  },
  {
   "cell_type": "markdown",
   "metadata": {},
   "source": [
    "## 범주형 변수 분포 확인(Pie Chart)"
   ]
  },
  {
   "cell_type": "code",
   "execution_count": 19,
   "metadata": {},
   "outputs": [
    {
     "data": {
      "text/plain": [
       "SNS광고      1087\n",
       "블로그광고      1060\n",
       "유튜브광고       944\n",
       "전단지광고       861\n",
       "이메일광고       607\n",
       "잡지광고        503\n",
       "인터넷검색       423\n",
       "지인추천        389\n",
       "기타          267\n",
       "카카오톡광고      180\n",
       "인터넷기사광고     158\n",
       "신문광고         44\n",
       "Name: 유입경로, dtype: int64"
      ]
     },
     "execution_count": 19,
     "metadata": {},
     "output_type": "execute_result"
    }
   ],
   "source": [
    "# 나이 분포\n",
    "\n",
    "df_member[\"나이\"].value_counts()"
   ]
  },
  {
   "cell_type": "code",
   "execution_count": 18,
   "metadata": {
    "scrolled": true
   },
   "outputs": [
    {
     "data": {
      "image/png": "[encoded data removed]",
      "text/plain": [
       "<Figure size 432x288 with 1 Axes>"
      ]
     },
     "metadata": {},
     "output_type": "display_data"
    }
   ],
   "source": [
    "# labels = ['40대', '30대', '20대', '50대', '60대', '70대', '80대']\n",
    "ratio = [3614, 1902, 821, 125, 36, 18, 5]\n",
    "categories = ['40대', '30대', '20대', '50대', '60대', '70대', '80대']\n",
    "explodes = (0.1, 0, 0)\n",
    "plt.pie(ratio, autopct=\"%0.1f%%\")\n",
    "plt.legend(categories)\n",
    "plt.show()"
   ]
  },
  {
   "cell_type": "code",
   "execution_count": 30,
   "metadata": {},
   "outputs": [
    {
     "data": {
      "text/plain": [
       "<matplotlib.axes._subplots.AxesSubplot at 0x7f595c671710>"
      ]
     },
     "execution_count": 30,
     "metadata": {},
     "output_type": "execute_result"
    },
    {
     "data": {
      "image/png": "[encoded data removed]",
      "text/plain": [
       "<Figure size 432x288 with 1 Axes>"
      ]
     },
     "metadata": {
      "needs_background": "light"
     },
     "output_type": "display_data"
    }
   ],
   "source": [
    "df_member['나이'].value_counts().plot(kind='bar')"
   ]
  },
  {
   "cell_type": "code",
   "execution_count": 22,
   "metadata": {},
   "outputs": [
    {
     "data": {
      "text/plain": [
       "PC쇼핑몰     25695\n",
       "모바일웹      18531\n",
       "네이버 페이     2523\n",
       "Name: 주문경로, dtype: int64"
      ]
     },
     "execution_count": 22,
     "metadata": {},
     "output_type": "execute_result"
    }
   ],
   "source": [
    "# 주문경로\n",
    "df_order[\"주문경로\"].value_counts()"
   ]
  },
  {
   "cell_type": "code",
   "execution_count": 34,
   "metadata": {},
   "outputs": [
    {
     "data": {
      "image/png": "[encoded data removed]",
      "text/plain": [
       "<Figure size 432x288 with 1 Axes>"
      ]
     },
     "metadata": {},
     "output_type": "display_data"
    }
   ],
   "source": [
    "labels = ['PC쇼핑몰', '모바일웹', '네이버페이']\n",
    "ratio = [25695, 18531, 2523]\n",
    "# categories = ['40대', '30대', '20대', '50대', '60대', '70대', '80대']\n",
    "explodes = (0.1, 0, 0)\n",
    "plt.pie(ratio, labels=labels, autopct=\"%0.1f%%\")\n",
    "plt.show()"
   ]
  },
  {
   "cell_type": "code",
   "execution_count": 35,
   "metadata": {
    "scrolled": true
   },
   "outputs": [
    {
     "data": {
      "text/plain": [
       "<matplotlib.axes._subplots.AxesSubplot at 0x7f595c570cd0>"
      ]
     },
     "execution_count": 35,
     "metadata": {},
     "output_type": "execute_result"
    },
    {
     "data": {
      "image/png": "[encoded data removed]",
      "text/plain": [
       "<Figure size 432x288 with 1 Axes>"
      ]
     },
     "metadata": {
      "needs_background": "light"
     },
     "output_type": "display_data"
    }
   ],
   "source": [
    "# 유입경로\n",
    "df_member[\"유입경로\"].value_counts().plot(kind='bar')"
   ]
  },
  {
   "cell_type": "code",
   "execution_count": 36,
   "metadata": {},
   "outputs": [
    {
     "data": {
      "text/plain": [
       "SNS광고      1087\n",
       "블로그광고      1060\n",
       "유튜브광고       944\n",
       "전단지광고       861\n",
       "이메일광고       607\n",
       "잡지광고        503\n",
       "인터넷검색       423\n",
       "지인추천        389\n",
       "기타          267\n",
       "카카오톡광고      180\n",
       "인터넷기사광고     158\n",
       "신문광고         44\n",
       "Name: 유입경로, dtype: int64"
      ]
     },
     "execution_count": 36,
     "metadata": {},
     "output_type": "execute_result"
    }
   ],
   "source": [
    "df_member[\"유입경로\"].value_counts()"
   ]
  },
  {
   "cell_type": "code",
   "execution_count": 46,
   "metadata": {},
   "outputs": [
    {
     "data": {
      "image/png": "[encoded data removed]",
      "text/plain": [
       "<Figure size 864x576 with 1 Axes>"
      ]
     },
     "metadata": {},
     "output_type": "display_data"
    }
   ],
   "source": [
    "style.use('ggplot')\n",
    "\n",
    "path = ['SNS광고', '블로그광고', '유튜브광고', '전단지광고', '이메일광고', '잡지광고', '인터넷검색', '지인추천', '기타', '카카오톡광고', '인터넷기사광고', '신문광고']\n",
    "fluctuations = [1087, 1060, 944, 861, 607, 503, 423, 389, 267, 180, 158, 44]\n",
    "\n",
    "fig = plt.figure(figsize=(12, 8))\n",
    "ax = fig.add_subplot(111)\n",
    "\n",
    "ypos = np.arange(12)\n",
    "rects = plt.barh(ypos, fluctuations, align='center', height=0.5)\n",
    "plt.yticks(ypos, path)\n",
    "\n",
    "for i, rect in enumerate(rects):\n",
    "    ax.text(0.95 * rect.get_width(), rect.get_y() + rect.get_height() / 2.0, str(fluctuations[i]), ha='right', va='center')\n",
    "\n",
    "plt.xlabel('유입률')\n",
    "plt.show()"
   ]
  },
  {
   "cell_type": "code",
   "execution_count": 47,
   "metadata": {},
   "outputs": [
    {
     "data": {
      "text/plain": [
       "기타               32005\n",
       "삼성                3168\n",
       "신한(구.LG카드 포함)     3024\n",
       "현대                2219\n",
       "비씨                1887\n",
       "국민                1474\n",
       "NH (농협)           1116\n",
       "롯데                 910\n",
       "하나SK               350\n",
       "외환                 236\n",
       "씨티                 165\n",
       "카카오뱅크               70\n",
       "광주                  39\n",
       "신한                  29\n",
       "신협                  21\n",
       "전북                  17\n",
       "제주                  11\n",
       "수협                   5\n",
       "국내아멕스                3\n",
       "Name: 카드사, dtype: int64"
      ]
     },
     "execution_count": 47,
     "metadata": {},
     "output_type": "execute_result"
    }
   ],
   "source": [
    "# 카드사 분포 확인 => 너무 복잡한 것 아닌가?\n",
    "df_order[\"카드사\"].value_counts()"
   ]
  },
  {
   "cell_type": "code",
   "execution_count": null,
   "metadata": {},
   "outputs": [],
   "source": [
    "# 인기상품 척도"
   ]
  },
  {
   "cell_type": "code",
   "execution_count": null,
   "metadata": {},
   "outputs": [],
   "source": []
  }
 ],
 "metadata": {
  "kernelspec": {
   "display_name": "Python 3",
   "language": "python",
   "name": "python3"
  },
  "language_info": {
   "codemirror_mode": {
    "name": "ipython",
    "version": 3
   },
   "file_extension": ".py",
   "mimetype": "text/x-python",
   "name": "python",
   "nbconvert_exporter": "python",
   "pygments_lexer": "ipython3",
   "version": "3.7.6"
  }
 },
 "nbformat": 4,
 "nbformat_minor": 4
}
